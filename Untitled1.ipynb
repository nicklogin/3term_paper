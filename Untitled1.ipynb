{
 "cells": [
  {
   "cell_type": "code",
   "execution_count": 1,
   "metadata": {},
   "outputs": [],
   "source": [
    "import ufal.udpipe"
   ]
  },
  {
   "cell_type": "code",
   "execution_count": 3,
   "metadata": {},
   "outputs": [],
   "source": [
    "from stattool.settings import LANG_MODEL_PATH"
   ]
  },
  {
   "cell_type": "code",
   "execution_count": 4,
   "metadata": {},
   "outputs": [
    {
     "data": {
      "text/plain": [
       "'C:\\\\HP_PC\\\\hp_pc\\\\Studies\\\\3rd-year-thesis\\\\Udpipe_Models\\\\english-ewt-ud-2.3-181115.udpipe'"
      ]
     },
     "execution_count": 4,
     "metadata": {},
     "output_type": "execute_result"
    }
   ],
   "source": [
    "LANG_MODEL_PATH"
   ]
  },
  {
   "cell_type": "code",
   "execution_count": 6,
   "metadata": {},
   "outputs": [],
   "source": [
    "model = ufal.udpipe.Model.load(LANG_MODEL_PATH)"
   ]
  },
  {
   "cell_type": "code",
   "execution_count": 8,
   "metadata": {},
   "outputs": [
    {
     "ename": "NotImplementedError",
     "evalue": "Wrong number or type of arguments for overloaded function 'Model_tag'.\n  Possible C/C++ prototypes are:\n    model::tag(sentence &,std::string const &,ProcessingError *) const\n    model::tag(sentence &,std::string const &) const\n",
     "output_type": "error",
     "traceback": [
      "\u001b[1;31m---------------------------------------------------------------------------\u001b[0m",
      "\u001b[1;31mNotImplementedError\u001b[0m                       Traceback (most recent call last)",
      "\u001b[1;32m<ipython-input-8-dd4393311b14>\u001b[0m in \u001b[0;36m<module>\u001b[1;34m\u001b[0m\n\u001b[1;32m----> 1\u001b[1;33m \u001b[0mmodel\u001b[0m\u001b[1;33m.\u001b[0m\u001b[0mtag\u001b[0m\u001b[1;33m(\u001b[0m\u001b[1;34m\"Colourless green ideas sleep furiously\"\u001b[0m\u001b[1;33m.\u001b[0m\u001b[0msplit\u001b[0m\u001b[1;33m(\u001b[0m\u001b[1;34m\" \"\u001b[0m\u001b[1;33m)\u001b[0m\u001b[1;33m)\u001b[0m\u001b[1;33m\u001b[0m\u001b[1;33m\u001b[0m\u001b[0m\n\u001b[0m",
      "\u001b[1;31mNotImplementedError\u001b[0m: Wrong number or type of arguments for overloaded function 'Model_tag'.\n  Possible C/C++ prototypes are:\n    model::tag(sentence &,std::string const &,ProcessingError *) const\n    model::tag(sentence &,std::string const &) const\n"
     ]
    }
   ],
   "source": [
    "model.tag(\"Colourless green ideas sleep furiously\".split(\" \"))"
   ]
  },
  {
   "cell_type": "code",
   "execution_count": 21,
   "metadata": {},
   "outputs": [],
   "source": [
    "string = \"Colourless green ideas sleep furiously. I want to break free!\""
   ]
  },
  {
   "cell_type": "code",
   "execution_count": 24,
   "metadata": {},
   "outputs": [],
   "source": [
    "pipeline = ufal.udpipe.Pipeline(model, 'generic_tokenizer', ufal.udpipe.Pipeline.DEFAULT, ufal.udpipe.Pipeline.DEFAULT,\n",
    "                               'epe')"
   ]
  },
  {
   "cell_type": "code",
   "execution_count": 38,
   "metadata": {},
   "outputs": [
    {
     "data": {
      "text/plain": [
       "'{\"id\":1, \"nodes\":[{\"id\":1, \"form\":\"Colourless\", \"properties\":{\"lemma\":\"Colourless\", \"upos\":\"ADJ\", \"xpos\":\"JJS\", \"Degree\":\"Sup\"}}, {\"id\":2, \"form\":\"green\", \"properties\":{\"lemma\":\"green\", \"upos\":\"ADJ\", \"xpos\":\"JJ\", \"Degree\":\"Pos\"}}, {\"id\":3, \"form\":\"ideas\", \"properties\":{\"lemma\":\"idea\", \"upos\":\"NOUN\", \"xpos\":\"NNS\", \"Number\":\"Plur\"}, \"edges\":[{\"label\":\"amod\", \"target\":1}, {\"label\":\"amod\", \"target\":2}]}, {\"id\":4, \"form\":\"sleep\", \"top\":true, \"properties\":{\"lemma\":\"sleep\", \"upos\":\"VERB\", \"xpos\":\"VBP\", \"Mood\":\"Ind\", \"Tense\":\"Pres\", \"VerbForm\":\"Fin\"}, \"edges\":[{\"label\":\"nsubj\", \"target\":3}, {\"label\":\"advmod\", \"target\":5}, {\"label\":\"punct\", \"target\":6}]}, {\"id\":5, \"form\":\"furiously\", \"properties\":{\"lemma\":\"furiously\", \"upos\":\"ADV\", \"xpos\":\"RB\"}}, {\"id\":6, \"form\":\".\", \"properties\":{\"lemma\":\".\", \"upos\":\"PUNCT\", \"xpos\":\".\"}}]}\\n{\"id\":2, \"nodes\":[{\"id\":1, \"form\":\"I\", \"properties\":{\"lemma\":\"I\", \"upos\":\"PRON\", \"xpos\":\"PRP\", \"Case\":\"Nom\", \"Number\":\"Sing\", \"Person\":\"1\", \"PronType\":\"Prs\"}}, {\"id\":2, \"form\":\"want\", \"top\":true, \"properties\":{\"lemma\":\"want\", \"upos\":\"VERB\", \"xpos\":\"VBP\", \"Mood\":\"Ind\", \"Tense\":\"Pres\", \"VerbForm\":\"Fin\"}, \"edges\":[{\"label\":\"nsubj\", \"target\":1}, {\"label\":\"xcomp\", \"target\":4}, {\"label\":\"punct\", \"target\":6}]}, {\"id\":3, \"form\":\"to\", \"properties\":{\"lemma\":\"to\", \"upos\":\"PART\", \"xpos\":\"TO\"}}, {\"id\":4, \"form\":\"break\", \"properties\":{\"lemma\":\"break\", \"upos\":\"VERB\", \"xpos\":\"VB\", \"VerbForm\":\"Inf\"}, \"edges\":[{\"label\":\"mark\", \"target\":3}, {\"label\":\"obj\", \"target\":5}]}, {\"id\":5, \"form\":\"free\", \"properties\":{\"lemma\":\"free\", \"upos\":\"ADJ\", \"xpos\":\"JJ\", \"Degree\":\"Pos\"}}, {\"id\":6, \"form\":\"!\", \"properties\":{\"lemma\":\"!\", \"upos\":\"PUNCT\", \"xpos\":\".\"}}]}\\n'"
      ]
     },
     "execution_count": 38,
     "metadata": {},
     "output_type": "execute_result"
    }
   ],
   "source": [
    "pipeline.process(string)"
   ]
  },
  {
   "cell_type": "code",
   "execution_count": 44,
   "metadata": {},
   "outputs": [
    {
     "data": {
      "text/plain": [
       "[{'id': 1,\n",
       "  'nodes': [{'id': 1,\n",
       "    'form': 'Colourless',\n",
       "    'properties': {'lemma': 'Colourless',\n",
       "     'upos': 'ADJ',\n",
       "     'xpos': 'JJS',\n",
       "     'Degree': 'Sup'}},\n",
       "   {'id': 2,\n",
       "    'form': 'green',\n",
       "    'properties': {'lemma': 'green',\n",
       "     'upos': 'ADJ',\n",
       "     'xpos': 'JJ',\n",
       "     'Degree': 'Pos'}},\n",
       "   {'id': 3,\n",
       "    'form': 'ideas',\n",
       "    'properties': {'lemma': 'idea',\n",
       "     'upos': 'NOUN',\n",
       "     'xpos': 'NNS',\n",
       "     'Number': 'Plur'},\n",
       "    'edges': [{'label': 'amod', 'target': 1}, {'label': 'amod', 'target': 2}]},\n",
       "   {'id': 4,\n",
       "    'form': 'sleep',\n",
       "    'top': True,\n",
       "    'properties': {'lemma': 'sleep',\n",
       "     'upos': 'VERB',\n",
       "     'xpos': 'VBP',\n",
       "     'Mood': 'Ind',\n",
       "     'Tense': 'Pres',\n",
       "     'VerbForm': 'Fin'},\n",
       "    'edges': [{'label': 'nsubj', 'target': 3},\n",
       "     {'label': 'advmod', 'target': 5},\n",
       "     {'label': 'punct', 'target': 6}]},\n",
       "   {'id': 5,\n",
       "    'form': 'furiously',\n",
       "    'properties': {'lemma': 'furiously', 'upos': 'ADV', 'xpos': 'RB'}},\n",
       "   {'id': 6,\n",
       "    'form': '.',\n",
       "    'properties': {'lemma': '.', 'upos': 'PUNCT', 'xpos': '.'}}]},\n",
       " {'id': 2,\n",
       "  'nodes': [{'id': 1,\n",
       "    'form': 'I',\n",
       "    'properties': {'lemma': 'I',\n",
       "     'upos': 'PRON',\n",
       "     'xpos': 'PRP',\n",
       "     'Case': 'Nom',\n",
       "     'Number': 'Sing',\n",
       "     'Person': '1',\n",
       "     'PronType': 'Prs'}},\n",
       "   {'id': 2,\n",
       "    'form': 'want',\n",
       "    'top': True,\n",
       "    'properties': {'lemma': 'want',\n",
       "     'upos': 'VERB',\n",
       "     'xpos': 'VBP',\n",
       "     'Mood': 'Ind',\n",
       "     'Tense': 'Pres',\n",
       "     'VerbForm': 'Fin'},\n",
       "    'edges': [{'label': 'nsubj', 'target': 1},\n",
       "     {'label': 'xcomp', 'target': 4},\n",
       "     {'label': 'punct', 'target': 6}]},\n",
       "   {'id': 3,\n",
       "    'form': 'to',\n",
       "    'properties': {'lemma': 'to', 'upos': 'PART', 'xpos': 'TO'}},\n",
       "   {'id': 4,\n",
       "    'form': 'break',\n",
       "    'properties': {'lemma': 'break',\n",
       "     'upos': 'VERB',\n",
       "     'xpos': 'VB',\n",
       "     'VerbForm': 'Inf'},\n",
       "    'edges': [{'label': 'mark', 'target': 3}, {'label': 'obj', 'target': 5}]},\n",
       "   {'id': 5,\n",
       "    'form': 'free',\n",
       "    'properties': {'lemma': 'free',\n",
       "     'upos': 'ADJ',\n",
       "     'xpos': 'JJ',\n",
       "     'Degree': 'Pos'}},\n",
       "   {'id': 6,\n",
       "    'form': '!',\n",
       "    'properties': {'lemma': '!', 'upos': 'PUNCT', 'xpos': '.'}}]}]"
      ]
     },
     "execution_count": 44,
     "metadata": {},
     "output_type": "execute_result"
    }
   ],
   "source": [
    "json.loads('['+pipeline.process(string).strip().replace('\\n', ',')+']')"
   ]
  },
  {
   "cell_type": "code",
   "execution_count": 42,
   "metadata": {},
   "outputs": [
    {
     "data": {
      "text/plain": [
       "'[{\"id\":1, \"nodes\":[{\"id\":1, \"form\":\"Colourless\", \"properties\":{\"lemma\":\"Colourless\", \"upos\":\"ADJ\", \"xpos\":\"JJS\", \"Degree\":\"Sup\"}}, {\"id\":2, \"form\":\"green\", \"properties\":{\"lemma\":\"green\", \"upos\":\"ADJ\", \"xpos\":\"JJ\", \"Degree\":\"Pos\"}}, {\"id\":3, \"form\":\"ideas\", \"properties\":{\"lemma\":\"idea\", \"upos\":\"NOUN\", \"xpos\":\"NNS\", \"Number\":\"Plur\"}, \"edges\":[{\"label\":\"amod\", \"target\":1}, {\"label\":\"amod\", \"target\":2}]}, {\"id\":4, \"form\":\"sleep\", \"top\":true, \"properties\":{\"lemma\":\"sleep\", \"upos\":\"VERB\", \"xpos\":\"VBP\", \"Mood\":\"Ind\", \"Tense\":\"Pres\", \"VerbForm\":\"Fin\"}, \"edges\":[{\"label\":\"nsubj\", \"target\":3}, {\"label\":\"advmod\", \"target\":5}, {\"label\":\"punct\", \"target\":6}]}, {\"id\":5, \"form\":\"furiously\", \"properties\":{\"lemma\":\"furiously\", \"upos\":\"ADV\", \"xpos\":\"RB\"}}, {\"id\":6, \"form\":\".\", \"properties\":{\"lemma\":\".\", \"upos\":\"PUNCT\", \"xpos\":\".\"}}]},{\"id\":2, \"nodes\":[{\"id\":1, \"form\":\"I\", \"properties\":{\"lemma\":\"I\", \"upos\":\"PRON\", \"xpos\":\"PRP\", \"Case\":\"Nom\", \"Number\":\"Sing\", \"Person\":\"1\", \"PronType\":\"Prs\"}}, {\"id\":2, \"form\":\"want\", \"top\":true, \"properties\":{\"lemma\":\"want\", \"upos\":\"VERB\", \"xpos\":\"VBP\", \"Mood\":\"Ind\", \"Tense\":\"Pres\", \"VerbForm\":\"Fin\"}, \"edges\":[{\"label\":\"nsubj\", \"target\":1}, {\"label\":\"xcomp\", \"target\":4}, {\"label\":\"punct\", \"target\":6}]}, {\"id\":3, \"form\":\"to\", \"properties\":{\"lemma\":\"to\", \"upos\":\"PART\", \"xpos\":\"TO\"}}, {\"id\":4, \"form\":\"break\", \"properties\":{\"lemma\":\"break\", \"upos\":\"VERB\", \"xpos\":\"VB\", \"VerbForm\":\"Inf\"}, \"edges\":[{\"label\":\"mark\", \"target\":3}, {\"label\":\"obj\", \"target\":5}]}, {\"id\":5, \"form\":\"free\", \"properties\":{\"lemma\":\"free\", \"upos\":\"ADJ\", \"xpos\":\"JJ\", \"Degree\":\"Pos\"}}, {\"id\":6, \"form\":\"!\", \"properties\":{\"lemma\":\"!\", \"upos\":\"PUNCT\", \"xpos\":\".\"}}]},]'"
      ]
     },
     "execution_count": 42,
     "metadata": {},
     "output_type": "execute_result"
    }
   ],
   "source": [
    "'['+pipeline.process(string).replace('\\n', ',')+']'[:1668]"
   ]
  },
  {
   "cell_type": "code",
   "execution_count": 26,
   "metadata": {},
   "outputs": [],
   "source": [
    "import json"
   ]
  },
  {
   "cell_type": "code",
   "execution_count": 31,
   "metadata": {},
   "outputs": [
    {
     "ename": "JSONDecodeError",
     "evalue": "Expecting ',' delimiter: line 2 column 1 (char 828)",
     "output_type": "error",
     "traceback": [
      "\u001b[1;31m---------------------------------------------------------------------------\u001b[0m",
      "\u001b[1;31mJSONDecodeError\u001b[0m                           Traceback (most recent call last)",
      "\u001b[1;32m<ipython-input-31-e114e0244588>\u001b[0m in \u001b[0;36m<module>\u001b[1;34m\u001b[0m\n\u001b[1;32m----> 1\u001b[1;33m \u001b[0mjson\u001b[0m\u001b[1;33m.\u001b[0m\u001b[0mloads\u001b[0m\u001b[1;33m(\u001b[0m\u001b[1;34m'['\u001b[0m\u001b[1;33m+\u001b[0m\u001b[0mpipeline\u001b[0m\u001b[1;33m.\u001b[0m\u001b[0mprocess\u001b[0m\u001b[1;33m(\u001b[0m\u001b[0mstring\u001b[0m\u001b[1;33m)\u001b[0m\u001b[1;33m+\u001b[0m\u001b[1;34m']'\u001b[0m\u001b[1;33m)\u001b[0m\u001b[1;33m\u001b[0m\u001b[1;33m\u001b[0m\u001b[0m\n\u001b[0m",
      "\u001b[1;32mc:\\users\\k1l77\\appdata\\local\\programs\\python\\python37\\Lib\\json\\__init__.py\u001b[0m in \u001b[0;36mloads\u001b[1;34m(s, encoding, cls, object_hook, parse_float, parse_int, parse_constant, object_pairs_hook, **kw)\u001b[0m\n\u001b[0;32m    346\u001b[0m             \u001b[0mparse_int\u001b[0m \u001b[1;32mis\u001b[0m \u001b[1;32mNone\u001b[0m \u001b[1;32mand\u001b[0m \u001b[0mparse_float\u001b[0m \u001b[1;32mis\u001b[0m \u001b[1;32mNone\u001b[0m \u001b[1;32mand\u001b[0m\u001b[1;33m\u001b[0m\u001b[1;33m\u001b[0m\u001b[0m\n\u001b[0;32m    347\u001b[0m             parse_constant is None and object_pairs_hook is None and not kw):\n\u001b[1;32m--> 348\u001b[1;33m         \u001b[1;32mreturn\u001b[0m \u001b[0m_default_decoder\u001b[0m\u001b[1;33m.\u001b[0m\u001b[0mdecode\u001b[0m\u001b[1;33m(\u001b[0m\u001b[0ms\u001b[0m\u001b[1;33m)\u001b[0m\u001b[1;33m\u001b[0m\u001b[1;33m\u001b[0m\u001b[0m\n\u001b[0m\u001b[0;32m    349\u001b[0m     \u001b[1;32mif\u001b[0m \u001b[0mcls\u001b[0m \u001b[1;32mis\u001b[0m \u001b[1;32mNone\u001b[0m\u001b[1;33m:\u001b[0m\u001b[1;33m\u001b[0m\u001b[1;33m\u001b[0m\u001b[0m\n\u001b[0;32m    350\u001b[0m         \u001b[0mcls\u001b[0m \u001b[1;33m=\u001b[0m \u001b[0mJSONDecoder\u001b[0m\u001b[1;33m\u001b[0m\u001b[1;33m\u001b[0m\u001b[0m\n",
      "\u001b[1;32mc:\\users\\k1l77\\appdata\\local\\programs\\python\\python37\\Lib\\json\\decoder.py\u001b[0m in \u001b[0;36mdecode\u001b[1;34m(self, s, _w)\u001b[0m\n\u001b[0;32m    335\u001b[0m \u001b[1;33m\u001b[0m\u001b[0m\n\u001b[0;32m    336\u001b[0m         \"\"\"\n\u001b[1;32m--> 337\u001b[1;33m         \u001b[0mobj\u001b[0m\u001b[1;33m,\u001b[0m \u001b[0mend\u001b[0m \u001b[1;33m=\u001b[0m \u001b[0mself\u001b[0m\u001b[1;33m.\u001b[0m\u001b[0mraw_decode\u001b[0m\u001b[1;33m(\u001b[0m\u001b[0ms\u001b[0m\u001b[1;33m,\u001b[0m \u001b[0midx\u001b[0m\u001b[1;33m=\u001b[0m\u001b[0m_w\u001b[0m\u001b[1;33m(\u001b[0m\u001b[0ms\u001b[0m\u001b[1;33m,\u001b[0m \u001b[1;36m0\u001b[0m\u001b[1;33m)\u001b[0m\u001b[1;33m.\u001b[0m\u001b[0mend\u001b[0m\u001b[1;33m(\u001b[0m\u001b[1;33m)\u001b[0m\u001b[1;33m)\u001b[0m\u001b[1;33m\u001b[0m\u001b[1;33m\u001b[0m\u001b[0m\n\u001b[0m\u001b[0;32m    338\u001b[0m         \u001b[0mend\u001b[0m \u001b[1;33m=\u001b[0m \u001b[0m_w\u001b[0m\u001b[1;33m(\u001b[0m\u001b[0ms\u001b[0m\u001b[1;33m,\u001b[0m \u001b[0mend\u001b[0m\u001b[1;33m)\u001b[0m\u001b[1;33m.\u001b[0m\u001b[0mend\u001b[0m\u001b[1;33m(\u001b[0m\u001b[1;33m)\u001b[0m\u001b[1;33m\u001b[0m\u001b[1;33m\u001b[0m\u001b[0m\n\u001b[0;32m    339\u001b[0m         \u001b[1;32mif\u001b[0m \u001b[0mend\u001b[0m \u001b[1;33m!=\u001b[0m \u001b[0mlen\u001b[0m\u001b[1;33m(\u001b[0m\u001b[0ms\u001b[0m\u001b[1;33m)\u001b[0m\u001b[1;33m:\u001b[0m\u001b[1;33m\u001b[0m\u001b[1;33m\u001b[0m\u001b[0m\n",
      "\u001b[1;32mc:\\users\\k1l77\\appdata\\local\\programs\\python\\python37\\Lib\\json\\decoder.py\u001b[0m in \u001b[0;36mraw_decode\u001b[1;34m(self, s, idx)\u001b[0m\n\u001b[0;32m    351\u001b[0m         \"\"\"\n\u001b[0;32m    352\u001b[0m         \u001b[1;32mtry\u001b[0m\u001b[1;33m:\u001b[0m\u001b[1;33m\u001b[0m\u001b[1;33m\u001b[0m\u001b[0m\n\u001b[1;32m--> 353\u001b[1;33m             \u001b[0mobj\u001b[0m\u001b[1;33m,\u001b[0m \u001b[0mend\u001b[0m \u001b[1;33m=\u001b[0m \u001b[0mself\u001b[0m\u001b[1;33m.\u001b[0m\u001b[0mscan_once\u001b[0m\u001b[1;33m(\u001b[0m\u001b[0ms\u001b[0m\u001b[1;33m,\u001b[0m \u001b[0midx\u001b[0m\u001b[1;33m)\u001b[0m\u001b[1;33m\u001b[0m\u001b[1;33m\u001b[0m\u001b[0m\n\u001b[0m\u001b[0;32m    354\u001b[0m         \u001b[1;32mexcept\u001b[0m \u001b[0mStopIteration\u001b[0m \u001b[1;32mas\u001b[0m \u001b[0merr\u001b[0m\u001b[1;33m:\u001b[0m\u001b[1;33m\u001b[0m\u001b[1;33m\u001b[0m\u001b[0m\n\u001b[0;32m    355\u001b[0m             \u001b[1;32mraise\u001b[0m \u001b[0mJSONDecodeError\u001b[0m\u001b[1;33m(\u001b[0m\u001b[1;34m\"Expecting value\"\u001b[0m\u001b[1;33m,\u001b[0m \u001b[0ms\u001b[0m\u001b[1;33m,\u001b[0m \u001b[0merr\u001b[0m\u001b[1;33m.\u001b[0m\u001b[0mvalue\u001b[0m\u001b[1;33m)\u001b[0m \u001b[1;32mfrom\u001b[0m \u001b[1;32mNone\u001b[0m\u001b[1;33m\u001b[0m\u001b[1;33m\u001b[0m\u001b[0m\n",
      "\u001b[1;31mJSONDecodeError\u001b[0m: Expecting ',' delimiter: line 2 column 1 (char 828)"
     ]
    }
   ],
   "source": [
    "json.loads('['+pipeline.process(string)+']')"
   ]
  },
  {
   "cell_type": "code",
   "execution_count": 30,
   "metadata": {},
   "outputs": [
    {
     "data": {
      "text/plain": [
       "'{\"id\":2, \"nodes\":[{\"id\":1, \"form\":\"I\", \"properties\":{\"lemma\":\"I\", \"upos\":\"PRON\", \"xpos\":\"PRP\", \"Case\":\"Nom\", \"Number\":\"Sing\", \"Person\":\"1\", \"PronType\":\"Prs\"}}, {\"id\":2, \"form\":\"want\", \"top\":true, \"properties\":{\"lemma\":\"want\", \"upos\":\"VERB\", \"xpos\":\"VBP\", \"Mood\":\"Ind\", \"Tense\":\"Pres\", \"VerbForm\":\"Fin\"}, \"edges\":[{\"label\":\"nsubj\", \"target\":1}, {\"label\":\"xcomp\", \"target\":4}, {\"label\":\"punct\", \"target\":6}]}, {\"id\":3, \"form\":\"to\", \"properties\":{\"lemma\":\"to\", \"upos\":\"PART\", \"xpos\":\"TO\"}}, {\"id\":4, \"form\":\"break\", \"properties\":{\"lemma\":\"break\", \"upos\":\"VERB\", \"xpos\":\"VB\", \"VerbForm\":\"Inf\"}, \"edges\":[{\"label\":\"mark\", \"target\":3}, {\"label\":\"obj\", \"target\":5}]}, {\"id\":5, \"form\":\"free\", \"properties\":{\"lemma\":\"free\", \"upos\":\"ADJ\", \"xpos\":\"JJ\", \"Degree\":\"Pos\"}}, {\"id\":6, \"form\":\"!\", \"properties\":{\"lemma\":\"!\", \"upos\":\"PUNCT\", \"xpos\":\".\"}}]}\\n'"
      ]
     },
     "execution_count": 30,
     "metadata": {},
     "output_type": "execute_result"
    }
   ],
   "source": [
    "pipeline.process(string)[827:]"
   ]
  },
  {
   "cell_type": "code",
   "execution_count": 15,
   "metadata": {},
   "outputs": [
    {
     "name": "stdout",
     "output_type": "stream",
     "text": [
      "Help on function loads in module json:\n",
      "\n",
      "loads(s, *, encoding=None, cls=None, object_hook=None, parse_float=None, parse_int=None, parse_constant=None, object_pairs_hook=None, **kw)\n",
      "    Deserialize ``s`` (a ``str``, ``bytes`` or ``bytearray`` instance\n",
      "    containing a JSON document) to a Python object.\n",
      "    \n",
      "    ``object_hook`` is an optional function that will be called with the\n",
      "    result of any object literal decode (a ``dict``). The return value of\n",
      "    ``object_hook`` will be used instead of the ``dict``. This feature\n",
      "    can be used to implement custom decoders (e.g. JSON-RPC class hinting).\n",
      "    \n",
      "    ``object_pairs_hook`` is an optional function that will be called with the\n",
      "    result of any object literal decoded with an ordered list of pairs.  The\n",
      "    return value of ``object_pairs_hook`` will be used instead of the ``dict``.\n",
      "    This feature can be used to implement custom decoders.  If ``object_hook``\n",
      "    is also defined, the ``object_pairs_hook`` takes priority.\n",
      "    \n",
      "    ``parse_float``, if specified, will be called with the string\n",
      "    of every JSON float to be decoded. By default this is equivalent to\n",
      "    float(num_str). This can be used to use another datatype or parser\n",
      "    for JSON floats (e.g. decimal.Decimal).\n",
      "    \n",
      "    ``parse_int``, if specified, will be called with the string\n",
      "    of every JSON int to be decoded. By default this is equivalent to\n",
      "    int(num_str). This can be used to use another datatype or parser\n",
      "    for JSON integers (e.g. float).\n",
      "    \n",
      "    ``parse_constant``, if specified, will be called with one of the\n",
      "    following strings: -Infinity, Infinity, NaN.\n",
      "    This can be used to raise an exception if invalid JSON numbers\n",
      "    are encountered.\n",
      "    \n",
      "    To use a custom ``JSONDecoder`` subclass, specify it with the ``cls``\n",
      "    kwarg; otherwise ``JSONDecoder`` is used.\n",
      "    \n",
      "    The ``encoding`` argument is ignored and deprecated.\n",
      "\n"
     ]
    }
   ],
   "source": [
    "help(json.loads)"
   ]
  },
  {
   "cell_type": "code",
   "execution_count": null,
   "metadata": {},
   "outputs": [],
   "source": []
  }
 ],
 "metadata": {
  "kernelspec": {
   "display_name": "Django Shell-Plus",
   "language": "python",
   "name": "django_extensions"
  },
  "language_info": {
   "codemirror_mode": {
    "name": "ipython",
    "version": 3
   },
   "file_extension": ".py",
   "mimetype": "text/x-python",
   "name": "python",
   "nbconvert_exporter": "python",
   "pygments_lexer": "ipython3",
   "version": "3.7.3"
  }
 },
 "nbformat": 4,
 "nbformat_minor": 2
}
