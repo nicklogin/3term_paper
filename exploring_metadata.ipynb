{
 "cells": [
  {
   "cell_type": "code",
   "execution_count": 1,
   "metadata": {},
   "outputs": [],
   "source": [
    "import os, json"
   ]
  },
  {
   "cell_type": "code",
   "execution_count": 2,
   "metadata": {},
   "outputs": [],
   "source": [
    "data_folder = r'D:\\Studies\\3rd-year-thesis\\Data'"
   ]
  },
  {
   "cell_type": "code",
   "execution_count": 7,
   "metadata": {},
   "outputs": [],
   "source": [
    "text_filenames = []"
   ]
  },
  {
   "cell_type": "code",
   "execution_count": 8,
   "metadata": {},
   "outputs": [],
   "source": [
    "for root, dirs, files in os.walk(data_folder):\n",
    "    for f in files:\n",
    "        if f.endswith(\".txt\"):\n",
    "            text_filenames.append(os.path.join(root, f))"
   ]
  },
  {
   "cell_type": "code",
   "execution_count": 9,
   "metadata": {},
   "outputs": [
    {
     "data": {
      "text/plain": [
       "['D:\\\\Studies\\\\3rd-year-thesis\\\\Data\\\\realec_dump_2019_2_10_16_7_20_6_41_0\\\\data\\\\2012-2014\\\\esl_00011.txt',\n",
       " 'D:\\\\Studies\\\\3rd-year-thesis\\\\Data\\\\realec_dump_2019_2_10_16_7_20_6_41_0\\\\data\\\\2012-2014\\\\esl_00012.txt',\n",
       " 'D:\\\\Studies\\\\3rd-year-thesis\\\\Data\\\\realec_dump_2019_2_10_16_7_20_6_41_0\\\\data\\\\2012-2014\\\\esl_00013.txt',\n",
       " 'D:\\\\Studies\\\\3rd-year-thesis\\\\Data\\\\realec_dump_2019_2_10_16_7_20_6_41_0\\\\data\\\\2012-2014\\\\esl_00014.txt',\n",
       " 'D:\\\\Studies\\\\3rd-year-thesis\\\\Data\\\\realec_dump_2019_2_10_16_7_20_6_41_0\\\\data\\\\2012-2014\\\\esl_00015.txt',\n",
       " 'D:\\\\Studies\\\\3rd-year-thesis\\\\Data\\\\realec_dump_2019_2_10_16_7_20_6_41_0\\\\data\\\\2012-2014\\\\esl_00016.txt',\n",
       " 'D:\\\\Studies\\\\3rd-year-thesis\\\\Data\\\\realec_dump_2019_2_10_16_7_20_6_41_0\\\\data\\\\2012-2014\\\\esl_00017.txt',\n",
       " 'D:\\\\Studies\\\\3rd-year-thesis\\\\Data\\\\realec_dump_2019_2_10_16_7_20_6_41_0\\\\data\\\\2012-2014\\\\esl_00018.txt',\n",
       " 'D:\\\\Studies\\\\3rd-year-thesis\\\\Data\\\\realec_dump_2019_2_10_16_7_20_6_41_0\\\\data\\\\2012-2014\\\\esl_00019.txt',\n",
       " 'D:\\\\Studies\\\\3rd-year-thesis\\\\Data\\\\realec_dump_2019_2_10_16_7_20_6_41_0\\\\data\\\\2012-2014\\\\esl_00020.txt']"
      ]
     },
     "execution_count": 9,
     "metadata": {},
     "output_type": "execute_result"
    }
   ],
   "source": [
    "text_filenames[:10]"
   ]
  },
  {
   "cell_type": "code",
   "execution_count": 10,
   "metadata": {},
   "outputs": [
    {
     "data": {
      "text/plain": [
       "14359"
      ]
     },
     "execution_count": 10,
     "metadata": {},
     "output_type": "execute_result"
    }
   ],
   "source": [
    "len(text_filenames)"
   ]
  },
  {
   "cell_type": "code",
   "execution_count": 11,
   "metadata": {},
   "outputs": [],
   "source": [
    "metadata_filenames = []"
   ]
  },
  {
   "cell_type": "code",
   "execution_count": 12,
   "metadata": {},
   "outputs": [],
   "source": [
    "for root, dirs, files in os.walk(data_folder):\n",
    "    for f in files:\n",
    "        if f.endswith(\".json\"):\n",
    "            metadata_filenames.append(os.path.join(root, f))"
   ]
  },
  {
   "cell_type": "code",
   "execution_count": 13,
   "metadata": {},
   "outputs": [
    {
     "data": {
      "text/plain": [
       "9428"
      ]
     },
     "execution_count": 13,
     "metadata": {},
     "output_type": "execute_result"
    }
   ],
   "source": [
    "len(metadata_filenames)"
   ]
  },
  {
   "cell_type": "code",
   "execution_count": 14,
   "metadata": {},
   "outputs": [],
   "source": [
    "with open(metadata_filenames[0], 'r', encoding='utf-8') as inp:\n",
    "    meta1 = json.load(inp)"
   ]
  },
  {
   "cell_type": "code",
   "execution_count": 15,
   "metadata": {},
   "outputs": [
    {
     "data": {
      "text/plain": [
       "{'sex': 'f',\n",
       " 'mark': 'Dummy',\n",
       " 'study_year': '',\n",
       " 'date': '',\n",
       " 'department': '',\n",
       " 'ielts': '',\n",
       " 'work_type': '',\n",
       " 'text_type': ''}"
      ]
     },
     "execution_count": 15,
     "metadata": {},
     "output_type": "execute_result"
    }
   ],
   "source": [
    "meta1"
   ]
  },
  {
   "cell_type": "markdown",
   "metadata": {},
   "source": [
    "Посчитаем, в скольких текстах есть информация по:\n",
    "    - Полу\n",
    "    - Году обучения\n",
    "    - Дате\n",
    "    - Оценке\n",
    "    - Всему вместе (И)"
   ]
  },
  {
   "cell_type": "code",
   "execution_count": 23,
   "metadata": {},
   "outputs": [],
   "source": [
    "sex_count = 0\n",
    "mark_count = 0\n",
    "study_year_count = 0\n",
    "date_count = 0\n",
    "full_info_count = 0"
   ]
  },
  {
   "cell_type": "code",
   "execution_count": 18,
   "metadata": {},
   "outputs": [
    {
     "data": {
      "text/plain": [
       "5"
      ]
     },
     "execution_count": 18,
     "metadata": {},
     "output_type": "execute_result"
    }
   ],
   "source": [
    "5 + False"
   ]
  },
  {
   "cell_type": "code",
   "execution_count": 24,
   "metadata": {},
   "outputs": [],
   "source": [
    "for fn in metadata_filenames:\n",
    "    with open(fn, 'r', encoding='utf-8') as inp:\n",
    "        try:\n",
    "            meta = json.load(inp)\n",
    "        except:\n",
    "            continue\n",
    "    \n",
    "    sex, mark, study_year, date = False, False, False, False\n",
    "    \n",
    "    if \"sex\" in meta:\n",
    "        if meta[\"sex\"]:\n",
    "            sex = True\n",
    "    \n",
    "    if \"mark\" in meta:\n",
    "        if meta[\"mark\"]:\n",
    "            mark = True\n",
    "    \n",
    "    if \"study_year\" in meta:\n",
    "        if meta[\"study_year\"]:\n",
    "            study_year = True\n",
    "    \n",
    "    if \"date\" in meta:\n",
    "        if meta[\"date\"]:\n",
    "            date = True\n",
    "    \n",
    "    full_info = sex * mark * study_year * date\n",
    "    sex_count += sex\n",
    "    mark_count += mark\n",
    "    study_year_count += study_year\n",
    "    date_count += date\n",
    "    full_info_count += full_info"
   ]
  },
  {
   "cell_type": "code",
   "execution_count": 25,
   "metadata": {},
   "outputs": [
    {
     "data": {
      "text/plain": [
       "8979"
      ]
     },
     "execution_count": 25,
     "metadata": {},
     "output_type": "execute_result"
    }
   ],
   "source": [
    "sex_count"
   ]
  },
  {
   "cell_type": "code",
   "execution_count": 26,
   "metadata": {},
   "outputs": [
    {
     "data": {
      "text/plain": [
       "9136"
      ]
     },
     "execution_count": 26,
     "metadata": {},
     "output_type": "execute_result"
    }
   ],
   "source": [
    "mark_count"
   ]
  },
  {
   "cell_type": "code",
   "execution_count": 27,
   "metadata": {},
   "outputs": [
    {
     "data": {
      "text/plain": [
       "9069"
      ]
     },
     "execution_count": 27,
     "metadata": {},
     "output_type": "execute_result"
    }
   ],
   "source": [
    "study_year_count"
   ]
  },
  {
   "cell_type": "code",
   "execution_count": 28,
   "metadata": {},
   "outputs": [
    {
     "data": {
      "text/plain": [
       "9271"
      ]
     },
     "execution_count": 28,
     "metadata": {},
     "output_type": "execute_result"
    }
   ],
   "source": [
    "date_count"
   ]
  },
  {
   "cell_type": "code",
   "execution_count": 29,
   "metadata": {},
   "outputs": [
    {
     "data": {
      "text/plain": [
       "8721"
      ]
     },
     "execution_count": 29,
     "metadata": {},
     "output_type": "execute_result"
    }
   ],
   "source": [
    "full_info_count"
   ]
  },
  {
   "cell_type": "code",
   "execution_count": 30,
   "metadata": {},
   "outputs": [
    {
     "data": {
      "text/plain": [
       "0.6073542725816561"
      ]
     },
     "execution_count": 30,
     "metadata": {},
     "output_type": "execute_result"
    }
   ],
   "source": [
    "full_info_count/len(text_filenames)"
   ]
  },
  {
   "cell_type": "markdown",
   "metadata": {},
   "source": [
    "Для 60,7% текстов корпуса нужная информация есть в метаданных."
   ]
  },
  {
   "cell_type": "code",
   "execution_count": null,
   "metadata": {},
   "outputs": [],
   "source": []
  }
 ],
 "metadata": {
  "kernelspec": {
   "display_name": "Python 3",
   "language": "python",
   "name": "python3"
  },
  "language_info": {
   "codemirror_mode": {
    "name": "ipython",
    "version": 3
   },
   "file_extension": ".py",
   "mimetype": "text/x-python",
   "name": "python",
   "nbconvert_exporter": "python",
   "pygments_lexer": "ipython3",
   "version": "3.7.3"
  }
 },
 "nbformat": 4,
 "nbformat_minor": 2
}
