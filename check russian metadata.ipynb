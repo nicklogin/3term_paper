{
 "cells": [
  {
   "cell_type": "code",
   "execution_count": 1,
   "metadata": {},
   "outputs": [],
   "source": [
    "from corpustool.models import *"
   ]
  },
  {
   "cell_type": "code",
   "execution_count": 2,
   "metadata": {},
   "outputs": [],
   "source": [
    "departments = Document.objects.all().values('title', 'department')"
   ]
  },
  {
   "cell_type": "code",
   "execution_count": 3,
   "metadata": {},
   "outputs": [
    {
     "data": {
      "text/plain": [
       "<QuerySet [{'title': '1_Tikhonova.txt', 'department': None}, {'title': 'ABl_10_1.txt', 'department': 'Social Sciences'}, {'title': 'ABl_10_2.txt', 'department': 'Social Sciences'}, {'title': 'ABl_11_1.txt', 'department': 'Social Sciences'}, {'title': 'ABl_11_2.txt', 'department': 'Social Sciences'}, {'title': 'ABl_12_1.txt', 'department': 'Social Sciences'}, {'title': 'ABl_12_2.txt', 'department': 'Social Sciences'}, {'title': 'ABl_13_1.txt', 'department': 'Social Sciences'}, {'title': 'ABl_13_2.txt', 'department': 'Social Sciences'}, {'title': 'ABl_14_1.txt', 'department': 'Social Sciences'}, {'title': 'ABl_14_2.txt', 'department': 'Social Sciences'}, {'title': 'ABl_15_1.txt', 'department': 'Social Sciences'}, {'title': 'ABl_15_2.txt', 'department': 'Social Sciences'}, {'title': 'ABl_16_1.txt', 'department': 'Social Sciences'}, {'title': 'ABl_16_2.txt', 'department': 'Social Sciences'}, {'title': 'ABl_17_1.txt', 'department': 'Social Sciences'}, {'title': 'ABl_17_2.txt', 'department': 'Social Sciences'}, {'title': 'ABl_18_1.txt', 'department': 'Social Sciences'}, {'title': 'ABl_18_2.txt', 'department': 'Social Sciences'}, {'title': 'ABl_19_1.txt', 'department': 'Social Sciences'}, '...(remaining elements truncated)...']>"
      ]
     },
     "execution_count": 3,
     "metadata": {},
     "output_type": "execute_result"
    }
   ],
   "source": [
    "departments"
   ]
  },
  {
   "cell_type": "code",
   "execution_count": 5,
   "metadata": {},
   "outputs": [],
   "source": [
    "deps = [(doc['title'], doc['department']) for doc in departments if doc['department'] is not None]"
   ]
  },
  {
   "cell_type": "code",
   "execution_count": 7,
   "metadata": {},
   "outputs": [
    {
     "data": {
      "text/plain": [
       "('VSa_9_2.txt', 'Социальных наук')"
      ]
     },
     "execution_count": 7,
     "metadata": {},
     "output_type": "execute_result"
    }
   ],
   "source": [
    "deps[-1]"
   ]
  },
  {
   "cell_type": "code",
   "execution_count": 10,
   "metadata": {},
   "outputs": [
    {
     "data": {
      "text/plain": [
       "'strikingly'"
      ]
     },
     "execution_count": 10,
     "metadata": {},
     "output_type": "execute_result"
    }
   ],
   "source": [
    "Lemma.objects.get(pk=34596).text"
   ]
  },
  {
   "cell_type": "code",
   "execution_count": null,
   "metadata": {},
   "outputs": [],
   "source": []
  }
 ],
 "metadata": {
  "kernelspec": {
   "display_name": "Django Shell-Plus",
   "language": "python",
   "name": "django_extensions"
  },
  "language_info": {
   "codemirror_mode": {
    "name": "ipython",
    "version": 3
   },
   "file_extension": ".py",
   "mimetype": "text/x-python",
   "name": "python",
   "nbconvert_exporter": "python",
   "pygments_lexer": "ipython3",
   "version": "3.7.3"
  }
 },
 "nbformat": 4,
 "nbformat_minor": 2
}
