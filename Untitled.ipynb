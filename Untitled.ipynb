{
 "cells": [
  {
   "cell_type": "code",
   "execution_count": 1,
   "metadata": {},
   "outputs": [],
   "source": [
    "import stattool.settings"
   ]
  },
  {
   "cell_type": "code",
   "execution_count": 5,
   "metadata": {},
   "outputs": [
    {
     "data": {
      "text/plain": [
       "list"
      ]
     },
     "execution_count": 5,
     "metadata": {},
     "output_type": "execute_result"
    }
   ],
   "source": [
    "type(stattool.settings.ALLOWED_HOSTS)"
   ]
  },
  {
   "cell_type": "code",
   "execution_count": 14,
   "metadata": {},
   "outputs": [],
   "source": [
    "model = r'D:\\Studies\\3rd-year-thesis\\Udpipe_Models\\english-ewt-ud-2.3-181115.udpipe'"
   ]
  },
  {
   "cell_type": "code",
   "execution_count": 5,
   "metadata": {},
   "outputs": [],
   "source": [
    "from ufal.udpipe import Model"
   ]
  },
  {
   "cell_type": "code",
   "execution_count": 16,
   "metadata": {},
   "outputs": [],
   "source": [
    "ud_model = ufal.udpipe.Model.load(model)"
   ]
  },
  {
   "cell_type": "code",
   "execution_count": 8,
   "metadata": {},
   "outputs": [],
   "source": [
    "import os"
   ]
  },
  {
   "cell_type": "code",
   "execution_count": 19,
   "metadata": {},
   "outputs": [],
   "source": [
    "import ufal.udpipe"
   ]
  },
  {
   "cell_type": "code",
   "execution_count": 15,
   "metadata": {},
   "outputs": [
    {
     "data": {
      "text/plain": [
       "True"
      ]
     },
     "execution_count": 15,
     "metadata": {},
     "output_type": "execute_result"
    }
   ],
   "source": [
    "os.path.exists(model)"
   ]
  },
  {
   "cell_type": "code",
   "execution_count": 17,
   "metadata": {},
   "outputs": [
    {
     "data": {
      "text/plain": [
       "importlib._bootstrap.Model"
      ]
     },
     "execution_count": 17,
     "metadata": {},
     "output_type": "execute_result"
    }
   ],
   "source": [
    "type(ud_model)"
   ]
  },
  {
   "cell_type": "code",
   "execution_count": 20,
   "metadata": {},
   "outputs": [],
   "source": [
    "text = \"Hey, nigga, what's up?\""
   ]
  },
  {
   "cell_type": "code",
   "execution_count": 21,
   "metadata": {},
   "outputs": [],
   "source": [
    "pipeline = ufal.udpipe.Pipeline(ud_model, 'generic_tokenizer',\n",
    "                               ufal.udpipe.Pipeline.DEFAULT,\n",
    "                               ufal.udpipe.Pipeline.DEFAULT,\n",
    "                               'conllu')"
   ]
  },
  {
   "cell_type": "code",
   "execution_count": 22,
   "metadata": {},
   "outputs": [
    {
     "data": {
      "text/plain": [
       "\"# newdoc\\n# newpar\\n# sent_id = 1\\n# text = Hey, nigga, what's up?\\n1\\tHey\\they\\tINTJ\\tUH\\t_\\t5\\tdiscourse\\t_\\tSpaceAfter=No\\n2\\t,\\t,\\tPUNCT\\t,\\t_\\t5\\tpunct\\t_\\t_\\n3\\tnigga\\tnigga\\tINTJ\\tUH\\t_\\t5\\tdiscourse\\t_\\tSpaceAfter=No\\n4\\t,\\t,\\tPUNCT\\t,\\t_\\t5\\tpunct\\t_\\t_\\n5\\twhat\\twhat\\tPRON\\tWP\\tPronType=Int\\t7\\tnsubj\\t_\\tSpaceAfter=No\\n6\\t'\\t'\\tPUNCT\\t``\\t_\\t5\\tpunct\\t_\\tSpaceAfter=No\\n7\\ts\\t's\\tVERB\\tVB\\tVerbForm=Inf\\t0\\troot\\t_\\t_\\n8\\tup\\tup\\tADP\\tRP\\t_\\t7\\tcompound:prt\\t_\\tSpaceAfter=No\\n9\\t?\\t?\\tPUNCT\\t.\\t_\\t7\\tpunct\\t_\\tSpacesAfter=\\\\n\\n\\n\""
      ]
     },
     "execution_count": 22,
     "metadata": {},
     "output_type": "execute_result"
    }
   ],
   "source": [
    "pipeline.process(text)"
   ]
  },
  {
   "cell_type": "code",
   "execution_count": 1,
   "metadata": {},
   "outputs": [],
   "source": [
    "from ufal.udpipe import Pipeline"
   ]
  },
  {
   "cell_type": "code",
   "execution_count": 3,
   "metadata": {},
   "outputs": [
    {
     "ename": "TypeError",
     "evalue": "new_Pipeline expected 5 arguments, got 0",
     "output_type": "error",
     "traceback": [
      "\u001b[1;31m---------------------------------------------------------------------------\u001b[0m",
      "\u001b[1;31mTypeError\u001b[0m                                 Traceback (most recent call last)",
      "\u001b[1;32m<ipython-input-3-6b9653adb546>\u001b[0m in \u001b[0;36m<module>\u001b[1;34m()\u001b[0m\n\u001b[1;32m----> 1\u001b[1;33m \u001b[0mp\u001b[0m \u001b[1;33m=\u001b[0m \u001b[0mPipeline\u001b[0m\u001b[1;33m(\u001b[0m\u001b[1;33m)\u001b[0m\u001b[1;33m\u001b[0m\u001b[0m\n\u001b[0m",
      "\u001b[1;31mTypeError\u001b[0m: new_Pipeline expected 5 arguments, got 0"
     ]
    }
   ],
   "source": [
    "p = Pipeline()"
   ]
  },
  {
   "cell_type": "code",
   "execution_count": null,
   "metadata": {},
   "outputs": [],
   "source": []
  }
 ],
 "metadata": {
  "kernelspec": {
   "display_name": "Python 3",
   "language": "python",
   "name": "python3"
  },
  "language_info": {
   "codemirror_mode": {
    "name": "ipython",
    "version": 3
   },
   "file_extension": ".py",
   "mimetype": "text/x-python",
   "name": "python",
   "nbconvert_exporter": "python",
   "pygments_lexer": "ipython3",
   "version": "3.7.3"
  }
 },
 "nbformat": 4,
 "nbformat_minor": 2
}
