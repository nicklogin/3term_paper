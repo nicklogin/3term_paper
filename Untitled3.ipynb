{
 "cells": [
  {
   "cell_type": "code",
   "execution_count": 1,
   "metadata": {},
   "outputs": [],
   "source": [
    "from corpustool.models import *"
   ]
  },
  {
   "cell_type": "code",
   "execution_count": 2,
   "metadata": {},
   "outputs": [],
   "source": [
    "import pandas as pd"
   ]
  },
  {
   "cell_type": "code",
   "execution_count": 23,
   "metadata": {},
   "outputs": [],
   "source": [
    "all_departments = pd.DataFrame(Document.objects.exclude(department=None).values('department'))"
   ]
  },
  {
   "cell_type": "code",
   "execution_count": 24,
   "metadata": {},
   "outputs": [
    {
     "data": {
      "text/plain": [
       "3636"
      ]
     },
     "execution_count": 24,
     "metadata": {},
     "output_type": "execute_result"
    }
   ],
   "source": [
    "all_departments['department'].value_counts().head(n=40).sum()"
   ]
  },
  {
   "cell_type": "code",
   "execution_count": 26,
   "metadata": {},
   "outputs": [
    {
     "data": {
      "text/plain": [
       "Index(['ФКМД', 'ФГН', 'Нижний Новгород, Менеджмент', 'Москва, Менеджмент',\n",
       "       'Москва, Дизайн', 'economics', 'Санкт-Петербург, Экономика', 'МИЭМ',\n",
       "       'Philology', 'Москва, Бизнес-информатики', 'Economic Science',\n",
       "       'Филология', 'Management', 'Perm, экономики', 'Прикладная лингвистика',\n",
       "       'Social Sciences', 'World Economy', 'law', 'С-Пб, Менеджмент',\n",
       "       'Economics Sciences', 'С-Пб, экономика', 'ФСН', 'Москва, Философии',\n",
       "       'Москва, Культурология', 'Москва, Политика',\n",
       "       'Санкт-Петербург, Юридический', 'Москва, Востоковедение', 'Sociology',\n",
       "       'Computer Science ', 'Economic Sciences', 'ВШЭ и РЭШ',\n",
       "       'Санкт-Петербург, Менеджмент', 'Москва, Филологии',\n",
       "       'Perm, бизнес-информатики', 'Faculty of Social Sciences',\n",
       "       'Социальных наук', 'design', 'С-Пб, социология', 'Москва, Права',\n",
       "       'История искусств'],\n",
       "      dtype='object')"
      ]
     },
     "execution_count": 26,
     "metadata": {},
     "output_type": "execute_result"
    }
   ],
   "source": [
    "all_departments['department'].value_counts().head(n=40)"
   ]
  },
  {
   "cell_type": "markdown",
   "metadata": {},
   "source": [
    "Посчитаем департменты более эффективно (https://stackoverflow.com/questions/3606416/django-most-efficient-way-to-count-same-field-values-in-a-query):"
   ]
  },
  {
   "cell_type": "code",
   "execution_count": 16,
   "metadata": {},
   "outputs": [],
   "source": [
    "from django.db.models import Count"
   ]
  },
  {
   "cell_type": "code",
   "execution_count": 21,
   "metadata": {},
   "outputs": [],
   "source": [
    "all_departments = Document.objects.values('department').annotate(n=Count('department')).values('department', 'n')"
   ]
  },
  {
   "cell_type": "code",
   "execution_count": 22,
   "metadata": {},
   "outputs": [
    {
     "data": {
      "text/plain": [
       "<QuerySet [{'department': None, 'n': 0}, {'department': '', 'n': 19}, {'department': '&#1048;&#1050;&#1058;', 'n': 2}, {'department': 'ARVL', 'n': 1}, {'department': 'Asia Studies', 'n': 24}, {'department': 'Business Informatics', 'n': 10}, {'department': 'Computer Science ', 'n': 72}, {'department': 'Economic Science', 'n': 112}, {'department': 'Economic Sciences', 'n': 64}, {'department': 'Economic science', 'n': 2}, {'department': 'Economic sciences', 'n': 4}, {'department': 'Economics', 'n': 14}, {'department': 'Economics Sciences', 'n': 86}, {'department': 'Economy sciences', 'n': 23}, {'department': 'Faculty of Social Sciences', 'n': 45}, {'department': 'Humanities ', 'n': 4}, {'department': 'Journalism', 'n': 28}, {'department': 'Logistic', 'n': 2}, {'department': 'Logistics', 'n': 28}, {'department': 'Management', 'n': 105}, '...(remaining elements truncated)...']>"
      ]
     },
     "execution_count": 22,
     "metadata": {},
     "output_type": "execute_result"
    }
   ],
   "source": [
    "all_departments"
   ]
  },
  {
   "cell_type": "code",
   "execution_count": 29,
   "metadata": {},
   "outputs": [
    {
     "data": {
      "text/plain": [
       "['PRON',\n",
       " 'VERB',\n",
       " 'ADV',\n",
       " 'ADP',\n",
       " 'NOUN',\n",
       " 'CCONJ',\n",
       " 'DET',\n",
       " 'ADJ',\n",
       " 'PUNCT',\n",
       " 'PROPN',\n",
       " 'SPACE',\n",
       " 'NUM',\n",
       " 'PART',\n",
       " 'AUX',\n",
       " 'X',\n",
       " 'SYM',\n",
       " 'INTJ']"
      ]
     },
     "execution_count": 29,
     "metadata": {},
     "output_type": "execute_result"
    }
   ],
   "source": [
    "[i['pos'] for i in Lemma.objects.values('pos').distinct()]"
   ]
  },
  {
   "cell_type": "code",
   "execution_count": null,
   "metadata": {},
   "outputs": [],
   "source": []
  }
 ],
 "metadata": {
  "kernelspec": {
   "display_name": "Django Shell-Plus",
   "language": "python",
   "name": "django_extensions"
  },
  "language_info": {
   "codemirror_mode": {
    "name": "ipython",
    "version": 3
   },
   "file_extension": ".py",
   "mimetype": "text/x-python",
   "name": "python",
   "nbconvert_exporter": "python",
   "pygments_lexer": "ipython3",
   "version": "3.7.3"
  }
 },
 "nbformat": 4,
 "nbformat_minor": 2
}
