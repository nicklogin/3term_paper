{
 "cells": [
  {
   "cell_type": "code",
   "execution_count": null,
   "metadata": {},
   "outputs": [
    {
     "name": "stdout",
     "output_type": "stream",
     "text": [
      "5\n",
      "2\n",
      "2\n"
     ]
    }
   ],
   "source": [
    "n = int(input())\n",
    "curr = 0\n",
    "ar = []\n",
    "\n",
    "for i in range(n):\n",
    "  a = int(input())\n",
    "  if i > 0:\n",
    "    if a > curr:\n",
    "      ar.append(a)\n",
    "      curr = a\n",
    "  else:\n",
    "    curr = a\n",
    "\n",
    "for el in ar:\n",
    "  print(el)"
   ]
  },
  {
   "cell_type": "code",
   "execution_count": 2,
   "metadata": {},
   "outputs": [
    {
     "name": "stdout",
     "output_type": "stream",
     "text": [
      "abc\n",
      "cba\n",
      "0\n"
     ]
    }
   ],
   "source": [
    "a = input()\n",
    "b = input()\n",
    "\n",
    "if len(a) != len(b):\n",
    "  print(0)\n",
    "else:\n",
    "  result = 1\n",
    "  ## make freqdict:\n",
    "  freqdict = dict()\n",
    "  for i in a:\n",
    "    if i in freqdict:\n",
    "      freqdict[i] += 1\n",
    "    else:\n",
    "      freqdict[i] = 0\n",
    "  for i in b:\n",
    "    if i in freqdict:\n",
    "      if freqdict[i] == 0:\n",
    "        result = 0\n",
    "        break\n",
    "      else:\n",
    "        freqdict[i] -= 1\n",
    "    else:\n",
    "      result = 0\n",
    "      break\n",
    "  print(result)"
   ]
  },
  {
   "cell_type": "code",
   "execution_count": null,
   "metadata": {},
   "outputs": [],
   "source": [
    "['a','b','c'].insert()"
   ]
  },
  {
   "cell_type": "code",
   "execution_count": 3,
   "metadata": {},
   "outputs": [
    {
     "name": "stdout",
     "output_type": "stream",
     "text": [
      "Help on method_descriptor:\n",
      "\n",
      "insert(self, index, object, /)\n",
      "    Insert object before index.\n",
      "\n"
     ]
    }
   ],
   "source": [
    "help(list.insert)"
   ]
  },
  {
   "cell_type": "code",
   "execution_count": 4,
   "metadata": {},
   "outputs": [
    {
     "name": "stdout",
     "output_type": "stream",
     "text": [
      "4\n",
      "6 2 26 64 88 96 96\n",
      "4 8 20 65 86\n",
      "7 1 4 16 42 58 61 69\n",
      "1 84\n",
      "1 1 2 4 4 6 7 8 16 20 26 42 58 61 64 65 69 84 86 88 96 96 \n"
     ]
    }
   ],
   "source": [
    "class Node:\n",
    "  def __init__(self, val, left, right):\n",
    "    self.val = val\n",
    "    self.left = left\n",
    "    self.right = right\n",
    "\n",
    "class BST:\n",
    "  def __init__(self):\n",
    "    self.root = None\n",
    "\n",
    "  def locate(self, node):\n",
    "    if not self.root:\n",
    "      self.root = node\n",
    "    else:\n",
    "      curr = self.root\n",
    "      while True:\n",
    "        if node.val < curr.val:\n",
    "          if curr.left:\n",
    "            curr = curr.left\n",
    "          else:\n",
    "            curr.left = node\n",
    "            break\n",
    "        else:\n",
    "          if curr.right:\n",
    "            curr = curr.right\n",
    "          else:\n",
    "            curr.right = node\n",
    "            break\n",
    "\n",
    "  def traverse(self):\n",
    "    traverse(self.root)\n",
    "    print()\n",
    "\n",
    "def traverse(tree):\n",
    "  if tree:\n",
    "    traverse(tree.left)\n",
    "    print(tree.val, end=' ')\n",
    "    traverse(tree.right)\n",
    "\n",
    "bst = BST()\n",
    "\n",
    "for i in range(int(input())):\n",
    "  for nmb in input().split():\n",
    "    nmb = Node(int(nmb), None, None)\n",
    "    bst.locate(nmb)\n",
    "\n",
    "bst.traverse()"
   ]
  },
  {
   "cell_type": "code",
   "execution_count": 5,
   "metadata": {},
   "outputs": [
    {
     "data": {
      "text/plain": [
       "3"
      ]
     },
     "execution_count": 5,
     "metadata": {},
     "output_type": "execute_result"
    }
   ],
   "source": [
    "[1, 2, 3].pop()"
   ]
  },
  {
   "cell_type": "code",
   "execution_count": 7,
   "metadata": {},
   "outputs": [
    {
     "ename": "TypeError",
     "evalue": "sequence item 0: expected str instance, int found",
     "output_type": "error",
     "traceback": [
      "\u001b[1;31m---------------------------------------------------------------------------\u001b[0m",
      "\u001b[1;31mTypeError\u001b[0m                                 Traceback (most recent call last)",
      "\u001b[1;32m<ipython-input-7-41b9a2b9e899>\u001b[0m in \u001b[0;36m<module>\u001b[1;34m\u001b[0m\n\u001b[1;32m----> 1\u001b[1;33m \u001b[1;34m' '\u001b[0m\u001b[1;33m.\u001b[0m\u001b[0mjoin\u001b[0m\u001b[1;33m(\u001b[0m\u001b[1;33m[\u001b[0m\u001b[1;36m1\u001b[0m\u001b[1;33m,\u001b[0m\u001b[1;36m2\u001b[0m\u001b[1;33m,\u001b[0m\u001b[1;36m3\u001b[0m\u001b[1;33m]\u001b[0m\u001b[1;33m)\u001b[0m\u001b[1;33m\u001b[0m\u001b[1;33m\u001b[0m\u001b[0m\n\u001b[0m",
      "\u001b[1;31mTypeError\u001b[0m: sequence item 0: expected str instance, int found"
     ]
    }
   ],
   "source": [
    "' '.join([1,2,3])"
   ]
  },
  {
   "cell_type": "code",
   "execution_count": 8,
   "metadata": {},
   "outputs": [
    {
     "name": "stdout",
     "output_type": "stream",
     "text": [
      "4\n",
      "6 2 26 64 88 96 96\n",
      "4 8 20 65 86\n",
      "1 84\n",
      "7 1 4 16 42 58 61 69\n",
      "1 1 2 4 4 6 7 8 16 20 26 42 58 61 64 65 69 84 86 88 96 96\n"
     ]
    }
   ],
   "source": [
    "class Node:\n",
    "  def __init__(self, val, left, right):\n",
    "    self.val = val\n",
    "    self.left = left\n",
    "    self.right = right\n",
    "\n",
    "class BST:\n",
    "  def __init__(self):\n",
    "    self.root = None\n",
    "\n",
    "  def locate(self, node):\n",
    "    if not self.root:\n",
    "      self.root = node\n",
    "    else:\n",
    "      curr = self.root\n",
    "      while True:\n",
    "        if node.val < curr.val:\n",
    "          if curr.left:\n",
    "            curr = curr.left\n",
    "          else:\n",
    "            curr.left = node\n",
    "            break\n",
    "        else:\n",
    "          if curr.right:\n",
    "            curr = curr.right\n",
    "          else:\n",
    "            curr.right = node\n",
    "            break\n",
    "\n",
    "  def traverse(self):\n",
    "    output = []\n",
    "    stack = []\n",
    "    start = self.root\n",
    "    while stack or start:\n",
    "      if start:\n",
    "        stack.append(start)\n",
    "        start = start.left\n",
    "      else:\n",
    "        start = stack.pop()\n",
    "        output.append(str(start.val))\n",
    "        start = start.right\n",
    "    print(' '.join(output))\n",
    "\n",
    "bst = BST()\n",
    "\n",
    "for i in range(int(input())):\n",
    "  for nmb in input().split():\n",
    "    nmb = Node(int(nmb), None, None)\n",
    "    bst.locate(nmb)\n",
    "\n",
    "bst.traverse()"
   ]
  },
  {
   "cell_type": "code",
   "execution_count": 9,
   "metadata": {},
   "outputs": [
    {
     "name": "stdout",
     "output_type": "stream",
     "text": [
      "4\n",
      "6 2 26 64 88 96 96\n",
      "4 8 20 65 86\n",
      "1 84\n",
      "7 1 4 16 42 58 61 69\n",
      "1 2 4 6 7 8 16 20 26 42 58 61 64 65 69 84 86 88 96\n"
     ]
    }
   ],
   "source": [
    "class Node:\n",
    "  def __init__(self, val, left, right):\n",
    "    self.val = val\n",
    "    self.left = left\n",
    "    self.right = right\n",
    "\n",
    "class BST:\n",
    "  def __init__(self):\n",
    "    self.root = None\n",
    "\n",
    "  def locate(self, node):\n",
    "    if not self.root:\n",
    "      self.root = node\n",
    "    else:\n",
    "      curr = self.root\n",
    "      while True:\n",
    "        if node.val < curr.val:\n",
    "          if curr.left:\n",
    "            curr = curr.left\n",
    "          else:\n",
    "            curr.left = node\n",
    "            break\n",
    "        else:\n",
    "          if curr.right:\n",
    "            curr = curr.right\n",
    "          else:\n",
    "            if curr.val != node.val:\n",
    "              curr.right = node\n",
    "            break\n",
    "\n",
    "  def traverse(self):\n",
    "    output = []\n",
    "    stack = []\n",
    "    start = self.root\n",
    "    while stack or start:\n",
    "      if start:\n",
    "        stack.append(start)\n",
    "        start = start.left\n",
    "      else:\n",
    "        start = stack.pop()\n",
    "        output.append(str(start.val))\n",
    "        start = start.right\n",
    "    print(' '.join(output))\n",
    "\n",
    "bst = BST()\n",
    "\n",
    "for i in range(int(input())):\n",
    "  for nmb in input().split():\n",
    "    nmb = Node(int(nmb), None, None)\n",
    "    bst.locate(nmb)\n",
    "\n",
    "bst.traverse()"
   ]
  },
  {
   "cell_type": "code",
   "execution_count": null,
   "metadata": {},
   "outputs": [],
   "source": []
  }
 ],
 "metadata": {
  "kernelspec": {
   "display_name": "Python 3",
   "language": "python",
   "name": "python3"
  }
 },
 "nbformat": 4,
 "nbformat_minor": 2
}
