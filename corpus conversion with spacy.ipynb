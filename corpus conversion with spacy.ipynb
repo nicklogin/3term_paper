{
 "cells": [
  {
   "cell_type": "code",
   "execution_count": 18,
   "metadata": {},
   "outputs": [],
   "source": [
    "from corpustool.models import *"
   ]
  },
  {
   "cell_type": "code",
   "execution_count": 19,
   "metadata": {},
   "outputs": [],
   "source": [
    "import os"
   ]
  },
  {
   "cell_type": "code",
   "execution_count": 20,
   "metadata": {},
   "outputs": [],
   "source": [
    "import json"
   ]
  },
  {
   "cell_type": "code",
   "execution_count": 21,
   "metadata": {},
   "outputs": [],
   "source": [
    "import time"
   ]
  },
  {
   "cell_type": "code",
   "execution_count": 22,
   "metadata": {},
   "outputs": [],
   "source": [
    "import re"
   ]
  },
  {
   "cell_type": "code",
   "execution_count": 23,
   "metadata": {},
   "outputs": [],
   "source": [
    "import functools"
   ]
  },
  {
   "cell_type": "code",
   "execution_count": 24,
   "metadata": {},
   "outputs": [],
   "source": [
    "from django.db import DataError"
   ]
  },
  {
   "cell_type": "markdown",
   "metadata": {},
   "source": [
    "Самописная кэш-функция, которая возвращает None, если набор аргументов есть в хэше, так как Model instances without primary key value are unhashable"
   ]
  },
  {
   "cell_type": "code",
   "execution_count": 25,
   "metadata": {},
   "outputs": [],
   "source": [
    "def cached(func, *args, **kwargs):  # correct signature is not known\n",
    "    if not hasattr(cached, \"cache\"):\n",
    "        cached.cache = []\n",
    "    \n",
    "    def cache_clear():\n",
    "        cached.cache = []\n",
    "\n",
    "    def find_in_cache(*args, **kwargs):\n",
    "        if (args, kwargs) in cached.cache:\n",
    "            return None\n",
    "        cached.cache.append((args, kwargs))\n",
    "        return func(*args, **kwargs)\n",
    "    \n",
    "    find_in_cache.cache_clear = cache_clear\n",
    "    find_in_cache.__name__ = func.__name__\n",
    "    find_in_cache.__doc__ = func.__doc__\n",
    "    find_in_cache.__module__ = func.__module__\n",
    "    return find_in_cache"
   ]
  },
  {
   "cell_type": "code",
   "execution_count": 26,
   "metadata": {},
   "outputs": [],
   "source": [
    "def parse_rus_date(s):\n",
    "    s = s.split('.')\n",
    "    if len(s) != 3 or len(s[0]) != 2 or len(s[1]) != 2 or len(s[2]) != 4:\n",
    "        return None\n",
    "    return s[2]+'-'+s[1]+'-'+s[0]"
   ]
  },
  {
   "cell_type": "code",
   "execution_count": 27,
   "metadata": {},
   "outputs": [],
   "source": [
    "def check_int(s):\n",
    "    try:\n",
    "        int(s)\n",
    "        return True\n",
    "    except:\n",
    "        return False"
   ]
  },
  {
   "cell_type": "code",
   "execution_count": 28,
   "metadata": {},
   "outputs": [
    {
     "data": {
      "text/plain": [
       "'2017-03-29'"
      ]
     },
     "execution_count": 28,
     "metadata": {},
     "output_type": "execute_result"
    }
   ],
   "source": [
    "parse_rus_date('29.03.2017')"
   ]
  },
  {
   "cell_type": "code",
   "execution_count": 29,
   "metadata": {},
   "outputs": [],
   "source": [
    "import spacy"
   ]
  },
  {
   "cell_type": "code",
   "execution_count": 30,
   "metadata": {},
   "outputs": [],
   "source": [
    "from stattool.settings import TEXT_FILE_PATH"
   ]
  },
  {
   "cell_type": "code",
   "execution_count": 31,
   "metadata": {},
   "outputs": [],
   "source": [
    "nlp = spacy.load(\"en_core_web_sm\")"
   ]
  },
  {
   "cell_type": "code",
   "execution_count": 32,
   "metadata": {},
   "outputs": [],
   "source": [
    "def escapepath(fp):\n",
    "    return fp.replace(os.sep, '%').replace('/', '%')"
   ]
  },
  {
   "cell_type": "code",
   "execution_count": 33,
   "metadata": {},
   "outputs": [],
   "source": [
    "extension_split = lambda x: x[:x.rfind('.')]"
   ]
  },
  {
   "cell_type": "code",
   "execution_count": 34,
   "metadata": {},
   "outputs": [],
   "source": [
    "@cached\n",
    "def try_to_get(Model, *args, **kwargs):\n",
    "    ''' \n",
    "    Returns Model instance with specified property if it exists,\n",
    "    If it doesn't creates a new one\n",
    "    \n",
    "    Arguments:\n",
    "    Model - a class inherited from django models.Model\n",
    "    *args, **kwargs - unnamed and named properties of needed object\n",
    "    '''\n",
    "    #print(kwargs)\n",
    "    try:\n",
    "        obj = Model.objects.get(*args, **kwargs)\n",
    "    except Model.DoesNotExist:\n",
    "        obj = Model(*args, **kwargs)\n",
    "        return obj"
   ]
  },
  {
   "cell_type": "markdown",
   "metadata": {},
   "source": [
    "Сделать нормальную проверку всех полей метаданных (пола, даты, оценки) на валидность"
   ]
  },
  {
   "cell_type": "code",
   "execution_count": 37,
   "metadata": {},
   "outputs": [],
   "source": [
    "class TextBaseFiller(object):\n",
    "    def __init__(self, model=None, folder='.', recursive=True, include_metadata=False):\n",
    "        self.parser = model\n",
    "        \n",
    "        self.include_metadata = include_metadata\n",
    "        self.folder = folder\n",
    "        self.text_filenames = []\n",
    "        if recursive:\n",
    "            for root, dirs, files in os.walk(self.folder):\n",
    "                for f in files:\n",
    "                    if f.endswith('.txt'):\n",
    "                        self.text_filenames.append(os.path.join(root, f))\n",
    "        else:\n",
    "            self.text_filenames = [os.path.join(self.folder, f) for f in os.listdir(self.folder) if f.endswith('.txt')]\n",
    "        self.current_text_id = 0\n",
    "    \n",
    "    \n",
    "    def process_all(self, show_titles=False, show_time = False):\n",
    "        st_time = time.time()\n",
    "        while self.current_text_id < len(self.text_filenames):\n",
    "            if show_titles:\n",
    "                print(self.text_filenames[self.current_text_id])\n",
    "            if show_time:\n",
    "                print(time.time() - st_time)\n",
    "            self.process_next()\n",
    "    \n",
    "    \n",
    "    def process_next_n(self, n, show_titles=False, show_time = False):\n",
    "        st_time = time.time()\n",
    "        limit = min(self.current_text_id + n, len(self.text_filenames))\n",
    "        while self.current_text_id < limit:\n",
    "            if show_titles:\n",
    "                print(self.text_filenames[self.current_text_id])\n",
    "            if show_time:\n",
    "                print(time.time() - st_time)\n",
    "            self.process_next()\n",
    "    \n",
    "    \n",
    "    def process_next(self):\n",
    "        if self.current_text_id >= len(self.text_filenames):\n",
    "            print('Specified folder is fully processed')\n",
    "            return\n",
    "        \n",
    "        fn = self.text_filenames[self.current_text_id]\n",
    "        \n",
    "        title = escapepath(fn[len(self.folder):])\n",
    "        self.textobj = Document(title=title)\n",
    "        if self.include_metadata:\n",
    "            self.process_metadata()\n",
    "        self.textobj.save()\n",
    "        with open(fn, 'r', encoding='utf-8-sig') as f:\n",
    "            parsed = self.parser(f.read().replace('\\ufeff', ''))\n",
    "        \n",
    "        try_to_get.cache_clear()\n",
    "        \n",
    "        ##saving lemmas to db:\n",
    "        lemmas = [try_to_get(Lemma, text=token.lemma_.lower(), pos=token.pos_.upper()) for token in parsed]\n",
    "        Lemma.objects.bulk_create([lemma for lemma in lemmas if lemma is not None and lemma.pk is None])\n",
    "        \n",
    "        ##saving tokens to db:\n",
    "        tokens = [try_to_get(Token, text=token.text.lower(), lemma = Lemma.objects.get(text=token.lemma_.lower(),\n",
    "                                                                              pos=token.pos_.upper())) for token in parsed]\n",
    "        Token.objects.bulk_create([token for token in tokens if token is not None and token.pk is None])\n",
    "        \n",
    "        ##saving occurences to db:\n",
    "        occurences = [Occurence(document=self.textobj,\n",
    "                                token=Token.objects.get(text=parsed[i].text.lower(),\n",
    "                                                        lemma = Lemma.objects.get(text=parsed[i].lemma_.lower(),\n",
    "                                                                                  pos=parsed[i].pos_.upper())),\n",
    "                                index=i) for i in range(len(parsed))]\n",
    "        Occurence.objects.bulk_create(occurences)\n",
    "        \n",
    "        self.current_text_id += 1\n",
    "    \n",
    "    def process_metadata(self):\n",
    "        fn = extension_split(self.text_filenames[self.current_text_id]) + '.json'\n",
    "        if os.path.exists(fn):\n",
    "            with open(fn, 'r', encoding='utf-8') as inp:\n",
    "                try:\n",
    "                    meta = json.load(inp)\n",
    "                except:\n",
    "                    return\n",
    "            if 'sex' in meta:\n",
    "                if meta['sex'] in ('m','f'):\n",
    "                    self.textobj.sex = meta['sex']\n",
    "            if 'date' in meta:\n",
    "                parsed_date = parse_rus_date(meta['date'])\n",
    "                if parsed_date is not None:\n",
    "                    self.textobj.date = parsed_date\n",
    "            if 'mark' in meta:\n",
    "                if check_int(meta['mark']):\n",
    "                    self.textobj.mark = meta['mark']\n",
    "            if 'study_year' in meta:\n",
    "                if check_int(meta['mark']):\n",
    "                    self.textobj.study_year = meta['study_year']\n",
    "            if 'department' in meta:\n",
    "                self.textobj.department = meta['department']\n",
    "            "
   ]
  },
  {
   "cell_type": "code",
   "execution_count": 49,
   "metadata": {},
   "outputs": [],
   "source": [
    "new_path = os.path.join(TEXT_FILE_PATH, r'data/exam')"
   ]
  },
  {
   "cell_type": "code",
   "execution_count": 50,
   "metadata": {},
   "outputs": [],
   "source": [
    "base_filler = TextBaseFiller(model=nlp, folder=new_path+'/', include_metadata=True)"
   ]
  },
  {
   "cell_type": "code",
   "execution_count": 51,
   "metadata": {},
   "outputs": [
    {
     "data": {
      "text/plain": [
       "8429"
      ]
     },
     "execution_count": 51,
     "metadata": {},
     "output_type": "execute_result"
    }
   ],
   "source": [
    "len(base_filler.text_filenames)"
   ]
  },
  {
   "cell_type": "code",
   "execution_count": 65,
   "metadata": {},
   "outputs": [
    {
     "name": "stdout",
     "output_type": "stream",
     "text": [
      "C:\\HP_PC\\hp_pc\\Studies\\3rd-year-thesis\\Data\\realec_dump_2019_2_10_16_7_20_6_41_0\\data/2012-2014\\esl_00011.txt\n",
      "C:\\HP_PC\\hp_pc\\Studies\\3rd-year-thesis\\Data\\realec_dump_2019_2_10_16_7_20_6_41_0\\data/2012-2014\\esl_00012.txt\n",
      "C:\\HP_PC\\hp_pc\\Studies\\3rd-year-thesis\\Data\\realec_dump_2019_2_10_16_7_20_6_41_0\\data/2012-2014\\esl_00013.txt\n",
      "C:\\HP_PC\\hp_pc\\Studies\\3rd-year-thesis\\Data\\realec_dump_2019_2_10_16_7_20_6_41_0\\data/2012-2014\\esl_00014.txt\n",
      "C:\\HP_PC\\hp_pc\\Studies\\3rd-year-thesis\\Data\\realec_dump_2019_2_10_16_7_20_6_41_0\\data/2012-2014\\esl_00015.txt\n",
      "C:\\HP_PC\\hp_pc\\Studies\\3rd-year-thesis\\Data\\realec_dump_2019_2_10_16_7_20_6_41_0\\data/2012-2014\\esl_00016.txt\n",
      "C:\\HP_PC\\hp_pc\\Studies\\3rd-year-thesis\\Data\\realec_dump_2019_2_10_16_7_20_6_41_0\\data/2012-2014\\esl_00017.txt\n",
      "C:\\HP_PC\\hp_pc\\Studies\\3rd-year-thesis\\Data\\realec_dump_2019_2_10_16_7_20_6_41_0\\data/2012-2014\\esl_00018.txt\n",
      "C:\\HP_PC\\hp_pc\\Studies\\3rd-year-thesis\\Data\\realec_dump_2019_2_10_16_7_20_6_41_0\\data/2012-2014\\esl_00019.txt\n",
      "C:\\HP_PC\\hp_pc\\Studies\\3rd-year-thesis\\Data\\realec_dump_2019_2_10_16_7_20_6_41_0\\data/2012-2014\\esl_00020.txt\n",
      "C:\\HP_PC\\hp_pc\\Studies\\3rd-year-thesis\\Data\\realec_dump_2019_2_10_16_7_20_6_41_0\\data/2012-2014\\esl_00023.txt\n",
      "C:\\HP_PC\\hp_pc\\Studies\\3rd-year-thesis\\Data\\realec_dump_2019_2_10_16_7_20_6_41_0\\data/2012-2014\\esl_00025.txt\n",
      "C:\\HP_PC\\hp_pc\\Studies\\3rd-year-thesis\\Data\\realec_dump_2019_2_10_16_7_20_6_41_0\\data/2012-2014\\esl_00027.txt\n",
      "C:\\HP_PC\\hp_pc\\Studies\\3rd-year-thesis\\Data\\realec_dump_2019_2_10_16_7_20_6_41_0\\data/2012-2014\\esl_00028.txt\n",
      "C:\\HP_PC\\hp_pc\\Studies\\3rd-year-thesis\\Data\\realec_dump_2019_2_10_16_7_20_6_41_0\\data/2012-2014\\esl_00030.txt\n",
      "C:\\HP_PC\\hp_pc\\Studies\\3rd-year-thesis\\Data\\realec_dump_2019_2_10_16_7_20_6_41_0\\data/2012-2014\\esl_00031.txt\n",
      "C:\\HP_PC\\hp_pc\\Studies\\3rd-year-thesis\\Data\\realec_dump_2019_2_10_16_7_20_6_41_0\\data/2012-2014\\esl_00032.txt\n",
      "C:\\HP_PC\\hp_pc\\Studies\\3rd-year-thesis\\Data\\realec_dump_2019_2_10_16_7_20_6_41_0\\data/2012-2014\\esl_00034.txt\n",
      "C:\\HP_PC\\hp_pc\\Studies\\3rd-year-thesis\\Data\\realec_dump_2019_2_10_16_7_20_6_41_0\\data/2012-2014\\esl_00035.txt\n",
      "C:\\HP_PC\\hp_pc\\Studies\\3rd-year-thesis\\Data\\realec_dump_2019_2_10_16_7_20_6_41_0\\data/2012-2014\\esl_00036.txt\n",
      "C:\\HP_PC\\hp_pc\\Studies\\3rd-year-thesis\\Data\\realec_dump_2019_2_10_16_7_20_6_41_0\\data/2012-2014\\esl_00038.txt\n",
      "C:\\HP_PC\\hp_pc\\Studies\\3rd-year-thesis\\Data\\realec_dump_2019_2_10_16_7_20_6_41_0\\data/2012-2014\\esl_00039.txt\n",
      "C:\\HP_PC\\hp_pc\\Studies\\3rd-year-thesis\\Data\\realec_dump_2019_2_10_16_7_20_6_41_0\\data/2012-2014\\esl_00040.txt\n",
      "C:\\HP_PC\\hp_pc\\Studies\\3rd-year-thesis\\Data\\realec_dump_2019_2_10_16_7_20_6_41_0\\data/2012-2014\\esl_00041.txt\n",
      "C:\\HP_PC\\hp_pc\\Studies\\3rd-year-thesis\\Data\\realec_dump_2019_2_10_16_7_20_6_41_0\\data/2012-2014\\esl_00042.txt\n",
      "C:\\HP_PC\\hp_pc\\Studies\\3rd-year-thesis\\Data\\realec_dump_2019_2_10_16_7_20_6_41_0\\data/2012-2014\\esl_00043.txt\n",
      "C:\\HP_PC\\hp_pc\\Studies\\3rd-year-thesis\\Data\\realec_dump_2019_2_10_16_7_20_6_41_0\\data/2012-2014\\esl_00044.txt\n",
      "C:\\HP_PC\\hp_pc\\Studies\\3rd-year-thesis\\Data\\realec_dump_2019_2_10_16_7_20_6_41_0\\data/2012-2014\\esl_00045.txt\n",
      "C:\\HP_PC\\hp_pc\\Studies\\3rd-year-thesis\\Data\\realec_dump_2019_2_10_16_7_20_6_41_0\\data/2012-2014\\esl_00046.txt\n",
      "C:\\HP_PC\\hp_pc\\Studies\\3rd-year-thesis\\Data\\realec_dump_2019_2_10_16_7_20_6_41_0\\data/2012-2014\\esl_00047.txt\n",
      "C:\\HP_PC\\hp_pc\\Studies\\3rd-year-thesis\\Data\\realec_dump_2019_2_10_16_7_20_6_41_0\\data/2012-2014\\esl_00048.txt\n",
      "C:\\HP_PC\\hp_pc\\Studies\\3rd-year-thesis\\Data\\realec_dump_2019_2_10_16_7_20_6_41_0\\data/2012-2014\\esl_00049.txt\n",
      "C:\\HP_PC\\hp_pc\\Studies\\3rd-year-thesis\\Data\\realec_dump_2019_2_10_16_7_20_6_41_0\\data/2012-2014\\esl_00056.txt\n",
      "C:\\HP_PC\\hp_pc\\Studies\\3rd-year-thesis\\Data\\realec_dump_2019_2_10_16_7_20_6_41_0\\data/2012-2014\\esl_00057.txt\n",
      "C:\\HP_PC\\hp_pc\\Studies\\3rd-year-thesis\\Data\\realec_dump_2019_2_10_16_7_20_6_41_0\\data/2012-2014\\esl_00058.txt\n",
      "C:\\HP_PC\\hp_pc\\Studies\\3rd-year-thesis\\Data\\realec_dump_2019_2_10_16_7_20_6_41_0\\data/2012-2014\\esl_00061.txt\n",
      "C:\\HP_PC\\hp_pc\\Studies\\3rd-year-thesis\\Data\\realec_dump_2019_2_10_16_7_20_6_41_0\\data/2012-2014\\esl_00062.txt\n",
      "C:\\HP_PC\\hp_pc\\Studies\\3rd-year-thesis\\Data\\realec_dump_2019_2_10_16_7_20_6_41_0\\data/2012-2014\\esl_00063.txt\n",
      "C:\\HP_PC\\hp_pc\\Studies\\3rd-year-thesis\\Data\\realec_dump_2019_2_10_16_7_20_6_41_0\\data/2012-2014\\esl_00064.txt\n",
      "C:\\HP_PC\\hp_pc\\Studies\\3rd-year-thesis\\Data\\realec_dump_2019_2_10_16_7_20_6_41_0\\data/2012-2014\\esl_00065.txt\n",
      "C:\\HP_PC\\hp_pc\\Studies\\3rd-year-thesis\\Data\\realec_dump_2019_2_10_16_7_20_6_41_0\\data/2012-2014\\esl_00066.txt\n",
      "C:\\HP_PC\\hp_pc\\Studies\\3rd-year-thesis\\Data\\realec_dump_2019_2_10_16_7_20_6_41_0\\data/2012-2014\\esl_00067.txt\n",
      "C:\\HP_PC\\hp_pc\\Studies\\3rd-year-thesis\\Data\\realec_dump_2019_2_10_16_7_20_6_41_0\\data/2012-2014\\esl_00068.txt\n",
      "C:\\HP_PC\\hp_pc\\Studies\\3rd-year-thesis\\Data\\realec_dump_2019_2_10_16_7_20_6_41_0\\data/2012-2014\\esl_00069.txt\n",
      "C:\\HP_PC\\hp_pc\\Studies\\3rd-year-thesis\\Data\\realec_dump_2019_2_10_16_7_20_6_41_0\\data/2012-2014\\esl_00070.txt\n",
      "C:\\HP_PC\\hp_pc\\Studies\\3rd-year-thesis\\Data\\realec_dump_2019_2_10_16_7_20_6_41_0\\data/2012-2014\\esl_00071.txt\n",
      "C:\\HP_PC\\hp_pc\\Studies\\3rd-year-thesis\\Data\\realec_dump_2019_2_10_16_7_20_6_41_0\\data/2012-2014\\esl_00072.txt\n",
      "C:\\HP_PC\\hp_pc\\Studies\\3rd-year-thesis\\Data\\realec_dump_2019_2_10_16_7_20_6_41_0\\data/2012-2014\\esl_00073.txt\n",
      "C:\\HP_PC\\hp_pc\\Studies\\3rd-year-thesis\\Data\\realec_dump_2019_2_10_16_7_20_6_41_0\\data/2012-2014\\esl_00075.txt\n",
      "C:\\HP_PC\\hp_pc\\Studies\\3rd-year-thesis\\Data\\realec_dump_2019_2_10_16_7_20_6_41_0\\data/2012-2014\\esl_00086.txt\n",
      "C:\\HP_PC\\hp_pc\\Studies\\3rd-year-thesis\\Data\\realec_dump_2019_2_10_16_7_20_6_41_0\\data/2012-2014\\esl_00087.txt\n",
      "C:\\HP_PC\\hp_pc\\Studies\\3rd-year-thesis\\Data\\realec_dump_2019_2_10_16_7_20_6_41_0\\data/2012-2014\\esl_00088.txt\n",
      "C:\\HP_PC\\hp_pc\\Studies\\3rd-year-thesis\\Data\\realec_dump_2019_2_10_16_7_20_6_41_0\\data/2012-2014\\esl_00089.txt\n",
      "C:\\HP_PC\\hp_pc\\Studies\\3rd-year-thesis\\Data\\realec_dump_2019_2_10_16_7_20_6_41_0\\data/2012-2014\\esl_00090.txt\n",
      "C:\\HP_PC\\hp_pc\\Studies\\3rd-year-thesis\\Data\\realec_dump_2019_2_10_16_7_20_6_41_0\\data/2012-2014\\esl_00091.txt\n",
      "C:\\HP_PC\\hp_pc\\Studies\\3rd-year-thesis\\Data\\realec_dump_2019_2_10_16_7_20_6_41_0\\data/2012-2014\\esl_00093.txt\n",
      "C:\\HP_PC\\hp_pc\\Studies\\3rd-year-thesis\\Data\\realec_dump_2019_2_10_16_7_20_6_41_0\\data/2012-2014\\esl_00094.txt\n",
      "C:\\HP_PC\\hp_pc\\Studies\\3rd-year-thesis\\Data\\realec_dump_2019_2_10_16_7_20_6_41_0\\data/2012-2014\\esl_00096.txt\n",
      "C:\\HP_PC\\hp_pc\\Studies\\3rd-year-thesis\\Data\\realec_dump_2019_2_10_16_7_20_6_41_0\\data/2012-2014\\esl_00097.txt\n",
      "C:\\HP_PC\\hp_pc\\Studies\\3rd-year-thesis\\Data\\realec_dump_2019_2_10_16_7_20_6_41_0\\data/2012-2014\\esl_00098.txt\n",
      "C:\\HP_PC\\hp_pc\\Studies\\3rd-year-thesis\\Data\\realec_dump_2019_2_10_16_7_20_6_41_0\\data/2012-2014\\esl_00099.txt\n",
      "C:\\HP_PC\\hp_pc\\Studies\\3rd-year-thesis\\Data\\realec_dump_2019_2_10_16_7_20_6_41_0\\data/2012-2014\\esl_00100.txt\n",
      "C:\\HP_PC\\hp_pc\\Studies\\3rd-year-thesis\\Data\\realec_dump_2019_2_10_16_7_20_6_41_0\\data/2012-2014\\esl_00102.txt\n",
      "C:\\HP_PC\\hp_pc\\Studies\\3rd-year-thesis\\Data\\realec_dump_2019_2_10_16_7_20_6_41_0\\data/2012-2014\\esl_00103.txt\n",
      "C:\\HP_PC\\hp_pc\\Studies\\3rd-year-thesis\\Data\\realec_dump_2019_2_10_16_7_20_6_41_0\\data/2012-2014\\esl_00104.txt\n",
      "C:\\HP_PC\\hp_pc\\Studies\\3rd-year-thesis\\Data\\realec_dump_2019_2_10_16_7_20_6_41_0\\data/2012-2014\\esl_00105.txt\n",
      "C:\\HP_PC\\hp_pc\\Studies\\3rd-year-thesis\\Data\\realec_dump_2019_2_10_16_7_20_6_41_0\\data/2012-2014\\esl_00106.txt\n",
      "C:\\HP_PC\\hp_pc\\Studies\\3rd-year-thesis\\Data\\realec_dump_2019_2_10_16_7_20_6_41_0\\data/2012-2014\\esl_00107.txt\n",
      "C:\\HP_PC\\hp_pc\\Studies\\3rd-year-thesis\\Data\\realec_dump_2019_2_10_16_7_20_6_41_0\\data/2012-2014\\esl_00108.txt\n",
      "C:\\HP_PC\\hp_pc\\Studies\\3rd-year-thesis\\Data\\realec_dump_2019_2_10_16_7_20_6_41_0\\data/2012-2014\\esl_00109.txt\n",
      "C:\\HP_PC\\hp_pc\\Studies\\3rd-year-thesis\\Data\\realec_dump_2019_2_10_16_7_20_6_41_0\\data/2012-2014\\esl_00110.txt\n",
      "C:\\HP_PC\\hp_pc\\Studies\\3rd-year-thesis\\Data\\realec_dump_2019_2_10_16_7_20_6_41_0\\data/2012-2014\\esl_00111.txt\n",
      "C:\\HP_PC\\hp_pc\\Studies\\3rd-year-thesis\\Data\\realec_dump_2019_2_10_16_7_20_6_41_0\\data/2012-2014\\esl_00112.txt\n",
      "C:\\HP_PC\\hp_pc\\Studies\\3rd-year-thesis\\Data\\realec_dump_2019_2_10_16_7_20_6_41_0\\data/2012-2014\\esl_00113.txt\n",
      "C:\\HP_PC\\hp_pc\\Studies\\3rd-year-thesis\\Data\\realec_dump_2019_2_10_16_7_20_6_41_0\\data/2012-2014\\esl_00114.txt\n",
      "C:\\HP_PC\\hp_pc\\Studies\\3rd-year-thesis\\Data\\realec_dump_2019_2_10_16_7_20_6_41_0\\data/2012-2014\\esl_00115.txt\n",
      "C:\\HP_PC\\hp_pc\\Studies\\3rd-year-thesis\\Data\\realec_dump_2019_2_10_16_7_20_6_41_0\\data/2012-2014\\esl_00116.txt\n",
      "C:\\HP_PC\\hp_pc\\Studies\\3rd-year-thesis\\Data\\realec_dump_2019_2_10_16_7_20_6_41_0\\data/2012-2014\\esl_00117.txt\n",
      "C:\\HP_PC\\hp_pc\\Studies\\3rd-year-thesis\\Data\\realec_dump_2019_2_10_16_7_20_6_41_0\\data/2012-2014\\esl_00118.txt\n",
      "C:\\HP_PC\\hp_pc\\Studies\\3rd-year-thesis\\Data\\realec_dump_2019_2_10_16_7_20_6_41_0\\data/2012-2014\\esl_00121.txt\n",
      "C:\\HP_PC\\hp_pc\\Studies\\3rd-year-thesis\\Data\\realec_dump_2019_2_10_16_7_20_6_41_0\\data/2012-2014\\esl_00122.txt\n",
      "C:\\HP_PC\\hp_pc\\Studies\\3rd-year-thesis\\Data\\realec_dump_2019_2_10_16_7_20_6_41_0\\data/2012-2014\\esl_00124.txt\n",
      "C:\\HP_PC\\hp_pc\\Studies\\3rd-year-thesis\\Data\\realec_dump_2019_2_10_16_7_20_6_41_0\\data/2012-2014\\esl_00125.txt\n",
      "C:\\HP_PC\\hp_pc\\Studies\\3rd-year-thesis\\Data\\realec_dump_2019_2_10_16_7_20_6_41_0\\data/2012-2014\\esl_00126.txt\n",
      "C:\\HP_PC\\hp_pc\\Studies\\3rd-year-thesis\\Data\\realec_dump_2019_2_10_16_7_20_6_41_0\\data/2012-2014\\esl_00127.txt\n",
      "C:\\HP_PC\\hp_pc\\Studies\\3rd-year-thesis\\Data\\realec_dump_2019_2_10_16_7_20_6_41_0\\data/2012-2014\\esl_00129.txt\n",
      "C:\\HP_PC\\hp_pc\\Studies\\3rd-year-thesis\\Data\\realec_dump_2019_2_10_16_7_20_6_41_0\\data/2012-2014\\esl_00130.txt\n",
      "C:\\HP_PC\\hp_pc\\Studies\\3rd-year-thesis\\Data\\realec_dump_2019_2_10_16_7_20_6_41_0\\data/2012-2014\\esl_00132.txt\n",
      "C:\\HP_PC\\hp_pc\\Studies\\3rd-year-thesis\\Data\\realec_dump_2019_2_10_16_7_20_6_41_0\\data/2012-2014\\esl_00133.txt\n",
      "C:\\HP_PC\\hp_pc\\Studies\\3rd-year-thesis\\Data\\realec_dump_2019_2_10_16_7_20_6_41_0\\data/2012-2014\\esl_00135.txt\n",
      "C:\\HP_PC\\hp_pc\\Studies\\3rd-year-thesis\\Data\\realec_dump_2019_2_10_16_7_20_6_41_0\\data/2012-2014\\esl_00140.txt\n",
      "C:\\HP_PC\\hp_pc\\Studies\\3rd-year-thesis\\Data\\realec_dump_2019_2_10_16_7_20_6_41_0\\data/2012-2014\\esl_00146.txt\n",
      "C:\\HP_PC\\hp_pc\\Studies\\3rd-year-thesis\\Data\\realec_dump_2019_2_10_16_7_20_6_41_0\\data/2012-2014\\esl_00147.txt\n",
      "C:\\HP_PC\\hp_pc\\Studies\\3rd-year-thesis\\Data\\realec_dump_2019_2_10_16_7_20_6_41_0\\data/2012-2014\\esl_00150.txt\n",
      "C:\\HP_PC\\hp_pc\\Studies\\3rd-year-thesis\\Data\\realec_dump_2019_2_10_16_7_20_6_41_0\\data/2012-2014\\esl_00151.txt\n",
      "C:\\HP_PC\\hp_pc\\Studies\\3rd-year-thesis\\Data\\realec_dump_2019_2_10_16_7_20_6_41_0\\data/2012-2014\\esl_00153.txt\n",
      "C:\\HP_PC\\hp_pc\\Studies\\3rd-year-thesis\\Data\\realec_dump_2019_2_10_16_7_20_6_41_0\\data/2012-2014\\esl_00154.txt\n",
      "C:\\HP_PC\\hp_pc\\Studies\\3rd-year-thesis\\Data\\realec_dump_2019_2_10_16_7_20_6_41_0\\data/2012-2014\\esl_00157.txt\n",
      "C:\\HP_PC\\hp_pc\\Studies\\3rd-year-thesis\\Data\\realec_dump_2019_2_10_16_7_20_6_41_0\\data/2012-2014\\esl_00158.txt\n",
      "C:\\HP_PC\\hp_pc\\Studies\\3rd-year-thesis\\Data\\realec_dump_2019_2_10_16_7_20_6_41_0\\data/2012-2014\\esl_00159.txt\n",
      "C:\\HP_PC\\hp_pc\\Studies\\3rd-year-thesis\\Data\\realec_dump_2019_2_10_16_7_20_6_41_0\\data/2012-2014\\esl_00160.txt\n",
      "C:\\HP_PC\\hp_pc\\Studies\\3rd-year-thesis\\Data\\realec_dump_2019_2_10_16_7_20_6_41_0\\data/2012-2014\\esl_00161.txt\n",
      "C:\\HP_PC\\hp_pc\\Studies\\3rd-year-thesis\\Data\\realec_dump_2019_2_10_16_7_20_6_41_0\\data/2012-2014\\esl_00163.txt\n",
      "C:\\HP_PC\\hp_pc\\Studies\\3rd-year-thesis\\Data\\realec_dump_2019_2_10_16_7_20_6_41_0\\data/2012-2014\\esl_00167.txt\n",
      "C:\\HP_PC\\hp_pc\\Studies\\3rd-year-thesis\\Data\\realec_dump_2019_2_10_16_7_20_6_41_0\\data/2012-2014\\esl_00168.txt\n",
      "C:\\HP_PC\\hp_pc\\Studies\\3rd-year-thesis\\Data\\realec_dump_2019_2_10_16_7_20_6_41_0\\data/2012-2014\\esl_00169.txt\n",
      "C:\\HP_PC\\hp_pc\\Studies\\3rd-year-thesis\\Data\\realec_dump_2019_2_10_16_7_20_6_41_0\\data/2012-2014\\esl_00176.txt\n",
      "C:\\HP_PC\\hp_pc\\Studies\\3rd-year-thesis\\Data\\realec_dump_2019_2_10_16_7_20_6_41_0\\data/2012-2014\\esl_00177.txt\n",
      "C:\\HP_PC\\hp_pc\\Studies\\3rd-year-thesis\\Data\\realec_dump_2019_2_10_16_7_20_6_41_0\\data/2012-2014\\esl_00178.txt\n",
      "C:\\HP_PC\\hp_pc\\Studies\\3rd-year-thesis\\Data\\realec_dump_2019_2_10_16_7_20_6_41_0\\data/2012-2014\\esl_00179.txt\n",
      "C:\\HP_PC\\hp_pc\\Studies\\3rd-year-thesis\\Data\\realec_dump_2019_2_10_16_7_20_6_41_0\\data/2012-2014\\esl_00180.txt\n",
      "C:\\HP_PC\\hp_pc\\Studies\\3rd-year-thesis\\Data\\realec_dump_2019_2_10_16_7_20_6_41_0\\data/2012-2014\\esl_00181.txt\n",
      "C:\\HP_PC\\hp_pc\\Studies\\3rd-year-thesis\\Data\\realec_dump_2019_2_10_16_7_20_6_41_0\\data/2012-2014\\esl_00182.txt\n",
      "C:\\HP_PC\\hp_pc\\Studies\\3rd-year-thesis\\Data\\realec_dump_2019_2_10_16_7_20_6_41_0\\data/2012-2014\\esl_00183.txt\n",
      "C:\\HP_PC\\hp_pc\\Studies\\3rd-year-thesis\\Data\\realec_dump_2019_2_10_16_7_20_6_41_0\\data/2012-2014\\esl_00184.txt\n",
      "C:\\HP_PC\\hp_pc\\Studies\\3rd-year-thesis\\Data\\realec_dump_2019_2_10_16_7_20_6_41_0\\data/2012-2014\\esl_00185.txt\n",
      "C:\\HP_PC\\hp_pc\\Studies\\3rd-year-thesis\\Data\\realec_dump_2019_2_10_16_7_20_6_41_0\\data/2012-2014\\esl_00186.txt\n",
      "C:\\HP_PC\\hp_pc\\Studies\\3rd-year-thesis\\Data\\realec_dump_2019_2_10_16_7_20_6_41_0\\data/2012-2014\\esl_00187.txt\n",
      "C:\\HP_PC\\hp_pc\\Studies\\3rd-year-thesis\\Data\\realec_dump_2019_2_10_16_7_20_6_41_0\\data/2012-2014\\esl_00188.txt\n",
      "C:\\HP_PC\\hp_pc\\Studies\\3rd-year-thesis\\Data\\realec_dump_2019_2_10_16_7_20_6_41_0\\data/2012-2014\\esl_00189.txt\n",
      "C:\\HP_PC\\hp_pc\\Studies\\3rd-year-thesis\\Data\\realec_dump_2019_2_10_16_7_20_6_41_0\\data/2012-2014\\esl_00190.txt\n",
      "C:\\HP_PC\\hp_pc\\Studies\\3rd-year-thesis\\Data\\realec_dump_2019_2_10_16_7_20_6_41_0\\data/2012-2014\\esl_00191.txt\n",
      "C:\\HP_PC\\hp_pc\\Studies\\3rd-year-thesis\\Data\\realec_dump_2019_2_10_16_7_20_6_41_0\\data/2012-2014\\esl_00192.txt\n",
      "C:\\HP_PC\\hp_pc\\Studies\\3rd-year-thesis\\Data\\realec_dump_2019_2_10_16_7_20_6_41_0\\data/2012-2014\\esl_00193.txt\n",
      "C:\\HP_PC\\hp_pc\\Studies\\3rd-year-thesis\\Data\\realec_dump_2019_2_10_16_7_20_6_41_0\\data/2012-2014\\esl_00194.txt\n",
      "C:\\HP_PC\\hp_pc\\Studies\\3rd-year-thesis\\Data\\realec_dump_2019_2_10_16_7_20_6_41_0\\data/2012-2014\\esl_00195.txt\n",
      "C:\\HP_PC\\hp_pc\\Studies\\3rd-year-thesis\\Data\\realec_dump_2019_2_10_16_7_20_6_41_0\\data/2012-2014\\esl_00196.txt\n",
      "C:\\HP_PC\\hp_pc\\Studies\\3rd-year-thesis\\Data\\realec_dump_2019_2_10_16_7_20_6_41_0\\data/2012-2014\\esl_00197.txt\n",
      "C:\\HP_PC\\hp_pc\\Studies\\3rd-year-thesis\\Data\\realec_dump_2019_2_10_16_7_20_6_41_0\\data/2012-2014\\esl_00198.txt\n",
      "C:\\HP_PC\\hp_pc\\Studies\\3rd-year-thesis\\Data\\realec_dump_2019_2_10_16_7_20_6_41_0\\data/2012-2014\\esl_00199.txt\n",
      "C:\\HP_PC\\hp_pc\\Studies\\3rd-year-thesis\\Data\\realec_dump_2019_2_10_16_7_20_6_41_0\\data/2012-2014\\esl_00200.txt\n",
      "C:\\HP_PC\\hp_pc\\Studies\\3rd-year-thesis\\Data\\realec_dump_2019_2_10_16_7_20_6_41_0\\data/2012-2014\\esl_00201.txt\n",
      "C:\\HP_PC\\hp_pc\\Studies\\3rd-year-thesis\\Data\\realec_dump_2019_2_10_16_7_20_6_41_0\\data/2012-2014\\esl_00202.txt\n",
      "C:\\HP_PC\\hp_pc\\Studies\\3rd-year-thesis\\Data\\realec_dump_2019_2_10_16_7_20_6_41_0\\data/2012-2014\\esl_00203.txt\n",
      "C:\\HP_PC\\hp_pc\\Studies\\3rd-year-thesis\\Data\\realec_dump_2019_2_10_16_7_20_6_41_0\\data/2012-2014\\esl_00204.txt\n",
      "C:\\HP_PC\\hp_pc\\Studies\\3rd-year-thesis\\Data\\realec_dump_2019_2_10_16_7_20_6_41_0\\data/2012-2014\\esl_00206.txt\n",
      "C:\\HP_PC\\hp_pc\\Studies\\3rd-year-thesis\\Data\\realec_dump_2019_2_10_16_7_20_6_41_0\\data/2012-2014\\esl_00207.txt\n",
      "C:\\HP_PC\\hp_pc\\Studies\\3rd-year-thesis\\Data\\realec_dump_2019_2_10_16_7_20_6_41_0\\data/2012-2014\\esl_00208.txt\n",
      "C:\\HP_PC\\hp_pc\\Studies\\3rd-year-thesis\\Data\\realec_dump_2019_2_10_16_7_20_6_41_0\\data/2012-2014\\esl_00209.txt\n",
      "C:\\HP_PC\\hp_pc\\Studies\\3rd-year-thesis\\Data\\realec_dump_2019_2_10_16_7_20_6_41_0\\data/2012-2014\\esl_00210.txt\n",
      "C:\\HP_PC\\hp_pc\\Studies\\3rd-year-thesis\\Data\\realec_dump_2019_2_10_16_7_20_6_41_0\\data/2012-2014\\esl_00211.txt\n",
      "C:\\HP_PC\\hp_pc\\Studies\\3rd-year-thesis\\Data\\realec_dump_2019_2_10_16_7_20_6_41_0\\data/2012-2014\\esl_00212.txt\n",
      "C:\\HP_PC\\hp_pc\\Studies\\3rd-year-thesis\\Data\\realec_dump_2019_2_10_16_7_20_6_41_0\\data/2012-2014\\esl_00213.txt\n",
      "C:\\HP_PC\\hp_pc\\Studies\\3rd-year-thesis\\Data\\realec_dump_2019_2_10_16_7_20_6_41_0\\data/2012-2014\\esl_00214.txt\n",
      "C:\\HP_PC\\hp_pc\\Studies\\3rd-year-thesis\\Data\\realec_dump_2019_2_10_16_7_20_6_41_0\\data/2012-2014\\esl_00215.txt\n",
      "C:\\HP_PC\\hp_pc\\Studies\\3rd-year-thesis\\Data\\realec_dump_2019_2_10_16_7_20_6_41_0\\data/2012-2014\\esl_00216.txt\n",
      "C:\\HP_PC\\hp_pc\\Studies\\3rd-year-thesis\\Data\\realec_dump_2019_2_10_16_7_20_6_41_0\\data/2012-2014\\esl_00217.txt\n",
      "C:\\HP_PC\\hp_pc\\Studies\\3rd-year-thesis\\Data\\realec_dump_2019_2_10_16_7_20_6_41_0\\data/2012-2014\\esl_00218.txt\n"
     ]
    },
    {
     "name": "stdout",
     "output_type": "stream",
     "text": [
      "C:\\HP_PC\\hp_pc\\Studies\\3rd-year-thesis\\Data\\realec_dump_2019_2_10_16_7_20_6_41_0\\data/2012-2014\\esl_00219.txt\n",
      "C:\\HP_PC\\hp_pc\\Studies\\3rd-year-thesis\\Data\\realec_dump_2019_2_10_16_7_20_6_41_0\\data/2012-2014\\esl_00220.txt\n",
      "C:\\HP_PC\\hp_pc\\Studies\\3rd-year-thesis\\Data\\realec_dump_2019_2_10_16_7_20_6_41_0\\data/2012-2014\\esl_00221.txt\n",
      "C:\\HP_PC\\hp_pc\\Studies\\3rd-year-thesis\\Data\\realec_dump_2019_2_10_16_7_20_6_41_0\\data/2012-2014\\esl_00222.txt\n",
      "C:\\HP_PC\\hp_pc\\Studies\\3rd-year-thesis\\Data\\realec_dump_2019_2_10_16_7_20_6_41_0\\data/2012-2014\\esl_00223.txt\n",
      "C:\\HP_PC\\hp_pc\\Studies\\3rd-year-thesis\\Data\\realec_dump_2019_2_10_16_7_20_6_41_0\\data/2012-2014\\esl_00224.txt\n",
      "C:\\HP_PC\\hp_pc\\Studies\\3rd-year-thesis\\Data\\realec_dump_2019_2_10_16_7_20_6_41_0\\data/2012-2014\\esl_00225.txt\n",
      "C:\\HP_PC\\hp_pc\\Studies\\3rd-year-thesis\\Data\\realec_dump_2019_2_10_16_7_20_6_41_0\\data/2012-2014\\esl_00226.txt\n",
      "C:\\HP_PC\\hp_pc\\Studies\\3rd-year-thesis\\Data\\realec_dump_2019_2_10_16_7_20_6_41_0\\data/2012-2014\\esl_00227.txt\n",
      "C:\\HP_PC\\hp_pc\\Studies\\3rd-year-thesis\\Data\\realec_dump_2019_2_10_16_7_20_6_41_0\\data/2012-2014\\esl_00228.txt\n",
      "C:\\HP_PC\\hp_pc\\Studies\\3rd-year-thesis\\Data\\realec_dump_2019_2_10_16_7_20_6_41_0\\data/2012-2014\\esl_00229.txt\n",
      "C:\\HP_PC\\hp_pc\\Studies\\3rd-year-thesis\\Data\\realec_dump_2019_2_10_16_7_20_6_41_0\\data/2012-2014\\esl_00230.txt\n",
      "C:\\HP_PC\\hp_pc\\Studies\\3rd-year-thesis\\Data\\realec_dump_2019_2_10_16_7_20_6_41_0\\data/2012-2014\\esl_00231.txt\n",
      "C:\\HP_PC\\hp_pc\\Studies\\3rd-year-thesis\\Data\\realec_dump_2019_2_10_16_7_20_6_41_0\\data/2012-2014\\esl_00232.txt\n",
      "C:\\HP_PC\\hp_pc\\Studies\\3rd-year-thesis\\Data\\realec_dump_2019_2_10_16_7_20_6_41_0\\data/2012-2014\\esl_00233.txt\n",
      "C:\\HP_PC\\hp_pc\\Studies\\3rd-year-thesis\\Data\\realec_dump_2019_2_10_16_7_20_6_41_0\\data/2012-2014\\esl_00234.txt\n",
      "C:\\HP_PC\\hp_pc\\Studies\\3rd-year-thesis\\Data\\realec_dump_2019_2_10_16_7_20_6_41_0\\data/2012-2014\\esl_00235.txt\n",
      "C:\\HP_PC\\hp_pc\\Studies\\3rd-year-thesis\\Data\\realec_dump_2019_2_10_16_7_20_6_41_0\\data/2012-2014\\esl_00236.txt\n",
      "C:\\HP_PC\\hp_pc\\Studies\\3rd-year-thesis\\Data\\realec_dump_2019_2_10_16_7_20_6_41_0\\data/2012-2014\\esl_00237.txt\n",
      "C:\\HP_PC\\hp_pc\\Studies\\3rd-year-thesis\\Data\\realec_dump_2019_2_10_16_7_20_6_41_0\\data/2012-2014\\esl_00238.txt\n",
      "C:\\HP_PC\\hp_pc\\Studies\\3rd-year-thesis\\Data\\realec_dump_2019_2_10_16_7_20_6_41_0\\data/2012-2014\\esl_00239.txt\n",
      "C:\\HP_PC\\hp_pc\\Studies\\3rd-year-thesis\\Data\\realec_dump_2019_2_10_16_7_20_6_41_0\\data/2012-2014\\esl_00240.txt\n",
      "C:\\HP_PC\\hp_pc\\Studies\\3rd-year-thesis\\Data\\realec_dump_2019_2_10_16_7_20_6_41_0\\data/2012-2014\\esl_00241.txt\n",
      "C:\\HP_PC\\hp_pc\\Studies\\3rd-year-thesis\\Data\\realec_dump_2019_2_10_16_7_20_6_41_0\\data/2012-2014\\esl_00242.txt\n",
      "C:\\HP_PC\\hp_pc\\Studies\\3rd-year-thesis\\Data\\realec_dump_2019_2_10_16_7_20_6_41_0\\data/2012-2014\\esl_00243.txt\n",
      "C:\\HP_PC\\hp_pc\\Studies\\3rd-year-thesis\\Data\\realec_dump_2019_2_10_16_7_20_6_41_0\\data/2012-2014\\esl_00244.txt\n",
      "C:\\HP_PC\\hp_pc\\Studies\\3rd-year-thesis\\Data\\realec_dump_2019_2_10_16_7_20_6_41_0\\data/2012-2014\\esl_00245.txt\n",
      "C:\\HP_PC\\hp_pc\\Studies\\3rd-year-thesis\\Data\\realec_dump_2019_2_10_16_7_20_6_41_0\\data/2012-2014\\esl_00246.txt\n",
      "C:\\HP_PC\\hp_pc\\Studies\\3rd-year-thesis\\Data\\realec_dump_2019_2_10_16_7_20_6_41_0\\data/2012-2014\\esl_00247.txt\n",
      "C:\\HP_PC\\hp_pc\\Studies\\3rd-year-thesis\\Data\\realec_dump_2019_2_10_16_7_20_6_41_0\\data/2012-2014\\esl_00248.txt\n",
      "C:\\HP_PC\\hp_pc\\Studies\\3rd-year-thesis\\Data\\realec_dump_2019_2_10_16_7_20_6_41_0\\data/2012-2014\\esl_00249.txt\n",
      "C:\\HP_PC\\hp_pc\\Studies\\3rd-year-thesis\\Data\\realec_dump_2019_2_10_16_7_20_6_41_0\\data/2012-2014\\esl_00250.txt\n",
      "C:\\HP_PC\\hp_pc\\Studies\\3rd-year-thesis\\Data\\realec_dump_2019_2_10_16_7_20_6_41_0\\data/2012-2014\\esl_00251.txt\n",
      "C:\\HP_PC\\hp_pc\\Studies\\3rd-year-thesis\\Data\\realec_dump_2019_2_10_16_7_20_6_41_0\\data/2012-2014\\esl_00252.txt\n",
      "C:\\HP_PC\\hp_pc\\Studies\\3rd-year-thesis\\Data\\realec_dump_2019_2_10_16_7_20_6_41_0\\data/2012-2014\\esl_00253.txt\n",
      "C:\\HP_PC\\hp_pc\\Studies\\3rd-year-thesis\\Data\\realec_dump_2019_2_10_16_7_20_6_41_0\\data/2012-2014\\esl_00254.txt\n",
      "C:\\HP_PC\\hp_pc\\Studies\\3rd-year-thesis\\Data\\realec_dump_2019_2_10_16_7_20_6_41_0\\data/2012-2014\\esl_00255.txt\n",
      "C:\\HP_PC\\hp_pc\\Studies\\3rd-year-thesis\\Data\\realec_dump_2019_2_10_16_7_20_6_41_0\\data/2012-2014\\esl_00256.txt\n",
      "C:\\HP_PC\\hp_pc\\Studies\\3rd-year-thesis\\Data\\realec_dump_2019_2_10_16_7_20_6_41_0\\data/2012-2014\\esl_00257.txt\n",
      "C:\\HP_PC\\hp_pc\\Studies\\3rd-year-thesis\\Data\\realec_dump_2019_2_10_16_7_20_6_41_0\\data/2012-2014\\esl_00258.txt\n",
      "C:\\HP_PC\\hp_pc\\Studies\\3rd-year-thesis\\Data\\realec_dump_2019_2_10_16_7_20_6_41_0\\data/2012-2014\\esl_00259.txt\n",
      "C:\\HP_PC\\hp_pc\\Studies\\3rd-year-thesis\\Data\\realec_dump_2019_2_10_16_7_20_6_41_0\\data/2012-2014\\esl_00260.txt\n",
      "C:\\HP_PC\\hp_pc\\Studies\\3rd-year-thesis\\Data\\realec_dump_2019_2_10_16_7_20_6_41_0\\data/2012-2014\\esl_00261.txt\n",
      "C:\\HP_PC\\hp_pc\\Studies\\3rd-year-thesis\\Data\\realec_dump_2019_2_10_16_7_20_6_41_0\\data/2012-2014\\esl_00262.txt\n",
      "C:\\HP_PC\\hp_pc\\Studies\\3rd-year-thesis\\Data\\realec_dump_2019_2_10_16_7_20_6_41_0\\data/2012-2014\\esl_00263.txt\n",
      "C:\\HP_PC\\hp_pc\\Studies\\3rd-year-thesis\\Data\\realec_dump_2019_2_10_16_7_20_6_41_0\\data/2012-2014\\esl_00264.txt\n",
      "C:\\HP_PC\\hp_pc\\Studies\\3rd-year-thesis\\Data\\realec_dump_2019_2_10_16_7_20_6_41_0\\data/2012-2014\\esl_00265.txt\n",
      "C:\\HP_PC\\hp_pc\\Studies\\3rd-year-thesis\\Data\\realec_dump_2019_2_10_16_7_20_6_41_0\\data/2012-2014\\esl_00266.txt\n",
      "C:\\HP_PC\\hp_pc\\Studies\\3rd-year-thesis\\Data\\realec_dump_2019_2_10_16_7_20_6_41_0\\data/2012-2014\\esl_00267.txt\n",
      "C:\\HP_PC\\hp_pc\\Studies\\3rd-year-thesis\\Data\\realec_dump_2019_2_10_16_7_20_6_41_0\\data/2012-2014\\esl_00268.txt\n",
      "C:\\HP_PC\\hp_pc\\Studies\\3rd-year-thesis\\Data\\realec_dump_2019_2_10_16_7_20_6_41_0\\data/2012-2014\\esl_00269.txt\n",
      "C:\\HP_PC\\hp_pc\\Studies\\3rd-year-thesis\\Data\\realec_dump_2019_2_10_16_7_20_6_41_0\\data/2012-2014\\esl_00270.txt\n",
      "C:\\HP_PC\\hp_pc\\Studies\\3rd-year-thesis\\Data\\realec_dump_2019_2_10_16_7_20_6_41_0\\data/2012-2014\\esl_00271.txt\n",
      "C:\\HP_PC\\hp_pc\\Studies\\3rd-year-thesis\\Data\\realec_dump_2019_2_10_16_7_20_6_41_0\\data/2012-2014\\esl_00272.txt\n",
      "C:\\HP_PC\\hp_pc\\Studies\\3rd-year-thesis\\Data\\realec_dump_2019_2_10_16_7_20_6_41_0\\data/2012-2014\\esl_00273.txt\n",
      "C:\\HP_PC\\hp_pc\\Studies\\3rd-year-thesis\\Data\\realec_dump_2019_2_10_16_7_20_6_41_0\\data/2012-2014\\esl_00274.txt\n",
      "C:\\HP_PC\\hp_pc\\Studies\\3rd-year-thesis\\Data\\realec_dump_2019_2_10_16_7_20_6_41_0\\data/2012-2014\\esl_00275.txt\n",
      "C:\\HP_PC\\hp_pc\\Studies\\3rd-year-thesis\\Data\\realec_dump_2019_2_10_16_7_20_6_41_0\\data/2012-2014\\esl_00276.txt\n",
      "C:\\HP_PC\\hp_pc\\Studies\\3rd-year-thesis\\Data\\realec_dump_2019_2_10_16_7_20_6_41_0\\data/2012-2014\\esl_00278.txt\n",
      "C:\\HP_PC\\hp_pc\\Studies\\3rd-year-thesis\\Data\\realec_dump_2019_2_10_16_7_20_6_41_0\\data/2012-2014\\esl_00279.txt\n",
      "C:\\HP_PC\\hp_pc\\Studies\\3rd-year-thesis\\Data\\realec_dump_2019_2_10_16_7_20_6_41_0\\data/2012-2014\\esl_00280.txt\n",
      "C:\\HP_PC\\hp_pc\\Studies\\3rd-year-thesis\\Data\\realec_dump_2019_2_10_16_7_20_6_41_0\\data/2012-2014\\esl_00281.txt\n",
      "C:\\HP_PC\\hp_pc\\Studies\\3rd-year-thesis\\Data\\realec_dump_2019_2_10_16_7_20_6_41_0\\data/2012-2014\\esl_00282.txt\n",
      "C:\\HP_PC\\hp_pc\\Studies\\3rd-year-thesis\\Data\\realec_dump_2019_2_10_16_7_20_6_41_0\\data/2012-2014\\esl_00283.txt\n",
      "C:\\HP_PC\\hp_pc\\Studies\\3rd-year-thesis\\Data\\realec_dump_2019_2_10_16_7_20_6_41_0\\data/2012-2014\\esl_00284.txt\n",
      "C:\\HP_PC\\hp_pc\\Studies\\3rd-year-thesis\\Data\\realec_dump_2019_2_10_16_7_20_6_41_0\\data/2012-2014\\esl_00285.txt\n",
      "C:\\HP_PC\\hp_pc\\Studies\\3rd-year-thesis\\Data\\realec_dump_2019_2_10_16_7_20_6_41_0\\data/2012-2014\\esl_00286.txt\n",
      "C:\\HP_PC\\hp_pc\\Studies\\3rd-year-thesis\\Data\\realec_dump_2019_2_10_16_7_20_6_41_0\\data/2012-2014\\esl_00287.txt\n",
      "C:\\HP_PC\\hp_pc\\Studies\\3rd-year-thesis\\Data\\realec_dump_2019_2_10_16_7_20_6_41_0\\data/2012-2014\\esl_00288.txt\n",
      "C:\\HP_PC\\hp_pc\\Studies\\3rd-year-thesis\\Data\\realec_dump_2019_2_10_16_7_20_6_41_0\\data/2012-2014\\esl_00289.txt\n",
      "C:\\HP_PC\\hp_pc\\Studies\\3rd-year-thesis\\Data\\realec_dump_2019_2_10_16_7_20_6_41_0\\data/2012-2014\\esl_00290.txt\n",
      "C:\\HP_PC\\hp_pc\\Studies\\3rd-year-thesis\\Data\\realec_dump_2019_2_10_16_7_20_6_41_0\\data/2012-2014\\esl_00291.txt\n",
      "C:\\HP_PC\\hp_pc\\Studies\\3rd-year-thesis\\Data\\realec_dump_2019_2_10_16_7_20_6_41_0\\data/2012-2014\\esl_00292.txt\n",
      "C:\\HP_PC\\hp_pc\\Studies\\3rd-year-thesis\\Data\\realec_dump_2019_2_10_16_7_20_6_41_0\\data/2012-2014\\esl_00293.txt\n",
      "C:\\HP_PC\\hp_pc\\Studies\\3rd-year-thesis\\Data\\realec_dump_2019_2_10_16_7_20_6_41_0\\data/2012-2014\\esl_00294.txt\n",
      "C:\\HP_PC\\hp_pc\\Studies\\3rd-year-thesis\\Data\\realec_dump_2019_2_10_16_7_20_6_41_0\\data/2012-2014\\esl_00295.txt\n",
      "C:\\HP_PC\\hp_pc\\Studies\\3rd-year-thesis\\Data\\realec_dump_2019_2_10_16_7_20_6_41_0\\data/2012-2014\\esl_00296.txt\n",
      "C:\\HP_PC\\hp_pc\\Studies\\3rd-year-thesis\\Data\\realec_dump_2019_2_10_16_7_20_6_41_0\\data/2012-2014\\esl_00297.txt\n",
      "C:\\HP_PC\\hp_pc\\Studies\\3rd-year-thesis\\Data\\realec_dump_2019_2_10_16_7_20_6_41_0\\data/2012-2014\\esl_00298.txt\n",
      "C:\\HP_PC\\hp_pc\\Studies\\3rd-year-thesis\\Data\\realec_dump_2019_2_10_16_7_20_6_41_0\\data/2012-2014\\esl_00299.txt\n",
      "C:\\HP_PC\\hp_pc\\Studies\\3rd-year-thesis\\Data\\realec_dump_2019_2_10_16_7_20_6_41_0\\data/2012-2014\\esl_00300.txt\n",
      "C:\\HP_PC\\hp_pc\\Studies\\3rd-year-thesis\\Data\\realec_dump_2019_2_10_16_7_20_6_41_0\\data/2012-2014\\esl_00301.txt\n",
      "C:\\HP_PC\\hp_pc\\Studies\\3rd-year-thesis\\Data\\realec_dump_2019_2_10_16_7_20_6_41_0\\data/2012-2014\\esl_00302.txt\n",
      "C:\\HP_PC\\hp_pc\\Studies\\3rd-year-thesis\\Data\\realec_dump_2019_2_10_16_7_20_6_41_0\\data/2012-2014\\esl_00303.txt\n",
      "C:\\HP_PC\\hp_pc\\Studies\\3rd-year-thesis\\Data\\realec_dump_2019_2_10_16_7_20_6_41_0\\data/2012-2014\\esl_00304.txt\n",
      "C:\\HP_PC\\hp_pc\\Studies\\3rd-year-thesis\\Data\\realec_dump_2019_2_10_16_7_20_6_41_0\\data/2012-2014\\esl_00305.txt\n",
      "C:\\HP_PC\\hp_pc\\Studies\\3rd-year-thesis\\Data\\realec_dump_2019_2_10_16_7_20_6_41_0\\data/2012-2014\\esl_00306.txt\n",
      "C:\\HP_PC\\hp_pc\\Studies\\3rd-year-thesis\\Data\\realec_dump_2019_2_10_16_7_20_6_41_0\\data/2012-2014\\esl_00307.txt\n",
      "C:\\HP_PC\\hp_pc\\Studies\\3rd-year-thesis\\Data\\realec_dump_2019_2_10_16_7_20_6_41_0\\data/2012-2014\\esl_00308.txt\n",
      "C:\\HP_PC\\hp_pc\\Studies\\3rd-year-thesis\\Data\\realec_dump_2019_2_10_16_7_20_6_41_0\\data/2012-2014\\esl_00309.txt\n",
      "C:\\HP_PC\\hp_pc\\Studies\\3rd-year-thesis\\Data\\realec_dump_2019_2_10_16_7_20_6_41_0\\data/2012-2014\\esl_00310.txt\n",
      "C:\\HP_PC\\hp_pc\\Studies\\3rd-year-thesis\\Data\\realec_dump_2019_2_10_16_7_20_6_41_0\\data/2012-2014\\esl_00311.txt\n",
      "C:\\HP_PC\\hp_pc\\Studies\\3rd-year-thesis\\Data\\realec_dump_2019_2_10_16_7_20_6_41_0\\data/2012-2014\\esl_00312.txt\n",
      "C:\\HP_PC\\hp_pc\\Studies\\3rd-year-thesis\\Data\\realec_dump_2019_2_10_16_7_20_6_41_0\\data/2012-2014\\esl_00313.txt\n",
      "C:\\HP_PC\\hp_pc\\Studies\\3rd-year-thesis\\Data\\realec_dump_2019_2_10_16_7_20_6_41_0\\data/2012-2014\\esl_00314.txt\n",
      "C:\\HP_PC\\hp_pc\\Studies\\3rd-year-thesis\\Data\\realec_dump_2019_2_10_16_7_20_6_41_0\\data/2012-2014\\esl_00315.txt\n",
      "C:\\HP_PC\\hp_pc\\Studies\\3rd-year-thesis\\Data\\realec_dump_2019_2_10_16_7_20_6_41_0\\data/2012-2014\\esl_00316.txt\n",
      "C:\\HP_PC\\hp_pc\\Studies\\3rd-year-thesis\\Data\\realec_dump_2019_2_10_16_7_20_6_41_0\\data/2012-2014\\esl_00317.txt\n",
      "C:\\HP_PC\\hp_pc\\Studies\\3rd-year-thesis\\Data\\realec_dump_2019_2_10_16_7_20_6_41_0\\data/2012-2014\\esl_00318.txt\n",
      "C:\\HP_PC\\hp_pc\\Studies\\3rd-year-thesis\\Data\\realec_dump_2019_2_10_16_7_20_6_41_0\\data/2012-2014\\esl_00319.txt\n",
      "C:\\HP_PC\\hp_pc\\Studies\\3rd-year-thesis\\Data\\realec_dump_2019_2_10_16_7_20_6_41_0\\data/2012-2014\\esl_00320.txt\n",
      "C:\\HP_PC\\hp_pc\\Studies\\3rd-year-thesis\\Data\\realec_dump_2019_2_10_16_7_20_6_41_0\\data/2012-2014\\esl_00321.txt\n",
      "C:\\HP_PC\\hp_pc\\Studies\\3rd-year-thesis\\Data\\realec_dump_2019_2_10_16_7_20_6_41_0\\data/2012-2014\\esl_00322.txt\n",
      "C:\\HP_PC\\hp_pc\\Studies\\3rd-year-thesis\\Data\\realec_dump_2019_2_10_16_7_20_6_41_0\\data/2012-2014\\esl_00323.txt\n",
      "C:\\HP_PC\\hp_pc\\Studies\\3rd-year-thesis\\Data\\realec_dump_2019_2_10_16_7_20_6_41_0\\data/2012-2014\\esl_00324.txt\n",
      "C:\\HP_PC\\hp_pc\\Studies\\3rd-year-thesis\\Data\\realec_dump_2019_2_10_16_7_20_6_41_0\\data/2012-2014\\esl_00325.txt\n",
      "C:\\HP_PC\\hp_pc\\Studies\\3rd-year-thesis\\Data\\realec_dump_2019_2_10_16_7_20_6_41_0\\data/2012-2014\\esl_00326.txt\n",
      "C:\\HP_PC\\hp_pc\\Studies\\3rd-year-thesis\\Data\\realec_dump_2019_2_10_16_7_20_6_41_0\\data/2012-2014\\esl_00327.txt\n",
      "C:\\HP_PC\\hp_pc\\Studies\\3rd-year-thesis\\Data\\realec_dump_2019_2_10_16_7_20_6_41_0\\data/2012-2014\\esl_00328.txt\n",
      "C:\\HP_PC\\hp_pc\\Studies\\3rd-year-thesis\\Data\\realec_dump_2019_2_10_16_7_20_6_41_0\\data/2012-2014\\esl_00329.txt\n",
      "C:\\HP_PC\\hp_pc\\Studies\\3rd-year-thesis\\Data\\realec_dump_2019_2_10_16_7_20_6_41_0\\data/2012-2014\\esl_00330.txt\n",
      "C:\\HP_PC\\hp_pc\\Studies\\3rd-year-thesis\\Data\\realec_dump_2019_2_10_16_7_20_6_41_0\\data/2012-2014\\esl_00331.txt\n",
      "C:\\HP_PC\\hp_pc\\Studies\\3rd-year-thesis\\Data\\realec_dump_2019_2_10_16_7_20_6_41_0\\data/2012-2014\\esl_00332.txt\n",
      "C:\\HP_PC\\hp_pc\\Studies\\3rd-year-thesis\\Data\\realec_dump_2019_2_10_16_7_20_6_41_0\\data/2012-2014\\esl_00333.txt\n",
      "C:\\HP_PC\\hp_pc\\Studies\\3rd-year-thesis\\Data\\realec_dump_2019_2_10_16_7_20_6_41_0\\data/2012-2014\\esl_00334.txt\n",
      "C:\\HP_PC\\hp_pc\\Studies\\3rd-year-thesis\\Data\\realec_dump_2019_2_10_16_7_20_6_41_0\\data/2012-2014\\esl_00335.txt\n",
      "C:\\HP_PC\\hp_pc\\Studies\\3rd-year-thesis\\Data\\realec_dump_2019_2_10_16_7_20_6_41_0\\data/2012-2014\\esl_00336.txt\n",
      "C:\\HP_PC\\hp_pc\\Studies\\3rd-year-thesis\\Data\\realec_dump_2019_2_10_16_7_20_6_41_0\\data/2012-2014\\esl_00337.txt\n",
      "C:\\HP_PC\\hp_pc\\Studies\\3rd-year-thesis\\Data\\realec_dump_2019_2_10_16_7_20_6_41_0\\data/2012-2014\\esl_00338.txt\n",
      "C:\\HP_PC\\hp_pc\\Studies\\3rd-year-thesis\\Data\\realec_dump_2019_2_10_16_7_20_6_41_0\\data/2012-2014\\esl_00339.txt\n",
      "C:\\HP_PC\\hp_pc\\Studies\\3rd-year-thesis\\Data\\realec_dump_2019_2_10_16_7_20_6_41_0\\data/2012-2014\\esl_00340.txt\n",
      "C:\\HP_PC\\hp_pc\\Studies\\3rd-year-thesis\\Data\\realec_dump_2019_2_10_16_7_20_6_41_0\\data/2012-2014\\esl_00341.txt\n",
      "C:\\HP_PC\\hp_pc\\Studies\\3rd-year-thesis\\Data\\realec_dump_2019_2_10_16_7_20_6_41_0\\data/2012-2014\\esl_00342.txt\n",
      "C:\\HP_PC\\hp_pc\\Studies\\3rd-year-thesis\\Data\\realec_dump_2019_2_10_16_7_20_6_41_0\\data/2012-2014\\esl_00343.txt\n",
      "C:\\HP_PC\\hp_pc\\Studies\\3rd-year-thesis\\Data\\realec_dump_2019_2_10_16_7_20_6_41_0\\data/2012-2014\\esl_00344.txt\n",
      "C:\\HP_PC\\hp_pc\\Studies\\3rd-year-thesis\\Data\\realec_dump_2019_2_10_16_7_20_6_41_0\\data/2012-2014\\esl_00345.txt\n",
      "C:\\HP_PC\\hp_pc\\Studies\\3rd-year-thesis\\Data\\realec_dump_2019_2_10_16_7_20_6_41_0\\data/2012-2014\\esl_00346.txt\n",
      "C:\\HP_PC\\hp_pc\\Studies\\3rd-year-thesis\\Data\\realec_dump_2019_2_10_16_7_20_6_41_0\\data/2012-2014\\esl_00347.txt\n",
      "C:\\HP_PC\\hp_pc\\Studies\\3rd-year-thesis\\Data\\realec_dump_2019_2_10_16_7_20_6_41_0\\data/2012-2014\\esl_00348.txt\n",
      "C:\\HP_PC\\hp_pc\\Studies\\3rd-year-thesis\\Data\\realec_dump_2019_2_10_16_7_20_6_41_0\\data/2012-2014\\esl_00349.txt\n",
      "C:\\HP_PC\\hp_pc\\Studies\\3rd-year-thesis\\Data\\realec_dump_2019_2_10_16_7_20_6_41_0\\data/2012-2014\\esl_00350.txt\n",
      "C:\\HP_PC\\hp_pc\\Studies\\3rd-year-thesis\\Data\\realec_dump_2019_2_10_16_7_20_6_41_0\\data/2012-2014\\esl_00351.txt\n",
      "C:\\HP_PC\\hp_pc\\Studies\\3rd-year-thesis\\Data\\realec_dump_2019_2_10_16_7_20_6_41_0\\data/2012-2014\\esl_00352.txt\n",
      "C:\\HP_PC\\hp_pc\\Studies\\3rd-year-thesis\\Data\\realec_dump_2019_2_10_16_7_20_6_41_0\\data/2012-2014\\esl_00353.txt\n",
      "C:\\HP_PC\\hp_pc\\Studies\\3rd-year-thesis\\Data\\realec_dump_2019_2_10_16_7_20_6_41_0\\data/2012-2014\\esl_00354.txt\n",
      "C:\\HP_PC\\hp_pc\\Studies\\3rd-year-thesis\\Data\\realec_dump_2019_2_10_16_7_20_6_41_0\\data/2012-2014\\esl_00355.txt\n",
      "C:\\HP_PC\\hp_pc\\Studies\\3rd-year-thesis\\Data\\realec_dump_2019_2_10_16_7_20_6_41_0\\data/2012-2014\\esl_00356.txt\n",
      "C:\\HP_PC\\hp_pc\\Studies\\3rd-year-thesis\\Data\\realec_dump_2019_2_10_16_7_20_6_41_0\\data/2012-2014\\esl_00357.txt\n",
      "C:\\HP_PC\\hp_pc\\Studies\\3rd-year-thesis\\Data\\realec_dump_2019_2_10_16_7_20_6_41_0\\data/2012-2014\\esl_00358.txt\n",
      "C:\\HP_PC\\hp_pc\\Studies\\3rd-year-thesis\\Data\\realec_dump_2019_2_10_16_7_20_6_41_0\\data/2012-2014\\esl_00359.txt\n",
      "C:\\HP_PC\\hp_pc\\Studies\\3rd-year-thesis\\Data\\realec_dump_2019_2_10_16_7_20_6_41_0\\data/2012-2014\\esl_00360.txt\n",
      "C:\\HP_PC\\hp_pc\\Studies\\3rd-year-thesis\\Data\\realec_dump_2019_2_10_16_7_20_6_41_0\\data/2012-2014\\esl_00361.txt\n",
      "C:\\HP_PC\\hp_pc\\Studies\\3rd-year-thesis\\Data\\realec_dump_2019_2_10_16_7_20_6_41_0\\data/2012-2014\\esl_00362.txt\n",
      "C:\\HP_PC\\hp_pc\\Studies\\3rd-year-thesis\\Data\\realec_dump_2019_2_10_16_7_20_6_41_0\\data/2012-2014\\esl_00363.txt\n",
      "C:\\HP_PC\\hp_pc\\Studies\\3rd-year-thesis\\Data\\realec_dump_2019_2_10_16_7_20_6_41_0\\data/2012-2014\\esl_00364.txt\n",
      "C:\\HP_PC\\hp_pc\\Studies\\3rd-year-thesis\\Data\\realec_dump_2019_2_10_16_7_20_6_41_0\\data/2012-2014\\esl_00365.txt\n",
      "C:\\HP_PC\\hp_pc\\Studies\\3rd-year-thesis\\Data\\realec_dump_2019_2_10_16_7_20_6_41_0\\data/2012-2014\\esl_00366.txt\n",
      "C:\\HP_PC\\hp_pc\\Studies\\3rd-year-thesis\\Data\\realec_dump_2019_2_10_16_7_20_6_41_0\\data/2012-2014\\esl_00367.txt\n"
     ]
    },
    {
     "name": "stdout",
     "output_type": "stream",
     "text": [
      "C:\\HP_PC\\hp_pc\\Studies\\3rd-year-thesis\\Data\\realec_dump_2019_2_10_16_7_20_6_41_0\\data/2012-2014\\esl_00368.txt\n",
      "C:\\HP_PC\\hp_pc\\Studies\\3rd-year-thesis\\Data\\realec_dump_2019_2_10_16_7_20_6_41_0\\data/2012-2014\\esl_00369.txt\n",
      "C:\\HP_PC\\hp_pc\\Studies\\3rd-year-thesis\\Data\\realec_dump_2019_2_10_16_7_20_6_41_0\\data/2012-2014\\esl_00370.txt\n",
      "C:\\HP_PC\\hp_pc\\Studies\\3rd-year-thesis\\Data\\realec_dump_2019_2_10_16_7_20_6_41_0\\data/2012-2014\\esl_00371.txt\n",
      "C:\\HP_PC\\hp_pc\\Studies\\3rd-year-thesis\\Data\\realec_dump_2019_2_10_16_7_20_6_41_0\\data/2012-2014\\esl_00372.txt\n",
      "C:\\HP_PC\\hp_pc\\Studies\\3rd-year-thesis\\Data\\realec_dump_2019_2_10_16_7_20_6_41_0\\data/2012-2014\\esl_00373.txt\n",
      "C:\\HP_PC\\hp_pc\\Studies\\3rd-year-thesis\\Data\\realec_dump_2019_2_10_16_7_20_6_41_0\\data/2012-2014\\esl_00374.txt\n",
      "C:\\HP_PC\\hp_pc\\Studies\\3rd-year-thesis\\Data\\realec_dump_2019_2_10_16_7_20_6_41_0\\data/2012-2014\\esl_00375.txt\n",
      "C:\\HP_PC\\hp_pc\\Studies\\3rd-year-thesis\\Data\\realec_dump_2019_2_10_16_7_20_6_41_0\\data/2012-2014\\esl_00376.txt\n",
      "C:\\HP_PC\\hp_pc\\Studies\\3rd-year-thesis\\Data\\realec_dump_2019_2_10_16_7_20_6_41_0\\data/2012-2014\\esl_00377.txt\n",
      "C:\\HP_PC\\hp_pc\\Studies\\3rd-year-thesis\\Data\\realec_dump_2019_2_10_16_7_20_6_41_0\\data/2012-2014\\esl_00378.txt\n",
      "C:\\HP_PC\\hp_pc\\Studies\\3rd-year-thesis\\Data\\realec_dump_2019_2_10_16_7_20_6_41_0\\data/2012-2014\\esl_00379.txt\n",
      "C:\\HP_PC\\hp_pc\\Studies\\3rd-year-thesis\\Data\\realec_dump_2019_2_10_16_7_20_6_41_0\\data/2012-2014\\esl_00380.txt\n",
      "C:\\HP_PC\\hp_pc\\Studies\\3rd-year-thesis\\Data\\realec_dump_2019_2_10_16_7_20_6_41_0\\data/2012-2014\\esl_00381.txt\n",
      "C:\\HP_PC\\hp_pc\\Studies\\3rd-year-thesis\\Data\\realec_dump_2019_2_10_16_7_20_6_41_0\\data/2012-2014\\esl_00382.txt\n",
      "C:\\HP_PC\\hp_pc\\Studies\\3rd-year-thesis\\Data\\realec_dump_2019_2_10_16_7_20_6_41_0\\data/2012-2014\\esl_00383.txt\n",
      "C:\\HP_PC\\hp_pc\\Studies\\3rd-year-thesis\\Data\\realec_dump_2019_2_10_16_7_20_6_41_0\\data/2012-2014\\esl_00384.txt\n",
      "C:\\HP_PC\\hp_pc\\Studies\\3rd-year-thesis\\Data\\realec_dump_2019_2_10_16_7_20_6_41_0\\data/2012-2014\\esl_00385.txt\n",
      "C:\\HP_PC\\hp_pc\\Studies\\3rd-year-thesis\\Data\\realec_dump_2019_2_10_16_7_20_6_41_0\\data/2012-2014\\esl_00386.txt\n",
      "C:\\HP_PC\\hp_pc\\Studies\\3rd-year-thesis\\Data\\realec_dump_2019_2_10_16_7_20_6_41_0\\data/2012-2014\\esl_00387.txt\n",
      "C:\\HP_PC\\hp_pc\\Studies\\3rd-year-thesis\\Data\\realec_dump_2019_2_10_16_7_20_6_41_0\\data/2012-2014\\esl_00388.txt\n",
      "C:\\HP_PC\\hp_pc\\Studies\\3rd-year-thesis\\Data\\realec_dump_2019_2_10_16_7_20_6_41_0\\data/2012-2014\\esl_00389.txt\n",
      "C:\\HP_PC\\hp_pc\\Studies\\3rd-year-thesis\\Data\\realec_dump_2019_2_10_16_7_20_6_41_0\\data/2012-2014\\esl_00390.txt\n",
      "C:\\HP_PC\\hp_pc\\Studies\\3rd-year-thesis\\Data\\realec_dump_2019_2_10_16_7_20_6_41_0\\data/2012-2014\\esl_00391.txt\n",
      "C:\\HP_PC\\hp_pc\\Studies\\3rd-year-thesis\\Data\\realec_dump_2019_2_10_16_7_20_6_41_0\\data/2012-2014\\esl_00392.txt\n",
      "C:\\HP_PC\\hp_pc\\Studies\\3rd-year-thesis\\Data\\realec_dump_2019_2_10_16_7_20_6_41_0\\data/2012-2014\\esl_00393.txt\n",
      "C:\\HP_PC\\hp_pc\\Studies\\3rd-year-thesis\\Data\\realec_dump_2019_2_10_16_7_20_6_41_0\\data/2012-2014\\esl_00394.txt\n",
      "C:\\HP_PC\\hp_pc\\Studies\\3rd-year-thesis\\Data\\realec_dump_2019_2_10_16_7_20_6_41_0\\data/2012-2014\\esl_00395.txt\n",
      "C:\\HP_PC\\hp_pc\\Studies\\3rd-year-thesis\\Data\\realec_dump_2019_2_10_16_7_20_6_41_0\\data/2012-2014\\esl_00396.txt\n",
      "C:\\HP_PC\\hp_pc\\Studies\\3rd-year-thesis\\Data\\realec_dump_2019_2_10_16_7_20_6_41_0\\data/2012-2014\\esl_00397.txt\n",
      "C:\\HP_PC\\hp_pc\\Studies\\3rd-year-thesis\\Data\\realec_dump_2019_2_10_16_7_20_6_41_0\\data/2012-2014\\esl_00398.txt\n",
      "C:\\HP_PC\\hp_pc\\Studies\\3rd-year-thesis\\Data\\realec_dump_2019_2_10_16_7_20_6_41_0\\data/2012-2014\\esl_00399.txt\n",
      "C:\\HP_PC\\hp_pc\\Studies\\3rd-year-thesis\\Data\\realec_dump_2019_2_10_16_7_20_6_41_0\\data/2012-2014\\esl_00400.txt\n",
      "C:\\HP_PC\\hp_pc\\Studies\\3rd-year-thesis\\Data\\realec_dump_2019_2_10_16_7_20_6_41_0\\data/2012-2014\\esl_00401.txt\n",
      "C:\\HP_PC\\hp_pc\\Studies\\3rd-year-thesis\\Data\\realec_dump_2019_2_10_16_7_20_6_41_0\\data/2012-2014\\esl_00402.txt\n",
      "C:\\HP_PC\\hp_pc\\Studies\\3rd-year-thesis\\Data\\realec_dump_2019_2_10_16_7_20_6_41_0\\data/2012-2014\\esl_00403.txt\n",
      "C:\\HP_PC\\hp_pc\\Studies\\3rd-year-thesis\\Data\\realec_dump_2019_2_10_16_7_20_6_41_0\\data/2012-2014\\esl_00404.txt\n",
      "C:\\HP_PC\\hp_pc\\Studies\\3rd-year-thesis\\Data\\realec_dump_2019_2_10_16_7_20_6_41_0\\data/2012-2014\\esl_00405.txt\n",
      "C:\\HP_PC\\hp_pc\\Studies\\3rd-year-thesis\\Data\\realec_dump_2019_2_10_16_7_20_6_41_0\\data/2012-2014\\esl_00406.txt\n",
      "C:\\HP_PC\\hp_pc\\Studies\\3rd-year-thesis\\Data\\realec_dump_2019_2_10_16_7_20_6_41_0\\data/2012-2014\\esl_00407.txt\n",
      "C:\\HP_PC\\hp_pc\\Studies\\3rd-year-thesis\\Data\\realec_dump_2019_2_10_16_7_20_6_41_0\\data/2012-2014\\esl_00408.txt\n",
      "C:\\HP_PC\\hp_pc\\Studies\\3rd-year-thesis\\Data\\realec_dump_2019_2_10_16_7_20_6_41_0\\data/2012-2014\\esl_00409.txt\n",
      "C:\\HP_PC\\hp_pc\\Studies\\3rd-year-thesis\\Data\\realec_dump_2019_2_10_16_7_20_6_41_0\\data/2012-2014\\esl_00410.txt\n",
      "C:\\HP_PC\\hp_pc\\Studies\\3rd-year-thesis\\Data\\realec_dump_2019_2_10_16_7_20_6_41_0\\data/2012-2014\\esl_00411.txt\n",
      "C:\\HP_PC\\hp_pc\\Studies\\3rd-year-thesis\\Data\\realec_dump_2019_2_10_16_7_20_6_41_0\\data/2012-2014\\esl_00412.txt\n",
      "C:\\HP_PC\\hp_pc\\Studies\\3rd-year-thesis\\Data\\realec_dump_2019_2_10_16_7_20_6_41_0\\data/2012-2014\\esl_00413.txt\n",
      "C:\\HP_PC\\hp_pc\\Studies\\3rd-year-thesis\\Data\\realec_dump_2019_2_10_16_7_20_6_41_0\\data/2012-2014\\esl_00414.txt\n",
      "C:\\HP_PC\\hp_pc\\Studies\\3rd-year-thesis\\Data\\realec_dump_2019_2_10_16_7_20_6_41_0\\data/2012-2014\\esl_00415.txt\n",
      "C:\\HP_PC\\hp_pc\\Studies\\3rd-year-thesis\\Data\\realec_dump_2019_2_10_16_7_20_6_41_0\\data/2012-2014\\esl_00416.txt\n",
      "C:\\HP_PC\\hp_pc\\Studies\\3rd-year-thesis\\Data\\realec_dump_2019_2_10_16_7_20_6_41_0\\data/2012-2014\\esl_00417.txt\n",
      "C:\\HP_PC\\hp_pc\\Studies\\3rd-year-thesis\\Data\\realec_dump_2019_2_10_16_7_20_6_41_0\\data/2012-2014\\esl_00418.txt\n",
      "C:\\HP_PC\\hp_pc\\Studies\\3rd-year-thesis\\Data\\realec_dump_2019_2_10_16_7_20_6_41_0\\data/2012-2014\\esl_00419.txt\n",
      "C:\\HP_PC\\hp_pc\\Studies\\3rd-year-thesis\\Data\\realec_dump_2019_2_10_16_7_20_6_41_0\\data/2012-2014\\esl_00420.txt\n",
      "C:\\HP_PC\\hp_pc\\Studies\\3rd-year-thesis\\Data\\realec_dump_2019_2_10_16_7_20_6_41_0\\data/2012-2014\\esl_00421.txt\n",
      "C:\\HP_PC\\hp_pc\\Studies\\3rd-year-thesis\\Data\\realec_dump_2019_2_10_16_7_20_6_41_0\\data/2012-2014\\esl_00422.txt\n",
      "C:\\HP_PC\\hp_pc\\Studies\\3rd-year-thesis\\Data\\realec_dump_2019_2_10_16_7_20_6_41_0\\data/2012-2014\\esl_00423.txt\n",
      "C:\\HP_PC\\hp_pc\\Studies\\3rd-year-thesis\\Data\\realec_dump_2019_2_10_16_7_20_6_41_0\\data/2012-2014\\esl_00424.txt\n",
      "C:\\HP_PC\\hp_pc\\Studies\\3rd-year-thesis\\Data\\realec_dump_2019_2_10_16_7_20_6_41_0\\data/2012-2014\\esl_00425.txt\n",
      "C:\\HP_PC\\hp_pc\\Studies\\3rd-year-thesis\\Data\\realec_dump_2019_2_10_16_7_20_6_41_0\\data/2012-2014\\esl_00426.txt\n",
      "C:\\HP_PC\\hp_pc\\Studies\\3rd-year-thesis\\Data\\realec_dump_2019_2_10_16_7_20_6_41_0\\data/2012-2014\\esl_00427.txt\n",
      "C:\\HP_PC\\hp_pc\\Studies\\3rd-year-thesis\\Data\\realec_dump_2019_2_10_16_7_20_6_41_0\\data/2012-2014\\esl_00428.txt\n",
      "C:\\HP_PC\\hp_pc\\Studies\\3rd-year-thesis\\Data\\realec_dump_2019_2_10_16_7_20_6_41_0\\data/2012-2014\\esl_00429.txt\n",
      "C:\\HP_PC\\hp_pc\\Studies\\3rd-year-thesis\\Data\\realec_dump_2019_2_10_16_7_20_6_41_0\\data/2012-2014\\esl_00430.txt\n",
      "C:\\HP_PC\\hp_pc\\Studies\\3rd-year-thesis\\Data\\realec_dump_2019_2_10_16_7_20_6_41_0\\data/2012-2014\\esl_00431.txt\n",
      "C:\\HP_PC\\hp_pc\\Studies\\3rd-year-thesis\\Data\\realec_dump_2019_2_10_16_7_20_6_41_0\\data/2012-2014\\esl_00432.txt\n",
      "C:\\HP_PC\\hp_pc\\Studies\\3rd-year-thesis\\Data\\realec_dump_2019_2_10_16_7_20_6_41_0\\data/2012-2014\\esl_00433.txt\n",
      "C:\\HP_PC\\hp_pc\\Studies\\3rd-year-thesis\\Data\\realec_dump_2019_2_10_16_7_20_6_41_0\\data/2012-2014\\esl_00434.txt\n",
      "C:\\HP_PC\\hp_pc\\Studies\\3rd-year-thesis\\Data\\realec_dump_2019_2_10_16_7_20_6_41_0\\data/2012-2014\\esl_00435.txt\n",
      "C:\\HP_PC\\hp_pc\\Studies\\3rd-year-thesis\\Data\\realec_dump_2019_2_10_16_7_20_6_41_0\\data/2012-2014\\esl_00436.txt\n",
      "C:\\HP_PC\\hp_pc\\Studies\\3rd-year-thesis\\Data\\realec_dump_2019_2_10_16_7_20_6_41_0\\data/2012-2014\\esl_00437.txt\n",
      "C:\\HP_PC\\hp_pc\\Studies\\3rd-year-thesis\\Data\\realec_dump_2019_2_10_16_7_20_6_41_0\\data/2012-2014\\esl_00438.txt\n",
      "C:\\HP_PC\\hp_pc\\Studies\\3rd-year-thesis\\Data\\realec_dump_2019_2_10_16_7_20_6_41_0\\data/2012-2014\\esl_00439.txt\n",
      "C:\\HP_PC\\hp_pc\\Studies\\3rd-year-thesis\\Data\\realec_dump_2019_2_10_16_7_20_6_41_0\\data/2012-2014\\esl_00440.txt\n",
      "C:\\HP_PC\\hp_pc\\Studies\\3rd-year-thesis\\Data\\realec_dump_2019_2_10_16_7_20_6_41_0\\data/2012-2014\\esl_00441.txt\n",
      "C:\\HP_PC\\hp_pc\\Studies\\3rd-year-thesis\\Data\\realec_dump_2019_2_10_16_7_20_6_41_0\\data/2012-2014\\esl_00442.txt\n",
      "C:\\HP_PC\\hp_pc\\Studies\\3rd-year-thesis\\Data\\realec_dump_2019_2_10_16_7_20_6_41_0\\data/2012-2014\\esl_00443.txt\n",
      "C:\\HP_PC\\hp_pc\\Studies\\3rd-year-thesis\\Data\\realec_dump_2019_2_10_16_7_20_6_41_0\\data/2012-2014\\esl_00444.txt\n",
      "C:\\HP_PC\\hp_pc\\Studies\\3rd-year-thesis\\Data\\realec_dump_2019_2_10_16_7_20_6_41_0\\data/2012-2014\\esl_00445.txt\n",
      "C:\\HP_PC\\hp_pc\\Studies\\3rd-year-thesis\\Data\\realec_dump_2019_2_10_16_7_20_6_41_0\\data/2012-2014\\esl_00446.txt\n",
      "C:\\HP_PC\\hp_pc\\Studies\\3rd-year-thesis\\Data\\realec_dump_2019_2_10_16_7_20_6_41_0\\data/2012-2014\\esl_00447.txt\n",
      "C:\\HP_PC\\hp_pc\\Studies\\3rd-year-thesis\\Data\\realec_dump_2019_2_10_16_7_20_6_41_0\\data/2012-2014\\esl_00449.txt\n",
      "C:\\HP_PC\\hp_pc\\Studies\\3rd-year-thesis\\Data\\realec_dump_2019_2_10_16_7_20_6_41_0\\data/2012-2014\\esl_00450.txt\n",
      "C:\\HP_PC\\hp_pc\\Studies\\3rd-year-thesis\\Data\\realec_dump_2019_2_10_16_7_20_6_41_0\\data/2012-2014\\esl_00451.txt\n",
      "C:\\HP_PC\\hp_pc\\Studies\\3rd-year-thesis\\Data\\realec_dump_2019_2_10_16_7_20_6_41_0\\data/2012-2014\\esl_00452.txt\n",
      "C:\\HP_PC\\hp_pc\\Studies\\3rd-year-thesis\\Data\\realec_dump_2019_2_10_16_7_20_6_41_0\\data/2012-2014\\esl_00453.txt\n",
      "C:\\HP_PC\\hp_pc\\Studies\\3rd-year-thesis\\Data\\realec_dump_2019_2_10_16_7_20_6_41_0\\data/2012-2014\\esl_00454.txt\n",
      "C:\\HP_PC\\hp_pc\\Studies\\3rd-year-thesis\\Data\\realec_dump_2019_2_10_16_7_20_6_41_0\\data/2012-2014\\esl_00455.txt\n",
      "C:\\HP_PC\\hp_pc\\Studies\\3rd-year-thesis\\Data\\realec_dump_2019_2_10_16_7_20_6_41_0\\data/2012-2014\\esl_00456.txt\n",
      "C:\\HP_PC\\hp_pc\\Studies\\3rd-year-thesis\\Data\\realec_dump_2019_2_10_16_7_20_6_41_0\\data/2012-2014\\esl_00457.txt\n",
      "C:\\HP_PC\\hp_pc\\Studies\\3rd-year-thesis\\Data\\realec_dump_2019_2_10_16_7_20_6_41_0\\data/2012-2014\\esl_00458.txt\n",
      "C:\\HP_PC\\hp_pc\\Studies\\3rd-year-thesis\\Data\\realec_dump_2019_2_10_16_7_20_6_41_0\\data/2012-2014\\esl_00459.txt\n",
      "C:\\HP_PC\\hp_pc\\Studies\\3rd-year-thesis\\Data\\realec_dump_2019_2_10_16_7_20_6_41_0\\data/2012-2014\\esl_00460.txt\n",
      "C:\\HP_PC\\hp_pc\\Studies\\3rd-year-thesis\\Data\\realec_dump_2019_2_10_16_7_20_6_41_0\\data/2012-2014\\esl_00461.txt\n",
      "C:\\HP_PC\\hp_pc\\Studies\\3rd-year-thesis\\Data\\realec_dump_2019_2_10_16_7_20_6_41_0\\data/2012-2014\\esl_00462.txt\n",
      "C:\\HP_PC\\hp_pc\\Studies\\3rd-year-thesis\\Data\\realec_dump_2019_2_10_16_7_20_6_41_0\\data/2012-2014\\esl_00463.txt\n",
      "C:\\HP_PC\\hp_pc\\Studies\\3rd-year-thesis\\Data\\realec_dump_2019_2_10_16_7_20_6_41_0\\data/2012-2014\\esl_00464.txt\n",
      "C:\\HP_PC\\hp_pc\\Studies\\3rd-year-thesis\\Data\\realec_dump_2019_2_10_16_7_20_6_41_0\\data/2012-2014\\esl_00466.txt\n",
      "C:\\HP_PC\\hp_pc\\Studies\\3rd-year-thesis\\Data\\realec_dump_2019_2_10_16_7_20_6_41_0\\data/2012-2014\\esl_00467.txt\n",
      "C:\\HP_PC\\hp_pc\\Studies\\3rd-year-thesis\\Data\\realec_dump_2019_2_10_16_7_20_6_41_0\\data/2012-2014\\esl_00468.txt\n",
      "C:\\HP_PC\\hp_pc\\Studies\\3rd-year-thesis\\Data\\realec_dump_2019_2_10_16_7_20_6_41_0\\data/2012-2014\\esl_00469.txt\n",
      "C:\\HP_PC\\hp_pc\\Studies\\3rd-year-thesis\\Data\\realec_dump_2019_2_10_16_7_20_6_41_0\\data/2012-2014\\esl_00470.txt\n",
      "C:\\HP_PC\\hp_pc\\Studies\\3rd-year-thesis\\Data\\realec_dump_2019_2_10_16_7_20_6_41_0\\data/2012-2014\\esl_00471.txt\n",
      "C:\\HP_PC\\hp_pc\\Studies\\3rd-year-thesis\\Data\\realec_dump_2019_2_10_16_7_20_6_41_0\\data/2012-2014\\esl_00472.txt\n",
      "C:\\HP_PC\\hp_pc\\Studies\\3rd-year-thesis\\Data\\realec_dump_2019_2_10_16_7_20_6_41_0\\data/2012-2014\\esl_00473.txt\n",
      "C:\\HP_PC\\hp_pc\\Studies\\3rd-year-thesis\\Data\\realec_dump_2019_2_10_16_7_20_6_41_0\\data/2012-2014\\esl_00474.txt\n",
      "C:\\HP_PC\\hp_pc\\Studies\\3rd-year-thesis\\Data\\realec_dump_2019_2_10_16_7_20_6_41_0\\data/2012-2014\\esl_00475.txt\n",
      "C:\\HP_PC\\hp_pc\\Studies\\3rd-year-thesis\\Data\\realec_dump_2019_2_10_16_7_20_6_41_0\\data/2012-2014\\esl_00476.txt\n",
      "C:\\HP_PC\\hp_pc\\Studies\\3rd-year-thesis\\Data\\realec_dump_2019_2_10_16_7_20_6_41_0\\data/2012-2014\\esl_00477.txt\n",
      "C:\\HP_PC\\hp_pc\\Studies\\3rd-year-thesis\\Data\\realec_dump_2019_2_10_16_7_20_6_41_0\\data/2012-2014\\esl_00478.txt\n",
      "C:\\HP_PC\\hp_pc\\Studies\\3rd-year-thesis\\Data\\realec_dump_2019_2_10_16_7_20_6_41_0\\data/2012-2014\\esl_00479.txt\n",
      "C:\\HP_PC\\hp_pc\\Studies\\3rd-year-thesis\\Data\\realec_dump_2019_2_10_16_7_20_6_41_0\\data/2012-2014\\esl_00480.txt\n",
      "C:\\HP_PC\\hp_pc\\Studies\\3rd-year-thesis\\Data\\realec_dump_2019_2_10_16_7_20_6_41_0\\data/2012-2014\\esl_00481.txt\n",
      "C:\\HP_PC\\hp_pc\\Studies\\3rd-year-thesis\\Data\\realec_dump_2019_2_10_16_7_20_6_41_0\\data/2012-2014\\esl_00482.txt\n",
      "C:\\HP_PC\\hp_pc\\Studies\\3rd-year-thesis\\Data\\realec_dump_2019_2_10_16_7_20_6_41_0\\data/2012-2014\\esl_00483.txt\n",
      "C:\\HP_PC\\hp_pc\\Studies\\3rd-year-thesis\\Data\\realec_dump_2019_2_10_16_7_20_6_41_0\\data/2012-2014\\esl_00484.txt\n",
      "C:\\HP_PC\\hp_pc\\Studies\\3rd-year-thesis\\Data\\realec_dump_2019_2_10_16_7_20_6_41_0\\data/2012-2014\\esl_00485.txt\n",
      "C:\\HP_PC\\hp_pc\\Studies\\3rd-year-thesis\\Data\\realec_dump_2019_2_10_16_7_20_6_41_0\\data/2012-2014\\esl_00486.txt\n",
      "C:\\HP_PC\\hp_pc\\Studies\\3rd-year-thesis\\Data\\realec_dump_2019_2_10_16_7_20_6_41_0\\data/2012-2014\\esl_00487.txt\n",
      "C:\\HP_PC\\hp_pc\\Studies\\3rd-year-thesis\\Data\\realec_dump_2019_2_10_16_7_20_6_41_0\\data/2012-2014\\esl_00488.txt\n",
      "C:\\HP_PC\\hp_pc\\Studies\\3rd-year-thesis\\Data\\realec_dump_2019_2_10_16_7_20_6_41_0\\data/2012-2014\\esl_00489.txt\n",
      "C:\\HP_PC\\hp_pc\\Studies\\3rd-year-thesis\\Data\\realec_dump_2019_2_10_16_7_20_6_41_0\\data/2012-2014\\esl_00490.txt\n",
      "C:\\HP_PC\\hp_pc\\Studies\\3rd-year-thesis\\Data\\realec_dump_2019_2_10_16_7_20_6_41_0\\data/2012-2014\\esl_00491.txt\n",
      "C:\\HP_PC\\hp_pc\\Studies\\3rd-year-thesis\\Data\\realec_dump_2019_2_10_16_7_20_6_41_0\\data/2012-2014\\esl_00492.txt\n",
      "C:\\HP_PC\\hp_pc\\Studies\\3rd-year-thesis\\Data\\realec_dump_2019_2_10_16_7_20_6_41_0\\data/2012-2014\\esl_00493.txt\n",
      "C:\\HP_PC\\hp_pc\\Studies\\3rd-year-thesis\\Data\\realec_dump_2019_2_10_16_7_20_6_41_0\\data/2012-2014\\esl_00494.txt\n",
      "C:\\HP_PC\\hp_pc\\Studies\\3rd-year-thesis\\Data\\realec_dump_2019_2_10_16_7_20_6_41_0\\data/2012-2014\\esl_00495.txt\n"
     ]
    },
    {
     "ename": "DoesNotExist",
     "evalue": "Lemma matching query does not exist.",
     "output_type": "error",
     "traceback": [
      "\u001b[1;31m---------------------------------------------------------------------------\u001b[0m",
      "\u001b[1;31mDoesNotExist\u001b[0m                              Traceback (most recent call last)",
      "\u001b[1;32m<ipython-input-65-43db8103e2ba>\u001b[0m in \u001b[0;36m<module>\u001b[1;34m\u001b[0m\n\u001b[1;32m----> 1\u001b[1;33m \u001b[0mbase_filler\u001b[0m\u001b[1;33m.\u001b[0m\u001b[0mprocess_next_n\u001b[0m\u001b[1;33m(\u001b[0m\u001b[1;36m1000\u001b[0m\u001b[1;33m,\u001b[0m \u001b[0mshow_titles\u001b[0m\u001b[1;33m=\u001b[0m\u001b[1;32mTrue\u001b[0m\u001b[1;33m)\u001b[0m\u001b[1;33m\u001b[0m\u001b[1;33m\u001b[0m\u001b[0m\n\u001b[0m",
      "\u001b[1;32m<ipython-input-61-2b2558aaf21d>\u001b[0m in \u001b[0;36mprocess_next_n\u001b[1;34m(self, n, show_titles, show_time)\u001b[0m\n\u001b[0;32m     34\u001b[0m             \u001b[1;32mif\u001b[0m \u001b[0mshow_time\u001b[0m\u001b[1;33m:\u001b[0m\u001b[1;33m\u001b[0m\u001b[1;33m\u001b[0m\u001b[0m\n\u001b[0;32m     35\u001b[0m                 \u001b[0mprint\u001b[0m\u001b[1;33m(\u001b[0m\u001b[0mtime\u001b[0m\u001b[1;33m.\u001b[0m\u001b[0mtime\u001b[0m\u001b[1;33m(\u001b[0m\u001b[1;33m)\u001b[0m \u001b[1;33m-\u001b[0m \u001b[0mst_time\u001b[0m\u001b[1;33m)\u001b[0m\u001b[1;33m\u001b[0m\u001b[1;33m\u001b[0m\u001b[0m\n\u001b[1;32m---> 36\u001b[1;33m             \u001b[0mself\u001b[0m\u001b[1;33m.\u001b[0m\u001b[0mprocess_next\u001b[0m\u001b[1;33m(\u001b[0m\u001b[1;33m)\u001b[0m\u001b[1;33m\u001b[0m\u001b[1;33m\u001b[0m\u001b[0m\n\u001b[0m\u001b[0;32m     37\u001b[0m \u001b[1;33m\u001b[0m\u001b[0m\n\u001b[0;32m     38\u001b[0m \u001b[1;33m\u001b[0m\u001b[0m\n",
      "\u001b[1;32m<ipython-input-61-2b2558aaf21d>\u001b[0m in \u001b[0;36mprocess_next\u001b[1;34m(self)\u001b[0m\n\u001b[0;32m     60\u001b[0m         \u001b[1;31m##saving tokens to db:\u001b[0m\u001b[1;33m\u001b[0m\u001b[1;33m\u001b[0m\u001b[1;33m\u001b[0m\u001b[0m\n\u001b[0;32m     61\u001b[0m         tokens = [try_to_get(Token, text=token.text.lower(), lemma = Lemma.objects.get(text=token.lemma_.lower(),\n\u001b[1;32m---> 62\u001b[1;33m                                                                               pos=token.pos_.upper())) for token in parsed]\n\u001b[0m\u001b[0;32m     63\u001b[0m         \u001b[0mToken\u001b[0m\u001b[1;33m.\u001b[0m\u001b[0mobjects\u001b[0m\u001b[1;33m.\u001b[0m\u001b[0mbulk_create\u001b[0m\u001b[1;33m(\u001b[0m\u001b[1;33m[\u001b[0m\u001b[0mtoken\u001b[0m \u001b[1;32mfor\u001b[0m \u001b[0mtoken\u001b[0m \u001b[1;32min\u001b[0m \u001b[0mtokens\u001b[0m \u001b[1;32mif\u001b[0m \u001b[0mtoken\u001b[0m \u001b[1;32mis\u001b[0m \u001b[1;32mnot\u001b[0m \u001b[1;32mNone\u001b[0m \u001b[1;32mand\u001b[0m \u001b[0mtoken\u001b[0m\u001b[1;33m.\u001b[0m\u001b[0mpk\u001b[0m \u001b[1;32mis\u001b[0m \u001b[1;32mNone\u001b[0m\u001b[1;33m]\u001b[0m\u001b[1;33m)\u001b[0m\u001b[1;33m\u001b[0m\u001b[1;33m\u001b[0m\u001b[0m\n\u001b[0;32m     64\u001b[0m \u001b[1;33m\u001b[0m\u001b[0m\n",
      "\u001b[1;32m<ipython-input-61-2b2558aaf21d>\u001b[0m in \u001b[0;36m<listcomp>\u001b[1;34m(.0)\u001b[0m\n\u001b[0;32m     60\u001b[0m         \u001b[1;31m##saving tokens to db:\u001b[0m\u001b[1;33m\u001b[0m\u001b[1;33m\u001b[0m\u001b[1;33m\u001b[0m\u001b[0m\n\u001b[0;32m     61\u001b[0m         tokens = [try_to_get(Token, text=token.text.lower(), lemma = Lemma.objects.get(text=token.lemma_.lower(),\n\u001b[1;32m---> 62\u001b[1;33m                                                                               pos=token.pos_.upper())) for token in parsed]\n\u001b[0m\u001b[0;32m     63\u001b[0m         \u001b[0mToken\u001b[0m\u001b[1;33m.\u001b[0m\u001b[0mobjects\u001b[0m\u001b[1;33m.\u001b[0m\u001b[0mbulk_create\u001b[0m\u001b[1;33m(\u001b[0m\u001b[1;33m[\u001b[0m\u001b[0mtoken\u001b[0m \u001b[1;32mfor\u001b[0m \u001b[0mtoken\u001b[0m \u001b[1;32min\u001b[0m \u001b[0mtokens\u001b[0m \u001b[1;32mif\u001b[0m \u001b[0mtoken\u001b[0m \u001b[1;32mis\u001b[0m \u001b[1;32mnot\u001b[0m \u001b[1;32mNone\u001b[0m \u001b[1;32mand\u001b[0m \u001b[0mtoken\u001b[0m\u001b[1;33m.\u001b[0m\u001b[0mpk\u001b[0m \u001b[1;32mis\u001b[0m \u001b[1;32mNone\u001b[0m\u001b[1;33m]\u001b[0m\u001b[1;33m)\u001b[0m\u001b[1;33m\u001b[0m\u001b[1;33m\u001b[0m\u001b[0m\n\u001b[0;32m     64\u001b[0m \u001b[1;33m\u001b[0m\u001b[0m\n",
      "\u001b[1;32mC:\\HP_PC\\hp_pc\\Studies\\3rd-year-thesis\\environment\\thesis\\lib\\site-packages\\django\\db\\models\\manager.py\u001b[0m in \u001b[0;36mmanager_method\u001b[1;34m(self, *args, **kwargs)\u001b[0m\n\u001b[0;32m     80\u001b[0m         \u001b[1;32mdef\u001b[0m \u001b[0mcreate_method\u001b[0m\u001b[1;33m(\u001b[0m\u001b[0mname\u001b[0m\u001b[1;33m,\u001b[0m \u001b[0mmethod\u001b[0m\u001b[1;33m)\u001b[0m\u001b[1;33m:\u001b[0m\u001b[1;33m\u001b[0m\u001b[1;33m\u001b[0m\u001b[0m\n\u001b[0;32m     81\u001b[0m             \u001b[1;32mdef\u001b[0m \u001b[0mmanager_method\u001b[0m\u001b[1;33m(\u001b[0m\u001b[0mself\u001b[0m\u001b[1;33m,\u001b[0m \u001b[1;33m*\u001b[0m\u001b[0margs\u001b[0m\u001b[1;33m,\u001b[0m \u001b[1;33m**\u001b[0m\u001b[0mkwargs\u001b[0m\u001b[1;33m)\u001b[0m\u001b[1;33m:\u001b[0m\u001b[1;33m\u001b[0m\u001b[1;33m\u001b[0m\u001b[0m\n\u001b[1;32m---> 82\u001b[1;33m                 \u001b[1;32mreturn\u001b[0m \u001b[0mgetattr\u001b[0m\u001b[1;33m(\u001b[0m\u001b[0mself\u001b[0m\u001b[1;33m.\u001b[0m\u001b[0mget_queryset\u001b[0m\u001b[1;33m(\u001b[0m\u001b[1;33m)\u001b[0m\u001b[1;33m,\u001b[0m \u001b[0mname\u001b[0m\u001b[1;33m)\u001b[0m\u001b[1;33m(\u001b[0m\u001b[1;33m*\u001b[0m\u001b[0margs\u001b[0m\u001b[1;33m,\u001b[0m \u001b[1;33m**\u001b[0m\u001b[0mkwargs\u001b[0m\u001b[1;33m)\u001b[0m\u001b[1;33m\u001b[0m\u001b[1;33m\u001b[0m\u001b[0m\n\u001b[0m\u001b[0;32m     83\u001b[0m             \u001b[0mmanager_method\u001b[0m\u001b[1;33m.\u001b[0m\u001b[0m__name__\u001b[0m \u001b[1;33m=\u001b[0m \u001b[0mmethod\u001b[0m\u001b[1;33m.\u001b[0m\u001b[0m__name__\u001b[0m\u001b[1;33m\u001b[0m\u001b[1;33m\u001b[0m\u001b[0m\n\u001b[0;32m     84\u001b[0m             \u001b[0mmanager_method\u001b[0m\u001b[1;33m.\u001b[0m\u001b[0m__doc__\u001b[0m \u001b[1;33m=\u001b[0m \u001b[0mmethod\u001b[0m\u001b[1;33m.\u001b[0m\u001b[0m__doc__\u001b[0m\u001b[1;33m\u001b[0m\u001b[1;33m\u001b[0m\u001b[0m\n",
      "\u001b[1;32mC:\\HP_PC\\hp_pc\\Studies\\3rd-year-thesis\\environment\\thesis\\lib\\site-packages\\django\\db\\models\\query.py\u001b[0m in \u001b[0;36mget\u001b[1;34m(self, *args, **kwargs)\u001b[0m\n\u001b[0;32m    406\u001b[0m             raise self.model.DoesNotExist(\n\u001b[0;32m    407\u001b[0m                 \u001b[1;34m\"%s matching query does not exist.\"\u001b[0m \u001b[1;33m%\u001b[0m\u001b[1;33m\u001b[0m\u001b[1;33m\u001b[0m\u001b[0m\n\u001b[1;32m--> 408\u001b[1;33m                 \u001b[0mself\u001b[0m\u001b[1;33m.\u001b[0m\u001b[0mmodel\u001b[0m\u001b[1;33m.\u001b[0m\u001b[0m_meta\u001b[0m\u001b[1;33m.\u001b[0m\u001b[0mobject_name\u001b[0m\u001b[1;33m\u001b[0m\u001b[1;33m\u001b[0m\u001b[0m\n\u001b[0m\u001b[0;32m    409\u001b[0m             )\n\u001b[0;32m    410\u001b[0m         raise self.model.MultipleObjectsReturned(\n",
      "\u001b[1;31mDoesNotExist\u001b[0m: Lemma matching query does not exist."
     ]
    }
   ],
   "source": [
    "base_filler.process_next_n(1000, show_titles=True)"
   ]
  },
  {
   "cell_type": "code",
   "execution_count": 42,
   "metadata": {},
   "outputs": [],
   "source": [
    "base_filler.current_text_id = 1340"
   ]
  },
  {
   "cell_type": "code",
   "execution_count": 43,
   "metadata": {},
   "outputs": [
    {
     "name": "stdout",
     "output_type": "stream",
     "text": [
      "C:\\HP_PC\\hp_pc\\Studies\\3rd-year-thesis\\Data\\realec_dump_2019_2_10_16_7_20_6_41_0\\data/Academic_Writing\\2_exercise\\student29_revised.txt\n",
      "C:\\HP_PC\\hp_pc\\Studies\\3rd-year-thesis\\Data\\realec_dump_2019_2_10_16_7_20_6_41_0\\data/Academic_Writing\\2_exercise\\student2_revised.txt\n",
      "C:\\HP_PC\\hp_pc\\Studies\\3rd-year-thesis\\Data\\realec_dump_2019_2_10_16_7_20_6_41_0\\data/Academic_Writing\\2_exercise\\student30.txt\n",
      "C:\\HP_PC\\hp_pc\\Studies\\3rd-year-thesis\\Data\\realec_dump_2019_2_10_16_7_20_6_41_0\\data/Academic_Writing\\2_exercise\\student30_revised.txt\n",
      "C:\\HP_PC\\hp_pc\\Studies\\3rd-year-thesis\\Data\\realec_dump_2019_2_10_16_7_20_6_41_0\\data/Academic_Writing\\2_exercise\\student31.txt\n",
      "C:\\HP_PC\\hp_pc\\Studies\\3rd-year-thesis\\Data\\realec_dump_2019_2_10_16_7_20_6_41_0\\data/Academic_Writing\\2_exercise\\student31_revised.txt\n",
      "C:\\HP_PC\\hp_pc\\Studies\\3rd-year-thesis\\Data\\realec_dump_2019_2_10_16_7_20_6_41_0\\data/Academic_Writing\\2_exercise\\student35.txt\n",
      "C:\\HP_PC\\hp_pc\\Studies\\3rd-year-thesis\\Data\\realec_dump_2019_2_10_16_7_20_6_41_0\\data/Academic_Writing\\2_exercise\\student35_revised.txt\n",
      "C:\\HP_PC\\hp_pc\\Studies\\3rd-year-thesis\\Data\\realec_dump_2019_2_10_16_7_20_6_41_0\\data/Academic_Writing\\2_exercise\\student37.txt\n",
      "C:\\HP_PC\\hp_pc\\Studies\\3rd-year-thesis\\Data\\realec_dump_2019_2_10_16_7_20_6_41_0\\data/Academic_Writing\\2_exercise\\student37_revised.txt\n",
      "C:\\HP_PC\\hp_pc\\Studies\\3rd-year-thesis\\Data\\realec_dump_2019_2_10_16_7_20_6_41_0\\data/Academic_Writing\\2_exercise\\student38.txt\n",
      "C:\\HP_PC\\hp_pc\\Studies\\3rd-year-thesis\\Data\\realec_dump_2019_2_10_16_7_20_6_41_0\\data/Academic_Writing\\2_exercise\\student38_revised.txt\n",
      "C:\\HP_PC\\hp_pc\\Studies\\3rd-year-thesis\\Data\\realec_dump_2019_2_10_16_7_20_6_41_0\\data/Academic_Writing\\2_exercise\\student4.txt\n",
      "C:\\HP_PC\\hp_pc\\Studies\\3rd-year-thesis\\Data\\realec_dump_2019_2_10_16_7_20_6_41_0\\data/Academic_Writing\\2_exercise\\student40.txt\n",
      "C:\\HP_PC\\hp_pc\\Studies\\3rd-year-thesis\\Data\\realec_dump_2019_2_10_16_7_20_6_41_0\\data/Academic_Writing\\2_exercise\\student40_revised.txt\n",
      "C:\\HP_PC\\hp_pc\\Studies\\3rd-year-thesis\\Data\\realec_dump_2019_2_10_16_7_20_6_41_0\\data/Academic_Writing\\2_exercise\\student41.txt\n",
      "C:\\HP_PC\\hp_pc\\Studies\\3rd-year-thesis\\Data\\realec_dump_2019_2_10_16_7_20_6_41_0\\data/Academic_Writing\\2_exercise\\student41_revised.txt\n",
      "C:\\HP_PC\\hp_pc\\Studies\\3rd-year-thesis\\Data\\realec_dump_2019_2_10_16_7_20_6_41_0\\data/Academic_Writing\\2_exercise\\student43.txt\n",
      "C:\\HP_PC\\hp_pc\\Studies\\3rd-year-thesis\\Data\\realec_dump_2019_2_10_16_7_20_6_41_0\\data/Academic_Writing\\2_exercise\\student43_revised.txt\n",
      "C:\\HP_PC\\hp_pc\\Studies\\3rd-year-thesis\\Data\\realec_dump_2019_2_10_16_7_20_6_41_0\\data/Academic_Writing\\2_exercise\\student44.txt\n",
      "C:\\HP_PC\\hp_pc\\Studies\\3rd-year-thesis\\Data\\realec_dump_2019_2_10_16_7_20_6_41_0\\data/Academic_Writing\\2_exercise\\student44_revised.txt\n",
      "C:\\HP_PC\\hp_pc\\Studies\\3rd-year-thesis\\Data\\realec_dump_2019_2_10_16_7_20_6_41_0\\data/Academic_Writing\\2_exercise\\student45.txt\n",
      "C:\\HP_PC\\hp_pc\\Studies\\3rd-year-thesis\\Data\\realec_dump_2019_2_10_16_7_20_6_41_0\\data/Academic_Writing\\2_exercise\\student45_revised.txt\n",
      "C:\\HP_PC\\hp_pc\\Studies\\3rd-year-thesis\\Data\\realec_dump_2019_2_10_16_7_20_6_41_0\\data/Academic_Writing\\2_exercise\\student4_revised.txt\n",
      "C:\\HP_PC\\hp_pc\\Studies\\3rd-year-thesis\\Data\\realec_dump_2019_2_10_16_7_20_6_41_0\\data/Academic_Writing\\2_exercise\\student5.txt\n",
      "C:\\HP_PC\\hp_pc\\Studies\\3rd-year-thesis\\Data\\realec_dump_2019_2_10_16_7_20_6_41_0\\data/Academic_Writing\\2_exercise\\student5_ex.txt\n",
      "C:\\HP_PC\\hp_pc\\Studies\\3rd-year-thesis\\Data\\realec_dump_2019_2_10_16_7_20_6_41_0\\data/Academic_Writing\\2_exercise\\student5_review.txt\n",
      "C:\\HP_PC\\hp_pc\\Studies\\3rd-year-thesis\\Data\\realec_dump_2019_2_10_16_7_20_6_41_0\\data/Academic_Writing\\2_exercise\\student7.txt\n",
      "C:\\HP_PC\\hp_pc\\Studies\\3rd-year-thesis\\Data\\realec_dump_2019_2_10_16_7_20_6_41_0\\data/Academic_Writing\\2_exercise\\student7_ex.txt\n",
      "C:\\HP_PC\\hp_pc\\Studies\\3rd-year-thesis\\Data\\realec_dump_2019_2_10_16_7_20_6_41_0\\data/Academic_Writing\\2_exercise\\student9.txt\n",
      "C:\\HP_PC\\hp_pc\\Studies\\3rd-year-thesis\\Data\\realec_dump_2019_2_10_16_7_20_6_41_0\\data/Academic_Writing\\3_exercise\\student10_ex.txt\n",
      "C:\\HP_PC\\hp_pc\\Studies\\3rd-year-thesis\\Data\\realec_dump_2019_2_10_16_7_20_6_41_0\\data/Academic_Writing\\3_exercise\\student11_ex.txt\n",
      "C:\\HP_PC\\hp_pc\\Studies\\3rd-year-thesis\\Data\\realec_dump_2019_2_10_16_7_20_6_41_0\\data/Academic_Writing\\3_exercise\\student11_review.txt\n",
      "C:\\HP_PC\\hp_pc\\Studies\\3rd-year-thesis\\Data\\realec_dump_2019_2_10_16_7_20_6_41_0\\data/Academic_Writing\\3_exercise\\student11_review_revised.txt\n",
      "C:\\HP_PC\\hp_pc\\Studies\\3rd-year-thesis\\Data\\realec_dump_2019_2_10_16_7_20_6_41_0\\data/Academic_Writing\\3_exercise\\student12_ex.txt\n",
      "C:\\HP_PC\\hp_pc\\Studies\\3rd-year-thesis\\Data\\realec_dump_2019_2_10_16_7_20_6_41_0\\data/Academic_Writing\\3_exercise\\student12_review.txt\n",
      "C:\\HP_PC\\hp_pc\\Studies\\3rd-year-thesis\\Data\\realec_dump_2019_2_10_16_7_20_6_41_0\\data/Academic_Writing\\3_exercise\\student12_revised.txt\n",
      "C:\\HP_PC\\hp_pc\\Studies\\3rd-year-thesis\\Data\\realec_dump_2019_2_10_16_7_20_6_41_0\\data/Academic_Writing\\3_exercise\\student13_ex.txt\n",
      "C:\\HP_PC\\hp_pc\\Studies\\3rd-year-thesis\\Data\\realec_dump_2019_2_10_16_7_20_6_41_0\\data/Academic_Writing\\3_exercise\\student13_review.txt\n",
      "C:\\HP_PC\\hp_pc\\Studies\\3rd-year-thesis\\Data\\realec_dump_2019_2_10_16_7_20_6_41_0\\data/Academic_Writing\\3_exercise\\student13_revised.txt\n",
      "C:\\HP_PC\\hp_pc\\Studies\\3rd-year-thesis\\Data\\realec_dump_2019_2_10_16_7_20_6_41_0\\data/Academic_Writing\\3_exercise\\student14_ex.txt\n",
      "C:\\HP_PC\\hp_pc\\Studies\\3rd-year-thesis\\Data\\realec_dump_2019_2_10_16_7_20_6_41_0\\data/Academic_Writing\\3_exercise\\student14_review.txt\n",
      "C:\\HP_PC\\hp_pc\\Studies\\3rd-year-thesis\\Data\\realec_dump_2019_2_10_16_7_20_6_41_0\\data/Academic_Writing\\3_exercise\\student14_revised.txt\n",
      "C:\\HP_PC\\hp_pc\\Studies\\3rd-year-thesis\\Data\\realec_dump_2019_2_10_16_7_20_6_41_0\\data/Academic_Writing\\3_exercise\\student15_review.txt\n",
      "C:\\HP_PC\\hp_pc\\Studies\\3rd-year-thesis\\Data\\realec_dump_2019_2_10_16_7_20_6_41_0\\data/Academic_Writing\\3_exercise\\student15_revised.txt\n",
      "C:\\HP_PC\\hp_pc\\Studies\\3rd-year-thesis\\Data\\realec_dump_2019_2_10_16_7_20_6_41_0\\data/Academic_Writing\\3_exercise\\student16_ex.txt\n",
      "C:\\HP_PC\\hp_pc\\Studies\\3rd-year-thesis\\Data\\realec_dump_2019_2_10_16_7_20_6_41_0\\data/Academic_Writing\\3_exercise\\student16_review.txt\n",
      "C:\\HP_PC\\hp_pc\\Studies\\3rd-year-thesis\\Data\\realec_dump_2019_2_10_16_7_20_6_41_0\\data/Academic_Writing\\3_exercise\\student16_review_revised.txt\n",
      "C:\\HP_PC\\hp_pc\\Studies\\3rd-year-thesis\\Data\\realec_dump_2019_2_10_16_7_20_6_41_0\\data/Academic_Writing\\3_exercise\\student17_ex.txt\n",
      "C:\\HP_PC\\hp_pc\\Studies\\3rd-year-thesis\\Data\\realec_dump_2019_2_10_16_7_20_6_41_0\\data/Academic_Writing\\3_exercise\\student17_review.txt\n",
      "C:\\HP_PC\\hp_pc\\Studies\\3rd-year-thesis\\Data\\realec_dump_2019_2_10_16_7_20_6_41_0\\data/Academic_Writing\\3_exercise\\student17_revised.txt\n",
      "C:\\HP_PC\\hp_pc\\Studies\\3rd-year-thesis\\Data\\realec_dump_2019_2_10_16_7_20_6_41_0\\data/Academic_Writing\\3_exercise\\student19_ex.txt\n",
      "C:\\HP_PC\\hp_pc\\Studies\\3rd-year-thesis\\Data\\realec_dump_2019_2_10_16_7_20_6_41_0\\data/Academic_Writing\\3_exercise\\student19_review.txt\n",
      "C:\\HP_PC\\hp_pc\\Studies\\3rd-year-thesis\\Data\\realec_dump_2019_2_10_16_7_20_6_41_0\\data/Academic_Writing\\3_exercise\\student19_revised.txt\n",
      "C:\\HP_PC\\hp_pc\\Studies\\3rd-year-thesis\\Data\\realec_dump_2019_2_10_16_7_20_6_41_0\\data/Academic_Writing\\3_exercise\\student20_ex.txt\n",
      "C:\\HP_PC\\hp_pc\\Studies\\3rd-year-thesis\\Data\\realec_dump_2019_2_10_16_7_20_6_41_0\\data/Academic_Writing\\3_exercise\\student20_review.txt\n",
      "C:\\HP_PC\\hp_pc\\Studies\\3rd-year-thesis\\Data\\realec_dump_2019_2_10_16_7_20_6_41_0\\data/Academic_Writing\\3_exercise\\student20_revised.txt\n",
      "C:\\HP_PC\\hp_pc\\Studies\\3rd-year-thesis\\Data\\realec_dump_2019_2_10_16_7_20_6_41_0\\data/Academic_Writing\\3_exercise\\student22_revised.txt\n",
      "C:\\HP_PC\\hp_pc\\Studies\\3rd-year-thesis\\Data\\realec_dump_2019_2_10_16_7_20_6_41_0\\data/Academic_Writing\\3_exercise\\student23_ex.txt\n",
      "C:\\HP_PC\\hp_pc\\Studies\\3rd-year-thesis\\Data\\realec_dump_2019_2_10_16_7_20_6_41_0\\data/Academic_Writing\\3_exercise\\student23_review.txt\n",
      "C:\\HP_PC\\hp_pc\\Studies\\3rd-year-thesis\\Data\\realec_dump_2019_2_10_16_7_20_6_41_0\\data/Academic_Writing\\3_exercise\\student23_revised.txt\n"
     ]
    },
    {
     "name": "stdout",
     "output_type": "stream",
     "text": [
      "C:\\HP_PC\\hp_pc\\Studies\\3rd-year-thesis\\Data\\realec_dump_2019_2_10_16_7_20_6_41_0\\data/Academic_Writing\\3_exercise\\student24_ex.txt\n",
      "C:\\HP_PC\\hp_pc\\Studies\\3rd-year-thesis\\Data\\realec_dump_2019_2_10_16_7_20_6_41_0\\data/Academic_Writing\\3_exercise\\student24_review.txt\n",
      "C:\\HP_PC\\hp_pc\\Studies\\3rd-year-thesis\\Data\\realec_dump_2019_2_10_16_7_20_6_41_0\\data/Academic_Writing\\3_exercise\\student25_ex.txt\n",
      "C:\\HP_PC\\hp_pc\\Studies\\3rd-year-thesis\\Data\\realec_dump_2019_2_10_16_7_20_6_41_0\\data/Academic_Writing\\3_exercise\\student25_review.txt\n",
      "C:\\HP_PC\\hp_pc\\Studies\\3rd-year-thesis\\Data\\realec_dump_2019_2_10_16_7_20_6_41_0\\data/Academic_Writing\\3_exercise\\student25_review_revised.txt\n",
      "C:\\HP_PC\\hp_pc\\Studies\\3rd-year-thesis\\Data\\realec_dump_2019_2_10_16_7_20_6_41_0\\data/Academic_Writing\\3_exercise\\student27_ex.txt\n",
      "C:\\HP_PC\\hp_pc\\Studies\\3rd-year-thesis\\Data\\realec_dump_2019_2_10_16_7_20_6_41_0\\data/Academic_Writing\\3_exercise\\student27_review.txt\n",
      "C:\\HP_PC\\hp_pc\\Studies\\3rd-year-thesis\\Data\\realec_dump_2019_2_10_16_7_20_6_41_0\\data/Academic_Writing\\3_exercise\\student27_review_revised.txt\n",
      "C:\\HP_PC\\hp_pc\\Studies\\3rd-year-thesis\\Data\\realec_dump_2019_2_10_16_7_20_6_41_0\\data/Academic_Writing\\3_exercise\\student2_ex.txt\n",
      "C:\\HP_PC\\hp_pc\\Studies\\3rd-year-thesis\\Data\\realec_dump_2019_2_10_16_7_20_6_41_0\\data/Academic_Writing\\3_exercise\\student2_review.txt\n",
      "C:\\HP_PC\\hp_pc\\Studies\\3rd-year-thesis\\Data\\realec_dump_2019_2_10_16_7_20_6_41_0\\data/Academic_Writing\\3_exercise\\student2_review_revised.txt\n",
      "C:\\HP_PC\\hp_pc\\Studies\\3rd-year-thesis\\Data\\realec_dump_2019_2_10_16_7_20_6_41_0\\data/Academic_Writing\\3_exercise\\student30.txt\n",
      "C:\\HP_PC\\hp_pc\\Studies\\3rd-year-thesis\\Data\\realec_dump_2019_2_10_16_7_20_6_41_0\\data/Academic_Writing\\3_exercise\\student31_crit.txt\n",
      "C:\\HP_PC\\hp_pc\\Studies\\3rd-year-thesis\\Data\\realec_dump_2019_2_10_16_7_20_6_41_0\\data/Academic_Writing\\3_exercise\\student31_ex.txt\n",
      "C:\\HP_PC\\hp_pc\\Studies\\3rd-year-thesis\\Data\\realec_dump_2019_2_10_16_7_20_6_41_0\\data/Academic_Writing\\3_exercise\\student31_revised.txt\n",
      "C:\\HP_PC\\hp_pc\\Studies\\3rd-year-thesis\\Data\\realec_dump_2019_2_10_16_7_20_6_41_0\\data/Academic_Writing\\3_exercise\\student32.txt\n",
      "C:\\HP_PC\\hp_pc\\Studies\\3rd-year-thesis\\Data\\realec_dump_2019_2_10_16_7_20_6_41_0\\data/Academic_Writing\\3_exercise\\student32_review.txt\n",
      "C:\\HP_PC\\hp_pc\\Studies\\3rd-year-thesis\\Data\\realec_dump_2019_2_10_16_7_20_6_41_0\\data/Academic_Writing\\3_exercise\\student32_revised.txt\n",
      "C:\\HP_PC\\hp_pc\\Studies\\3rd-year-thesis\\Data\\realec_dump_2019_2_10_16_7_20_6_41_0\\data/Academic_Writing\\3_exercise\\student35_ex.txt\n",
      "C:\\HP_PC\\hp_pc\\Studies\\3rd-year-thesis\\Data\\realec_dump_2019_2_10_16_7_20_6_41_0\\data/Academic_Writing\\3_exercise\\student35_review.txt\n",
      "C:\\HP_PC\\hp_pc\\Studies\\3rd-year-thesis\\Data\\realec_dump_2019_2_10_16_7_20_6_41_0\\data/Academic_Writing\\3_exercise\\student35_review_revised.txt\n",
      "C:\\HP_PC\\hp_pc\\Studies\\3rd-year-thesis\\Data\\realec_dump_2019_2_10_16_7_20_6_41_0\\data/Academic_Writing\\3_exercise\\student37_ex.txt\n",
      "C:\\HP_PC\\hp_pc\\Studies\\3rd-year-thesis\\Data\\realec_dump_2019_2_10_16_7_20_6_41_0\\data/Academic_Writing\\3_exercise\\student37_review.txt\n",
      "C:\\HP_PC\\hp_pc\\Studies\\3rd-year-thesis\\Data\\realec_dump_2019_2_10_16_7_20_6_41_0\\data/Academic_Writing\\3_exercise\\student37_revised.txt\n",
      "C:\\HP_PC\\hp_pc\\Studies\\3rd-year-thesis\\Data\\realec_dump_2019_2_10_16_7_20_6_41_0\\data/Academic_Writing\\3_exercise\\student38.txt\n",
      "C:\\HP_PC\\hp_pc\\Studies\\3rd-year-thesis\\Data\\realec_dump_2019_2_10_16_7_20_6_41_0\\data/Academic_Writing\\3_exercise\\student38_critique.txt\n",
      "C:\\HP_PC\\hp_pc\\Studies\\3rd-year-thesis\\Data\\realec_dump_2019_2_10_16_7_20_6_41_0\\data/Academic_Writing\\3_exercise\\student39_ex.txt\n",
      "C:\\HP_PC\\hp_pc\\Studies\\3rd-year-thesis\\Data\\realec_dump_2019_2_10_16_7_20_6_41_0\\data/Academic_Writing\\3_exercise\\student40_ex.txt\n",
      "C:\\HP_PC\\hp_pc\\Studies\\3rd-year-thesis\\Data\\realec_dump_2019_2_10_16_7_20_6_41_0\\data/Academic_Writing\\3_exercise\\student40_review.txt\n",
      "C:\\HP_PC\\hp_pc\\Studies\\3rd-year-thesis\\Data\\realec_dump_2019_2_10_16_7_20_6_41_0\\data/Academic_Writing\\3_exercise\\student40_review_revised.txt\n",
      "C:\\HP_PC\\hp_pc\\Studies\\3rd-year-thesis\\Data\\realec_dump_2019_2_10_16_7_20_6_41_0\\data/Academic_Writing\\3_exercise\\student41.txt\n",
      "C:\\HP_PC\\hp_pc\\Studies\\3rd-year-thesis\\Data\\realec_dump_2019_2_10_16_7_20_6_41_0\\data/Academic_Writing\\3_exercise\\student41_review.txt\n",
      "C:\\HP_PC\\hp_pc\\Studies\\3rd-year-thesis\\Data\\realec_dump_2019_2_10_16_7_20_6_41_0\\data/Academic_Writing\\3_exercise\\student41_review_revised.txt\n",
      "C:\\HP_PC\\hp_pc\\Studies\\3rd-year-thesis\\Data\\realec_dump_2019_2_10_16_7_20_6_41_0\\data/Academic_Writing\\3_exercise\\student43_ex.txt\n",
      "C:\\HP_PC\\hp_pc\\Studies\\3rd-year-thesis\\Data\\realec_dump_2019_2_10_16_7_20_6_41_0\\data/Academic_Writing\\3_exercise\\student43_review.txt\n",
      "C:\\HP_PC\\hp_pc\\Studies\\3rd-year-thesis\\Data\\realec_dump_2019_2_10_16_7_20_6_41_0\\data/Academic_Writing\\3_exercise\\student44_ex.txt\n",
      "C:\\HP_PC\\hp_pc\\Studies\\3rd-year-thesis\\Data\\realec_dump_2019_2_10_16_7_20_6_41_0\\data/Academic_Writing\\3_exercise\\student44_review.txt\n",
      "C:\\HP_PC\\hp_pc\\Studies\\3rd-year-thesis\\Data\\realec_dump_2019_2_10_16_7_20_6_41_0\\data/Academic_Writing\\3_exercise\\student44_review_revised.txt\n",
      "C:\\HP_PC\\hp_pc\\Studies\\3rd-year-thesis\\Data\\realec_dump_2019_2_10_16_7_20_6_41_0\\data/Academic_Writing\\3_exercise\\student45_ex.txt\n",
      "C:\\HP_PC\\hp_pc\\Studies\\3rd-year-thesis\\Data\\realec_dump_2019_2_10_16_7_20_6_41_0\\data/Academic_Writing\\3_exercise\\student45_review.txt\n",
      "C:\\HP_PC\\hp_pc\\Studies\\3rd-year-thesis\\Data\\realec_dump_2019_2_10_16_7_20_6_41_0\\data/Academic_Writing\\3_exercise\\student45_revised.txt\n",
      "C:\\HP_PC\\hp_pc\\Studies\\3rd-year-thesis\\Data\\realec_dump_2019_2_10_16_7_20_6_41_0\\data/Academic_Writing\\3_exercise\\student4_ex.txt\n",
      "C:\\HP_PC\\hp_pc\\Studies\\3rd-year-thesis\\Data\\realec_dump_2019_2_10_16_7_20_6_41_0\\data/Academic_Writing\\3_exercise\\student4_review.txt\n",
      "C:\\HP_PC\\hp_pc\\Studies\\3rd-year-thesis\\Data\\realec_dump_2019_2_10_16_7_20_6_41_0\\data/Academic_Writing\\3_exercise\\student4_review_revised.txt\n",
      "C:\\HP_PC\\hp_pc\\Studies\\3rd-year-thesis\\Data\\realec_dump_2019_2_10_16_7_20_6_41_0\\data/Academic_Writing\\3_exercise\\student7_ex.txt\n",
      "C:\\HP_PC\\hp_pc\\Studies\\3rd-year-thesis\\Data\\realec_dump_2019_2_10_16_7_20_6_41_0\\data/Academic_Writing\\3_exercise\\student7_review.txt\n",
      "C:\\HP_PC\\hp_pc\\Studies\\3rd-year-thesis\\Data\\realec_dump_2019_2_10_16_7_20_6_41_0\\data/Academic_Writing\\3_exercise\\student7_revised.txt\n",
      "C:\\HP_PC\\hp_pc\\Studies\\3rd-year-thesis\\Data\\realec_dump_2019_2_10_16_7_20_6_41_0\\data/Academic_Writing\\papers\\unknown2_paper.txt\n"
     ]
    },
    {
     "ename": "MultipleObjectsReturned",
     "evalue": "get() returned more than one Lemma -- it returned 2!",
     "output_type": "error",
     "traceback": [
      "\u001b[1;31m---------------------------------------------------------------------------\u001b[0m",
      "\u001b[1;31mMultipleObjectsReturned\u001b[0m                   Traceback (most recent call last)",
      "\u001b[1;32m<ipython-input-43-43db8103e2ba>\u001b[0m in \u001b[0;36m<module>\u001b[1;34m\u001b[0m\n\u001b[1;32m----> 1\u001b[1;33m \u001b[0mbase_filler\u001b[0m\u001b[1;33m.\u001b[0m\u001b[0mprocess_next_n\u001b[0m\u001b[1;33m(\u001b[0m\u001b[1;36m1000\u001b[0m\u001b[1;33m,\u001b[0m \u001b[0mshow_titles\u001b[0m\u001b[1;33m=\u001b[0m\u001b[1;32mTrue\u001b[0m\u001b[1;33m)\u001b[0m\u001b[1;33m\u001b[0m\u001b[1;33m\u001b[0m\u001b[0m\n\u001b[0m",
      "\u001b[1;32m<ipython-input-37-0847619695c3>\u001b[0m in \u001b[0;36mprocess_next_n\u001b[1;34m(self, n, show_titles, show_time)\u001b[0m\n\u001b[0;32m     34\u001b[0m             \u001b[1;32mif\u001b[0m \u001b[0mshow_time\u001b[0m\u001b[1;33m:\u001b[0m\u001b[1;33m\u001b[0m\u001b[1;33m\u001b[0m\u001b[0m\n\u001b[0;32m     35\u001b[0m                 \u001b[0mprint\u001b[0m\u001b[1;33m(\u001b[0m\u001b[0mtime\u001b[0m\u001b[1;33m.\u001b[0m\u001b[0mtime\u001b[0m\u001b[1;33m(\u001b[0m\u001b[1;33m)\u001b[0m \u001b[1;33m-\u001b[0m \u001b[0mst_time\u001b[0m\u001b[1;33m)\u001b[0m\u001b[1;33m\u001b[0m\u001b[1;33m\u001b[0m\u001b[0m\n\u001b[1;32m---> 36\u001b[1;33m             \u001b[0mself\u001b[0m\u001b[1;33m.\u001b[0m\u001b[0mprocess_next\u001b[0m\u001b[1;33m(\u001b[0m\u001b[1;33m)\u001b[0m\u001b[1;33m\u001b[0m\u001b[1;33m\u001b[0m\u001b[0m\n\u001b[0m\u001b[0;32m     37\u001b[0m \u001b[1;33m\u001b[0m\u001b[0m\n\u001b[0;32m     38\u001b[0m \u001b[1;33m\u001b[0m\u001b[0m\n",
      "\u001b[1;32m<ipython-input-37-0847619695c3>\u001b[0m in \u001b[0;36mprocess_next\u001b[1;34m(self)\u001b[0m\n\u001b[0;32m     60\u001b[0m         \u001b[1;31m##saving tokens to db:\u001b[0m\u001b[1;33m\u001b[0m\u001b[1;33m\u001b[0m\u001b[1;33m\u001b[0m\u001b[0m\n\u001b[0;32m     61\u001b[0m         tokens = [try_to_get(Token, text=token.text.lower(), lemma = Lemma.objects.get(text=token.lemma_.lower(),\n\u001b[1;32m---> 62\u001b[1;33m                                                                               pos=token.pos_.upper())) for token in parsed]\n\u001b[0m\u001b[0;32m     63\u001b[0m         \u001b[0mToken\u001b[0m\u001b[1;33m.\u001b[0m\u001b[0mobjects\u001b[0m\u001b[1;33m.\u001b[0m\u001b[0mbulk_create\u001b[0m\u001b[1;33m(\u001b[0m\u001b[1;33m[\u001b[0m\u001b[0mtoken\u001b[0m \u001b[1;32mfor\u001b[0m \u001b[0mtoken\u001b[0m \u001b[1;32min\u001b[0m \u001b[0mtokens\u001b[0m \u001b[1;32mif\u001b[0m \u001b[0mtoken\u001b[0m \u001b[1;32mis\u001b[0m \u001b[1;32mnot\u001b[0m \u001b[1;32mNone\u001b[0m \u001b[1;32mand\u001b[0m \u001b[0mtoken\u001b[0m\u001b[1;33m.\u001b[0m\u001b[0mpk\u001b[0m \u001b[1;32mis\u001b[0m \u001b[1;32mNone\u001b[0m\u001b[1;33m]\u001b[0m\u001b[1;33m)\u001b[0m\u001b[1;33m\u001b[0m\u001b[1;33m\u001b[0m\u001b[0m\n\u001b[0;32m     64\u001b[0m \u001b[1;33m\u001b[0m\u001b[0m\n",
      "\u001b[1;32m<ipython-input-37-0847619695c3>\u001b[0m in \u001b[0;36m<listcomp>\u001b[1;34m(.0)\u001b[0m\n\u001b[0;32m     60\u001b[0m         \u001b[1;31m##saving tokens to db:\u001b[0m\u001b[1;33m\u001b[0m\u001b[1;33m\u001b[0m\u001b[1;33m\u001b[0m\u001b[0m\n\u001b[0;32m     61\u001b[0m         tokens = [try_to_get(Token, text=token.text.lower(), lemma = Lemma.objects.get(text=token.lemma_.lower(),\n\u001b[1;32m---> 62\u001b[1;33m                                                                               pos=token.pos_.upper())) for token in parsed]\n\u001b[0m\u001b[0;32m     63\u001b[0m         \u001b[0mToken\u001b[0m\u001b[1;33m.\u001b[0m\u001b[0mobjects\u001b[0m\u001b[1;33m.\u001b[0m\u001b[0mbulk_create\u001b[0m\u001b[1;33m(\u001b[0m\u001b[1;33m[\u001b[0m\u001b[0mtoken\u001b[0m \u001b[1;32mfor\u001b[0m \u001b[0mtoken\u001b[0m \u001b[1;32min\u001b[0m \u001b[0mtokens\u001b[0m \u001b[1;32mif\u001b[0m \u001b[0mtoken\u001b[0m \u001b[1;32mis\u001b[0m \u001b[1;32mnot\u001b[0m \u001b[1;32mNone\u001b[0m \u001b[1;32mand\u001b[0m \u001b[0mtoken\u001b[0m\u001b[1;33m.\u001b[0m\u001b[0mpk\u001b[0m \u001b[1;32mis\u001b[0m \u001b[1;32mNone\u001b[0m\u001b[1;33m]\u001b[0m\u001b[1;33m)\u001b[0m\u001b[1;33m\u001b[0m\u001b[1;33m\u001b[0m\u001b[0m\n\u001b[0;32m     64\u001b[0m \u001b[1;33m\u001b[0m\u001b[0m\n",
      "\u001b[1;32mC:\\HP_PC\\hp_pc\\Studies\\3rd-year-thesis\\environment\\thesis\\lib\\site-packages\\django\\db\\models\\manager.py\u001b[0m in \u001b[0;36mmanager_method\u001b[1;34m(self, *args, **kwargs)\u001b[0m\n\u001b[0;32m     80\u001b[0m         \u001b[1;32mdef\u001b[0m \u001b[0mcreate_method\u001b[0m\u001b[1;33m(\u001b[0m\u001b[0mname\u001b[0m\u001b[1;33m,\u001b[0m \u001b[0mmethod\u001b[0m\u001b[1;33m)\u001b[0m\u001b[1;33m:\u001b[0m\u001b[1;33m\u001b[0m\u001b[1;33m\u001b[0m\u001b[0m\n\u001b[0;32m     81\u001b[0m             \u001b[1;32mdef\u001b[0m \u001b[0mmanager_method\u001b[0m\u001b[1;33m(\u001b[0m\u001b[0mself\u001b[0m\u001b[1;33m,\u001b[0m \u001b[1;33m*\u001b[0m\u001b[0margs\u001b[0m\u001b[1;33m,\u001b[0m \u001b[1;33m**\u001b[0m\u001b[0mkwargs\u001b[0m\u001b[1;33m)\u001b[0m\u001b[1;33m:\u001b[0m\u001b[1;33m\u001b[0m\u001b[1;33m\u001b[0m\u001b[0m\n\u001b[1;32m---> 82\u001b[1;33m                 \u001b[1;32mreturn\u001b[0m \u001b[0mgetattr\u001b[0m\u001b[1;33m(\u001b[0m\u001b[0mself\u001b[0m\u001b[1;33m.\u001b[0m\u001b[0mget_queryset\u001b[0m\u001b[1;33m(\u001b[0m\u001b[1;33m)\u001b[0m\u001b[1;33m,\u001b[0m \u001b[0mname\u001b[0m\u001b[1;33m)\u001b[0m\u001b[1;33m(\u001b[0m\u001b[1;33m*\u001b[0m\u001b[0margs\u001b[0m\u001b[1;33m,\u001b[0m \u001b[1;33m**\u001b[0m\u001b[0mkwargs\u001b[0m\u001b[1;33m)\u001b[0m\u001b[1;33m\u001b[0m\u001b[1;33m\u001b[0m\u001b[0m\n\u001b[0m\u001b[0;32m     83\u001b[0m             \u001b[0mmanager_method\u001b[0m\u001b[1;33m.\u001b[0m\u001b[0m__name__\u001b[0m \u001b[1;33m=\u001b[0m \u001b[0mmethod\u001b[0m\u001b[1;33m.\u001b[0m\u001b[0m__name__\u001b[0m\u001b[1;33m\u001b[0m\u001b[1;33m\u001b[0m\u001b[0m\n\u001b[0;32m     84\u001b[0m             \u001b[0mmanager_method\u001b[0m\u001b[1;33m.\u001b[0m\u001b[0m__doc__\u001b[0m \u001b[1;33m=\u001b[0m \u001b[0mmethod\u001b[0m\u001b[1;33m.\u001b[0m\u001b[0m__doc__\u001b[0m\u001b[1;33m\u001b[0m\u001b[1;33m\u001b[0m\u001b[0m\n",
      "\u001b[1;32mC:\\HP_PC\\hp_pc\\Studies\\3rd-year-thesis\\environment\\thesis\\lib\\site-packages\\django\\db\\models\\query.py\u001b[0m in \u001b[0;36mget\u001b[1;34m(self, *args, **kwargs)\u001b[0m\n\u001b[0;32m    410\u001b[0m         raise self.model.MultipleObjectsReturned(\n\u001b[0;32m    411\u001b[0m             \u001b[1;34m\"get() returned more than one %s -- it returned %s!\"\u001b[0m \u001b[1;33m%\u001b[0m\u001b[1;33m\u001b[0m\u001b[1;33m\u001b[0m\u001b[0m\n\u001b[1;32m--> 412\u001b[1;33m             \u001b[1;33m(\u001b[0m\u001b[0mself\u001b[0m\u001b[1;33m.\u001b[0m\u001b[0mmodel\u001b[0m\u001b[1;33m.\u001b[0m\u001b[0m_meta\u001b[0m\u001b[1;33m.\u001b[0m\u001b[0mobject_name\u001b[0m\u001b[1;33m,\u001b[0m \u001b[0mnum\u001b[0m\u001b[1;33m)\u001b[0m\u001b[1;33m\u001b[0m\u001b[1;33m\u001b[0m\u001b[0m\n\u001b[0m\u001b[0;32m    413\u001b[0m         )\n\u001b[0;32m    414\u001b[0m \u001b[1;33m\u001b[0m\u001b[0m\n",
      "\u001b[1;31mMultipleObjectsReturned\u001b[0m: get() returned more than one Lemma -- it returned 2!"
     ]
    }
   ],
   "source": [
    "base_filler.process_next_n(1000, show_titles=True)"
   ]
  },
  {
   "cell_type": "code",
   "execution_count": 48,
   "metadata": {},
   "outputs": [
    {
     "data": {
      "text/plain": [
       "(15675, {'corpustool.Lemma': 15675})"
      ]
     },
     "execution_count": 48,
     "metadata": {},
     "output_type": "execute_result"
    }
   ],
   "source": [
    "Document.objects.all().delete()\n",
    "Token.objects.all().delete()\n",
    "Lemma.objects.all().delete()"
   ]
  },
  {
   "cell_type": "code",
   "execution_count": 44,
   "metadata": {},
   "outputs": [
    {
     "data": {
      "text/plain": [
       "1448"
      ]
     },
     "execution_count": 44,
     "metadata": {},
     "output_type": "execute_result"
    }
   ],
   "source": [
    "base_filler.current_text_id"
   ]
  },
  {
   "cell_type": "code",
   "execution_count": 1,
   "metadata": {},
   "outputs": [],
   "source": [
    "import datetime"
   ]
  },
  {
   "cell_type": "code",
   "execution_count": 6,
   "metadata": {},
   "outputs": [
    {
     "data": {
      "text/plain": [
       "6"
      ]
     },
     "execution_count": 6,
     "metadata": {},
     "output_type": "execute_result"
    }
   ],
   "source": [
    "datetime.date.fromisoformat('2008-06-03').month"
   ]
  },
  {
   "cell_type": "code",
   "execution_count": 86,
   "metadata": {},
   "outputs": [
    {
     "data": {
      "text/plain": [
       "<QuerySet [{'id': 3585, 'text': 'This', 'pos': 'DET'}, {'id': 3586, 'text': 'chart', 'pos': 'NOUN'}, {'id': 3587, 'text': 'show', 'pos': 'VERB'}, {'id': 3588, 'text': '-PRON-', 'pos': 'PRON'}, {'id': 3589, 'text': 'the', 'pos': 'DET'}, {'id': 3590, 'text': 'datum', 'pos': 'NOUN'}, {'id': 3591, 'text': 'about', 'pos': 'ADP'}, {'id': 3592, 'text': 'the', 'pos': 'DET'}, {'id': 3593, 'text': 'unemployment', 'pos': 'NOUN'}, {'id': 3594, 'text': 'in', 'pos': 'ADP'}, {'id': 3595, 'text': 'a', 'pos': 'DET'}, {'id': 3596, 'text': 'few', 'pos': 'ADJ'}, {'id': 3597, 'text': 'world', 'pos': 'NOUN'}, {'id': 3598, 'text': 'area', 'pos': 'NOUN'}, {'id': 3599, 'text': '.', 'pos': 'PUNCT'}, {'id': 3600, 'text': 'the', 'pos': 'DET'}, {'id': 3601, 'text': 'datum', 'pos': 'NOUN'}, {'id': 3602, 'text': 'be', 'pos': 'VERB'}, {'id': 3603, 'text': 'divide', 'pos': 'VERB'}, {'id': 3604, 'text': 'into', 'pos': 'ADP'}, '...(remaining elements truncated)...']>"
      ]
     },
     "execution_count": 86,
     "metadata": {},
     "output_type": "execute_result"
    }
   ],
   "source": [
    "Lemma.objects.values()"
   ]
  },
  {
   "cell_type": "code",
   "execution_count": 91,
   "metadata": {},
   "outputs": [],
   "source": [
    "d = Document(title='heh')"
   ]
  },
  {
   "cell_type": "code",
   "execution_count": 92,
   "metadata": {},
   "outputs": [],
   "source": [
    "d.save()"
   ]
  },
  {
   "cell_type": "code",
   "execution_count": 96,
   "metadata": {},
   "outputs": [],
   "source": [
    "a = Document.objects.get(title='heh')"
   ]
  },
  {
   "cell_type": "code",
   "execution_count": 97,
   "metadata": {},
   "outputs": [],
   "source": [
    "b = Document.objects.get(title='heh')"
   ]
  },
  {
   "cell_type": "code",
   "execution_count": 98,
   "metadata": {},
   "outputs": [
    {
     "data": {
      "text/plain": [
       "True"
      ]
     },
     "execution_count": 98,
     "metadata": {},
     "output_type": "execute_result"
    }
   ],
   "source": [
    "a == b"
   ]
  },
  {
   "cell_type": "code",
   "execution_count": 103,
   "metadata": {},
   "outputs": [
    {
     "data": {
      "text/plain": [
       "141"
      ]
     },
     "execution_count": 103,
     "metadata": {},
     "output_type": "execute_result"
    }
   ],
   "source": [
    "hash(a)"
   ]
  },
  {
   "cell_type": "code",
   "execution_count": 104,
   "metadata": {},
   "outputs": [
    {
     "data": {
      "text/plain": [
       "141"
      ]
     },
     "execution_count": 104,
     "metadata": {},
     "output_type": "execute_result"
    }
   ],
   "source": [
    "hash(b)"
   ]
  },
  {
   "cell_type": "code",
   "execution_count": 106,
   "metadata": {},
   "outputs": [
    {
     "data": {
      "text/plain": [
       "-1583079279397609165"
      ]
     },
     "execution_count": 106,
     "metadata": {},
     "output_type": "execute_result"
    }
   ],
   "source": [
    "hash('abc')"
   ]
  },
  {
   "cell_type": "code",
   "execution_count": 107,
   "metadata": {},
   "outputs": [
    {
     "name": "stdout",
     "output_type": "stream",
     "text": [
      "Help on function lru_cache in module functools:\n",
      "\n",
      "lru_cache(maxsize=128, typed=False)\n",
      "    Least-recently-used cache decorator.\n",
      "    \n",
      "    If *maxsize* is set to None, the LRU features are disabled and the cache\n",
      "    can grow without bound.\n",
      "    \n",
      "    If *typed* is True, arguments of different types will be cached separately.\n",
      "    For example, f(3.0) and f(3) will be treated as distinct calls with\n",
      "    distinct results.\n",
      "    \n",
      "    Arguments to the cached function must be hashable.\n",
      "    \n",
      "    View the cache statistics named tuple (hits, misses, maxsize, currsize)\n",
      "    with f.cache_info().  Clear the cache and statistics with f.cache_clear().\n",
      "    Access the underlying function with f.__wrapped__.\n",
      "    \n",
      "    See:  http://en.wikipedia.org/wiki/Cache_algorithms#Least_Recently_Used\n",
      "\n"
     ]
    }
   ],
   "source": [
    "help(lru_cache)"
   ]
  },
  {
   "cell_type": "code",
   "execution_count": 114,
   "metadata": {},
   "outputs": [
    {
     "data": {
      "text/plain": [
       "True"
      ]
     },
     "execution_count": 114,
     "metadata": {},
     "output_type": "execute_result"
    }
   ],
   "source": [
    "{'a':1, 'b':2} in [{'a':1, 'b':2}]"
   ]
  },
  {
   "cell_type": "code",
   "execution_count": 201,
   "metadata": {},
   "outputs": [
    {
     "data": {
      "text/plain": [
       "89"
      ]
     },
     "execution_count": 201,
     "metadata": {},
     "output_type": "execute_result"
    }
   ],
   "source": [
    "len(list(Lemma.objects.values('text', 'pos')))"
   ]
  },
  {
   "cell_type": "code",
   "execution_count": 200,
   "metadata": {},
   "outputs": [
    {
     "data": {
      "text/plain": [
       "89"
      ]
     },
     "execution_count": 200,
     "metadata": {},
     "output_type": "execute_result"
    }
   ],
   "source": [
    "len(set(list((i['text'], i['pos']) for i in Lemma.objects.values('text', 'pos'))))"
   ]
  },
  {
   "cell_type": "code",
   "execution_count": 46,
   "metadata": {},
   "outputs": [],
   "source": [
    "vals = Lemma.objects.values('text', 'pos')"
   ]
  },
  {
   "cell_type": "code",
   "execution_count": 47,
   "metadata": {},
   "outputs": [
    {
     "name": "stdout",
     "output_type": "stream",
     "text": [
      "{'text': '\\u200b1995\\u200b', 'pos': 'PROPN'} <QuerySet [<Lemma: Lemma object (26525)>, <Lemma: Lemma object (26544)>]>\n",
      "{'text': '\\u200b1995', 'pos': 'PROPN'} <QuerySet [<Lemma: Lemma object (26525)>, <Lemma: Lemma object (26544)>]>\n",
      "{'text': 'tugen', 'pos': 'NOUN'} <QuerySet [<Lemma: Lemma object (30953)>, <Lemma: Lemma object (30954)>]>\n",
      "{'text': 'tügen', 'pos': 'NOUN'} <QuerySet [<Lemma: Lemma object (30953)>, <Lemma: Lemma object (30954)>]>\n",
      "{'text': 'gunnen', 'pos': 'NOUN'} <QuerySet [<Lemma: Lemma object (30956)>, <Lemma: Lemma object (30957)>]>\n",
      "{'text': 'günnen', 'pos': 'NOUN'} <QuerySet [<Lemma: Lemma object (30956)>, <Lemma: Lemma object (30957)>]>\n",
      "{'text': 'kunnen', 'pos': 'NOUN'} <QuerySet [<Lemma: Lemma object (30959)>, <Lemma: Lemma object (30960)>]>\n",
      "{'text': 'künnen', 'pos': 'NOUN'} <QuerySet [<Lemma: Lemma object (30959)>, <Lemma: Lemma object (30960)>]>\n",
      "{'text': 'turren', 'pos': 'NOUN'} <QuerySet [<Lemma: Lemma object (30968)>, <Lemma: Lemma object (30969)>]>\n",
      "{'text': 'türren', 'pos': 'NOUN'} <QuerySet [<Lemma: Lemma object (30968)>, <Lemma: Lemma object (30969)>]>\n",
      "{'text': 'mugen', 'pos': 'NOUN'} <QuerySet [<Lemma: Lemma object (30985)>, <Lemma: Lemma object (31097)>]>\n",
      "{'text': 'mügen', 'pos': 'NOUN'} <QuerySet [<Lemma: Lemma object (30985)>, <Lemma: Lemma object (31097)>]>\n"
     ]
    }
   ],
   "source": [
    "for val in vals:\n",
    "    try:\n",
    "        Lemma.objects.get(**val)\n",
    "        pass\n",
    "    except:\n",
    "        print(val, Lemma.objects.filter(**val))"
   ]
  },
  {
   "cell_type": "markdown",
   "metadata": {},
   "source": [
    "Пример запроса - сколько словоупотреблений в текстах девушек"
   ]
  },
  {
   "cell_type": "code",
   "execution_count": 295,
   "metadata": {},
   "outputs": [
    {
     "data": {
      "text/plain": [
       "51749"
      ]
     },
     "execution_count": 295,
     "metadata": {},
     "output_type": "execute_result"
    }
   ],
   "source": [
    "len(Occurence.objects.filter(document__sex='f'))"
   ]
  },
  {
   "cell_type": "markdown",
   "metadata": {},
   "source": [
    "Сколько словоупотреблений в текстах парней:"
   ]
  },
  {
   "cell_type": "code",
   "execution_count": 296,
   "metadata": {},
   "outputs": [
    {
     "data": {
      "text/plain": [
       "39698"
      ]
     },
     "execution_count": 296,
     "metadata": {},
     "output_type": "execute_result"
    }
   ],
   "source": [
    "len(Occurence.objects.filter(document__sex='m'))"
   ]
  },
  {
   "cell_type": "markdown",
   "metadata": {},
   "source": [
    "Средняя длина текста у девушек:"
   ]
  },
  {
   "cell_type": "code",
   "execution_count": 299,
   "metadata": {},
   "outputs": [
    {
     "data": {
      "text/plain": [
       "265.37948717948717"
      ]
     },
     "execution_count": 299,
     "metadata": {},
     "output_type": "execute_result"
    }
   ],
   "source": [
    "len(Occurence.objects.filter(document__sex='f'))/len(Document.objects.filter(sex='f'))"
   ]
  },
  {
   "cell_type": "markdown",
   "metadata": {},
   "source": [
    "У парней:"
   ]
  },
  {
   "cell_type": "code",
   "execution_count": 300,
   "metadata": {},
   "outputs": [
    {
     "data": {
      "text/plain": [
       "277.6083916083916"
      ]
     },
     "execution_count": 300,
     "metadata": {},
     "output_type": "execute_result"
    }
   ],
   "source": [
    "len(Occurence.objects.filter(document__sex='m'))/len(Document.objects.filter(sex='m'))"
   ]
  },
  {
   "cell_type": "code",
   "execution_count": 53,
   "metadata": {},
   "outputs": [
    {
     "data": {
      "text/plain": [
       "'\\ufeffabsurdity'"
      ]
     },
     "execution_count": 53,
     "metadata": {},
     "output_type": "execute_result"
    }
   ],
   "source": [
    "'\\ufeffabsurdity'.strip()"
   ]
  },
  {
   "cell_type": "code",
   "execution_count": 70,
   "metadata": {},
   "outputs": [],
   "source": [
    "Occurences = Occurence.objects.filter(document = Document.objects.all()[3])"
   ]
  },
  {
   "cell_type": "markdown",
   "metadata": {},
   "source": [
    "Попробуем восстановить текст, чтобы проверить что всё нормально:"
   ]
  },
  {
   "cell_type": "code",
   "execution_count": 72,
   "metadata": {},
   "outputs": [
    {
     "name": "stdout",
     "output_type": "stream",
     "text": [
      "  the course of time , the means of getting from one place to another   becom more and more sophisticated . two hundred years ago no one could even imagine that it would be possible to travel flying above the earth without any difficulty , but now it 's quite    to get on a plane and to fly to another city , country or even continent . so let 's imagine how the world of transport can improve in the future . \n",
      "\n",
      " firstly , some people used to joke that the only way to solve the problem of traffic congestions in moscow is to    learn how to teleport or to fly . for me , the idea of teleportation sounds quite unreal ( but not    unreal ) , but flying from one place to another looks quite nice . as far as i know , some means of   flying have already been invented - for instance , there 're some rocket packs . they look like a quite large sack with small jet engines inside .    who uses this thing should put it on their back and , having switched it on , take off . the most advanced kind of such an engine is called \" martin jetpack \" . but using such engines is considered very dangerous , and neither of them are licensed to be used as a mean of transport . after all , i also can understand why - most of this stuff is not secure enough and the use of such things may lead to injuries or to death . as for me , if i had a chance to try a rocket pack now , i would refuse as i would n't   take such a risk . \n",
      "\n",
      " as for teleportation , i am sure that nowadays scientists ca n't invent a way of instant transportation of things and humans without any movement as they have n't succeeded in transportation of large groups of atoms without any destruction of substance . so it is necessary to   a way to provide safe transportation before working on the idea of teleportation , and now it is too early to predict if teleportation i possible or ot . \n",
      "\n",
      " however , i do really like the idea of using solar energy for the means of transport . it does n't sound so   - as teleportation or flying rucksacks and it really may make sense . the supply of fossil fuels is running out , and very soon it may turn out that alternative energy sources will be really vital . the energy provided by the sun is already being used , but , unfortunately , there 're still no cars or trains powered by solar energy . i know that some researches are being carried out to invent a way to do it , and , in fact , if they manage to do it , a new era of development of transport will begin . it will solve not only a problem of lack of energy resources but also some ecological problems as air pollution - solar energy technologies are much more environmentally friendly than the traditional ones . \n",
      "\n",
      " after all , i would like to say that now no one knows what means of transport will look like in the future . it is unlikely that the revolution in the world of transport will happen   but in fact it 's quite unpredictable . maybe it will in 50 years jetpacks will   as common as cars   now and we will look at ordinary cars and trains with a sense of nostalgia for them - who knows ? .. \n",
      "\n",
      "\n",
      "\n",
      " "
     ]
    }
   ],
   "source": [
    "for occ in Occurences:\n",
    "    print(occ.token.text, end=' ')"
   ]
  },
  {
   "cell_type": "code",
   "execution_count": 73,
   "metadata": {},
   "outputs": [
    {
     "data": {
      "text/plain": [
       "<QuerySet []>"
      ]
     },
     "execution_count": 73,
     "metadata": {},
     "output_type": "execute_result"
    }
   ],
   "source": [
    "Token.objects.filter(lemma=None)"
   ]
  },
  {
   "cell_type": "code",
   "execution_count": null,
   "metadata": {},
   "outputs": [],
   "source": [
    "'\\ufeffwhen'.encode('utf')"
   ]
  }
 ],
 "metadata": {
  "kernelspec": {
   "display_name": "Django Shell-Plus",
   "language": "python",
   "name": "django_extensions"
  },
  "language_info": {
   "codemirror_mode": {
    "name": "ipython",
    "version": 3
   },
   "file_extension": ".py",
   "mimetype": "text/x-python",
   "name": "python",
   "nbconvert_exporter": "python",
   "pygments_lexer": "ipython3",
   "version": "3.7.3"
  }
 },
 "nbformat": 4,
 "nbformat_minor": 2
}
